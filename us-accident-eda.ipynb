{
 "cells": [
  {
   "cell_type": "markdown",
   "id": "322ae2c1",
   "metadata": {
    "id": "Fdw-tKncueVT",
    "papermill": {
     "duration": 0.124196,
     "end_time": "2022-04-16T05:14:06.471472",
     "exception": false,
     "start_time": "2022-04-16T05:14:06.347276",
     "status": "completed"
    },
    "tags": []
   },
   "source": [
    "**Importing required libraries**"
   ]
  },
  {
   "cell_type": "code",
   "execution_count": 1,
   "id": "35e60142",
   "metadata": {
    "execution": {
     "iopub.execute_input": "2022-04-16T05:14:06.714600Z",
     "iopub.status.busy": "2022-04-16T05:14:06.714079Z",
     "iopub.status.idle": "2022-04-16T05:14:07.929938Z",
     "shell.execute_reply": "2022-04-16T05:14:07.929211Z"
    },
    "id": "gSDnefikudBB",
    "papermill": {
     "duration": 1.339726,
     "end_time": "2022-04-16T05:14:07.932831",
     "exception": false,
     "start_time": "2022-04-16T05:14:06.593105",
     "status": "completed"
    },
    "tags": []
   },
   "outputs": [],
   "source": [
    "import pandas as pd\n",
    "import numpy as np\n",
    "\n",
    "import matplotlib.pyplot as plt\n",
    "import seaborn as sns"
   ]
  },
  {
   "cell_type": "markdown",
   "id": "b19a5d8d",
   "metadata": {
    "id": "rYMq9R4TvIn1",
    "papermill": {
     "duration": 0.122637,
     "end_time": "2022-04-16T05:14:08.183615",
     "exception": false,
     "start_time": "2022-04-16T05:14:08.060978",
     "status": "completed"
    },
    "tags": []
   },
   "source": [
    "**Data preparation and Cleaning**\n",
    "* Load the dataset using pandas\n",
    "* Get overview about the dataset\n",
    "* Look for any missing values, outliers, or any other data cleaning tasks"
   ]
  },
  {
   "cell_type": "code",
   "execution_count": 2,
   "id": "759c54c8",
   "metadata": {
    "execution": {
     "iopub.execute_input": "2022-04-16T05:14:08.430430Z",
     "iopub.status.busy": "2022-04-16T05:14:08.430036Z",
     "iopub.status.idle": "2022-04-16T05:14:43.028250Z",
     "shell.execute_reply": "2022-04-16T05:14:43.027285Z"
    },
    "id": "6GYpcO9gRRcu",
    "papermill": {
     "duration": 34.72293,
     "end_time": "2022-04-16T05:14:43.030252",
     "exception": false,
     "start_time": "2022-04-16T05:14:08.307322",
     "status": "completed"
    },
    "tags": []
   },
   "outputs": [],
   "source": [
    "#load the dataset\n",
    "data=pd.read_csv(\"../input/us-accidents/US_Accidents_Dec21_updated.csv\")"
   ]
  },
  {
   "cell_type": "code",
   "execution_count": 3,
   "id": "e8825a6e",
   "metadata": {
    "execution": {
     "iopub.execute_input": "2022-04-16T05:14:43.188089Z",
     "iopub.status.busy": "2022-04-16T05:14:43.187816Z",
     "iopub.status.idle": "2022-04-16T05:14:43.228213Z",
     "shell.execute_reply": "2022-04-16T05:14:43.227426Z"
    },
    "id": "lSyHJCiZt4tp",
    "outputId": "8af9c0ed-ba3a-4ccd-e479-48c8aee501cc",
    "papermill": {
     "duration": 0.122296,
     "end_time": "2022-04-16T05:14:43.230787",
     "exception": false,
     "start_time": "2022-04-16T05:14:43.108491",
     "status": "completed"
    },
    "tags": []
   },
   "outputs": [
    {
     "data": {
      "text/html": [
       "<div>\n",
       "<style scoped>\n",
       "    .dataframe tbody tr th:only-of-type {\n",
       "        vertical-align: middle;\n",
       "    }\n",
       "\n",
       "    .dataframe tbody tr th {\n",
       "        vertical-align: top;\n",
       "    }\n",
       "\n",
       "    .dataframe thead th {\n",
       "        text-align: right;\n",
       "    }\n",
       "</style>\n",
       "<table border=\"1\" class=\"dataframe\">\n",
       "  <thead>\n",
       "    <tr style=\"text-align: right;\">\n",
       "      <th></th>\n",
       "      <th>ID</th>\n",
       "      <th>Severity</th>\n",
       "      <th>Start_Time</th>\n",
       "      <th>End_Time</th>\n",
       "      <th>Start_Lat</th>\n",
       "      <th>Start_Lng</th>\n",
       "      <th>End_Lat</th>\n",
       "      <th>End_Lng</th>\n",
       "      <th>Distance(mi)</th>\n",
       "      <th>Description</th>\n",
       "      <th>...</th>\n",
       "      <th>Roundabout</th>\n",
       "      <th>Station</th>\n",
       "      <th>Stop</th>\n",
       "      <th>Traffic_Calming</th>\n",
       "      <th>Traffic_Signal</th>\n",
       "      <th>Turning_Loop</th>\n",
       "      <th>Sunrise_Sunset</th>\n",
       "      <th>Civil_Twilight</th>\n",
       "      <th>Nautical_Twilight</th>\n",
       "      <th>Astronomical_Twilight</th>\n",
       "    </tr>\n",
       "  </thead>\n",
       "  <tbody>\n",
       "    <tr>\n",
       "      <th>0</th>\n",
       "      <td>A-1</td>\n",
       "      <td>3</td>\n",
       "      <td>2016-02-08 00:37:08</td>\n",
       "      <td>2016-02-08 06:37:08</td>\n",
       "      <td>40.108910</td>\n",
       "      <td>-83.092860</td>\n",
       "      <td>40.112060</td>\n",
       "      <td>-83.031870</td>\n",
       "      <td>3.230</td>\n",
       "      <td>Between Sawmill Rd/Exit 20 and OH-315/Olentang...</td>\n",
       "      <td>...</td>\n",
       "      <td>False</td>\n",
       "      <td>False</td>\n",
       "      <td>False</td>\n",
       "      <td>False</td>\n",
       "      <td>False</td>\n",
       "      <td>False</td>\n",
       "      <td>Night</td>\n",
       "      <td>Night</td>\n",
       "      <td>Night</td>\n",
       "      <td>Night</td>\n",
       "    </tr>\n",
       "    <tr>\n",
       "      <th>1</th>\n",
       "      <td>A-2</td>\n",
       "      <td>2</td>\n",
       "      <td>2016-02-08 05:56:20</td>\n",
       "      <td>2016-02-08 11:56:20</td>\n",
       "      <td>39.865420</td>\n",
       "      <td>-84.062800</td>\n",
       "      <td>39.865010</td>\n",
       "      <td>-84.048730</td>\n",
       "      <td>0.747</td>\n",
       "      <td>At OH-4/OH-235/Exit 41 - Accident.</td>\n",
       "      <td>...</td>\n",
       "      <td>False</td>\n",
       "      <td>False</td>\n",
       "      <td>False</td>\n",
       "      <td>False</td>\n",
       "      <td>False</td>\n",
       "      <td>False</td>\n",
       "      <td>Night</td>\n",
       "      <td>Night</td>\n",
       "      <td>Night</td>\n",
       "      <td>Night</td>\n",
       "    </tr>\n",
       "    <tr>\n",
       "      <th>2</th>\n",
       "      <td>A-3</td>\n",
       "      <td>2</td>\n",
       "      <td>2016-02-08 06:15:39</td>\n",
       "      <td>2016-02-08 12:15:39</td>\n",
       "      <td>39.102660</td>\n",
       "      <td>-84.524680</td>\n",
       "      <td>39.102090</td>\n",
       "      <td>-84.523960</td>\n",
       "      <td>0.055</td>\n",
       "      <td>At I-71/US-50/Exit 1 - Accident.</td>\n",
       "      <td>...</td>\n",
       "      <td>False</td>\n",
       "      <td>False</td>\n",
       "      <td>False</td>\n",
       "      <td>False</td>\n",
       "      <td>False</td>\n",
       "      <td>False</td>\n",
       "      <td>Night</td>\n",
       "      <td>Night</td>\n",
       "      <td>Night</td>\n",
       "      <td>Day</td>\n",
       "    </tr>\n",
       "    <tr>\n",
       "      <th>3</th>\n",
       "      <td>A-4</td>\n",
       "      <td>2</td>\n",
       "      <td>2016-02-08 06:51:45</td>\n",
       "      <td>2016-02-08 12:51:45</td>\n",
       "      <td>41.062130</td>\n",
       "      <td>-81.537840</td>\n",
       "      <td>41.062170</td>\n",
       "      <td>-81.535470</td>\n",
       "      <td>0.123</td>\n",
       "      <td>At Dart Ave/Exit 21 - Accident.</td>\n",
       "      <td>...</td>\n",
       "      <td>False</td>\n",
       "      <td>False</td>\n",
       "      <td>False</td>\n",
       "      <td>False</td>\n",
       "      <td>False</td>\n",
       "      <td>False</td>\n",
       "      <td>Night</td>\n",
       "      <td>Night</td>\n",
       "      <td>Day</td>\n",
       "      <td>Day</td>\n",
       "    </tr>\n",
       "    <tr>\n",
       "      <th>4</th>\n",
       "      <td>A-5</td>\n",
       "      <td>3</td>\n",
       "      <td>2016-02-08 07:53:43</td>\n",
       "      <td>2016-02-08 13:53:43</td>\n",
       "      <td>39.172393</td>\n",
       "      <td>-84.492792</td>\n",
       "      <td>39.170476</td>\n",
       "      <td>-84.501798</td>\n",
       "      <td>0.500</td>\n",
       "      <td>At Mitchell Ave/Exit 6 - Accident.</td>\n",
       "      <td>...</td>\n",
       "      <td>False</td>\n",
       "      <td>False</td>\n",
       "      <td>False</td>\n",
       "      <td>False</td>\n",
       "      <td>False</td>\n",
       "      <td>False</td>\n",
       "      <td>Day</td>\n",
       "      <td>Day</td>\n",
       "      <td>Day</td>\n",
       "      <td>Day</td>\n",
       "    </tr>\n",
       "  </tbody>\n",
       "</table>\n",
       "<p>5 rows × 47 columns</p>\n",
       "</div>"
      ],
      "text/plain": [
       "    ID  Severity           Start_Time             End_Time  Start_Lat  \\\n",
       "0  A-1         3  2016-02-08 00:37:08  2016-02-08 06:37:08  40.108910   \n",
       "1  A-2         2  2016-02-08 05:56:20  2016-02-08 11:56:20  39.865420   \n",
       "2  A-3         2  2016-02-08 06:15:39  2016-02-08 12:15:39  39.102660   \n",
       "3  A-4         2  2016-02-08 06:51:45  2016-02-08 12:51:45  41.062130   \n",
       "4  A-5         3  2016-02-08 07:53:43  2016-02-08 13:53:43  39.172393   \n",
       "\n",
       "   Start_Lng    End_Lat    End_Lng  Distance(mi)  \\\n",
       "0 -83.092860  40.112060 -83.031870         3.230   \n",
       "1 -84.062800  39.865010 -84.048730         0.747   \n",
       "2 -84.524680  39.102090 -84.523960         0.055   \n",
       "3 -81.537840  41.062170 -81.535470         0.123   \n",
       "4 -84.492792  39.170476 -84.501798         0.500   \n",
       "\n",
       "                                         Description  ...  Roundabout Station  \\\n",
       "0  Between Sawmill Rd/Exit 20 and OH-315/Olentang...  ...       False   False   \n",
       "1                 At OH-4/OH-235/Exit 41 - Accident.  ...       False   False   \n",
       "2                   At I-71/US-50/Exit 1 - Accident.  ...       False   False   \n",
       "3                    At Dart Ave/Exit 21 - Accident.  ...       False   False   \n",
       "4                 At Mitchell Ave/Exit 6 - Accident.  ...       False   False   \n",
       "\n",
       "    Stop Traffic_Calming Traffic_Signal Turning_Loop Sunrise_Sunset  \\\n",
       "0  False           False          False        False          Night   \n",
       "1  False           False          False        False          Night   \n",
       "2  False           False          False        False          Night   \n",
       "3  False           False          False        False          Night   \n",
       "4  False           False          False        False            Day   \n",
       "\n",
       "  Civil_Twilight Nautical_Twilight Astronomical_Twilight  \n",
       "0          Night             Night                 Night  \n",
       "1          Night             Night                 Night  \n",
       "2          Night             Night                   Day  \n",
       "3          Night               Day                   Day  \n",
       "4            Day               Day                   Day  \n",
       "\n",
       "[5 rows x 47 columns]"
      ]
     },
     "execution_count": 3,
     "metadata": {},
     "output_type": "execute_result"
    }
   ],
   "source": [
    "data.head()"
   ]
  },
  {
   "cell_type": "code",
   "execution_count": 4,
   "id": "688cbccb",
   "metadata": {
    "execution": {
     "iopub.execute_input": "2022-04-16T05:14:43.422151Z",
     "iopub.status.busy": "2022-04-16T05:14:43.421874Z",
     "iopub.status.idle": "2022-04-16T05:14:43.427923Z",
     "shell.execute_reply": "2022-04-16T05:14:43.427520Z"
    },
    "id": "LMdx0Q8ZuBHg",
    "outputId": "94e701c4-bd03-4a8c-c4ec-3dbcc43c7c74",
    "papermill": {
     "duration": 0.085972,
     "end_time": "2022-04-16T05:14:43.429356",
     "exception": false,
     "start_time": "2022-04-16T05:14:43.343384",
     "status": "completed"
    },
    "tags": []
   },
   "outputs": [
    {
     "data": {
      "text/plain": [
       "Index(['ID', 'Severity', 'Start_Time', 'End_Time', 'Start_Lat', 'Start_Lng',\n",
       "       'End_Lat', 'End_Lng', 'Distance(mi)', 'Description', 'Number', 'Street',\n",
       "       'Side', 'City', 'County', 'State', 'Zipcode', 'Country', 'Timezone',\n",
       "       'Airport_Code', 'Weather_Timestamp', 'Temperature(F)', 'Wind_Chill(F)',\n",
       "       'Humidity(%)', 'Pressure(in)', 'Visibility(mi)', 'Wind_Direction',\n",
       "       'Wind_Speed(mph)', 'Precipitation(in)', 'Weather_Condition', 'Amenity',\n",
       "       'Bump', 'Crossing', 'Give_Way', 'Junction', 'No_Exit', 'Railway',\n",
       "       'Roundabout', 'Station', 'Stop', 'Traffic_Calming', 'Traffic_Signal',\n",
       "       'Turning_Loop', 'Sunrise_Sunset', 'Civil_Twilight', 'Nautical_Twilight',\n",
       "       'Astronomical_Twilight'],\n",
       "      dtype='object')"
      ]
     },
     "execution_count": 4,
     "metadata": {},
     "output_type": "execute_result"
    }
   ],
   "source": [
    "data.columns"
   ]
  },
  {
   "cell_type": "markdown",
   "id": "0e5a2a00",
   "metadata": {
    "id": "FOj1FAwny6ic",
    "papermill": {
     "duration": 0.079285,
     "end_time": "2022-04-16T05:14:43.585558",
     "exception": false,
     "start_time": "2022-04-16T05:14:43.506273",
     "status": "completed"
    },
    "tags": []
   },
   "source": [
    "**Some thoughts on columns:-**\n",
    "1. There are two columns 'County' and 'Country' as well so check if both are same or not.\n",
    "2. There are three types of Twilight: \"Civil_Twilight\", \"Nautical_Twilight\" and \"Astronomical_Twilight\". What are they?\n",
    "3. 'Number', 'Street', 'Side', 'City', 'County', 'State', 'Zipcode', 'Country' :- these are the fields which are similar, so check if there is any redundancy or not."
   ]
  },
  {
   "cell_type": "code",
   "execution_count": 5,
   "id": "0a9ccc65",
   "metadata": {
    "execution": {
     "iopub.execute_input": "2022-04-16T05:14:43.744937Z",
     "iopub.status.busy": "2022-04-16T05:14:43.744309Z",
     "iopub.status.idle": "2022-04-16T05:14:43.748839Z",
     "shell.execute_reply": "2022-04-16T05:14:43.748062Z"
    },
    "id": "VBCJKjRQy75_",
    "papermill": {
     "duration": 0.085676,
     "end_time": "2022-04-16T05:14:43.750288",
     "exception": false,
     "start_time": "2022-04-16T05:14:43.664612",
     "status": "completed"
    },
    "tags": []
   },
   "outputs": [],
   "source": [
    "# creating the two columns, one to store list of features to drop and one to add features that are need to be added\n",
    "drop_list=[]\n",
    "feature_list=[]"
   ]
  },
  {
   "cell_type": "code",
   "execution_count": 6,
   "id": "5713d521",
   "metadata": {
    "execution": {
     "iopub.execute_input": "2022-04-16T05:14:43.909129Z",
     "iopub.status.busy": "2022-04-16T05:14:43.908612Z",
     "iopub.status.idle": "2022-04-16T05:14:43.934797Z",
     "shell.execute_reply": "2022-04-16T05:14:43.933254Z"
    },
    "id": "VLc5r9MfPvV1",
    "outputId": "a6d42721-6974-4d89-9c88-98b00324cc77",
    "papermill": {
     "duration": 0.108016,
     "end_time": "2022-04-16T05:14:43.936836",
     "exception": false,
     "start_time": "2022-04-16T05:14:43.828820",
     "status": "completed"
    },
    "tags": []
   },
   "outputs": [
    {
     "name": "stdout",
     "output_type": "stream",
     "text": [
      "<class 'pandas.core.frame.DataFrame'>\n",
      "RangeIndex: 2845342 entries, 0 to 2845341\n",
      "Data columns (total 47 columns):\n",
      " #   Column                 Dtype  \n",
      "---  ------                 -----  \n",
      " 0   ID                     object \n",
      " 1   Severity               int64  \n",
      " 2   Start_Time             object \n",
      " 3   End_Time               object \n",
      " 4   Start_Lat              float64\n",
      " 5   Start_Lng              float64\n",
      " 6   End_Lat                float64\n",
      " 7   End_Lng                float64\n",
      " 8   Distance(mi)           float64\n",
      " 9   Description            object \n",
      " 10  Number                 float64\n",
      " 11  Street                 object \n",
      " 12  Side                   object \n",
      " 13  City                   object \n",
      " 14  County                 object \n",
      " 15  State                  object \n",
      " 16  Zipcode                object \n",
      " 17  Country                object \n",
      " 18  Timezone               object \n",
      " 19  Airport_Code           object \n",
      " 20  Weather_Timestamp      object \n",
      " 21  Temperature(F)         float64\n",
      " 22  Wind_Chill(F)          float64\n",
      " 23  Humidity(%)            float64\n",
      " 24  Pressure(in)           float64\n",
      " 25  Visibility(mi)         float64\n",
      " 26  Wind_Direction         object \n",
      " 27  Wind_Speed(mph)        float64\n",
      " 28  Precipitation(in)      float64\n",
      " 29  Weather_Condition      object \n",
      " 30  Amenity                bool   \n",
      " 31  Bump                   bool   \n",
      " 32  Crossing               bool   \n",
      " 33  Give_Way               bool   \n",
      " 34  Junction               bool   \n",
      " 35  No_Exit                bool   \n",
      " 36  Railway                bool   \n",
      " 37  Roundabout             bool   \n",
      " 38  Station                bool   \n",
      " 39  Stop                   bool   \n",
      " 40  Traffic_Calming        bool   \n",
      " 41  Traffic_Signal         bool   \n",
      " 42  Turning_Loop           bool   \n",
      " 43  Sunrise_Sunset         object \n",
      " 44  Civil_Twilight         object \n",
      " 45  Nautical_Twilight      object \n",
      " 46  Astronomical_Twilight  object \n",
      "dtypes: bool(13), float64(13), int64(1), object(20)\n",
      "memory usage: 773.4+ MB\n"
     ]
    }
   ],
   "source": [
    "data.info()"
   ]
  },
  {
   "cell_type": "markdown",
   "id": "98583dee",
   "metadata": {
    "id": "G1KobIkCwq0P",
    "papermill": {
     "duration": 0.0802,
     "end_time": "2022-04-16T05:14:44.096505",
     "exception": false,
     "start_time": "2022-04-16T05:14:44.016305",
     "status": "completed"
    },
    "tags": []
   },
   "source": []
  },
  {
   "cell_type": "code",
   "execution_count": 7,
   "id": "4fe217a0",
   "metadata": {
    "execution": {
     "iopub.execute_input": "2022-04-16T05:14:44.258560Z",
     "iopub.status.busy": "2022-04-16T05:14:44.258293Z",
     "iopub.status.idle": "2022-04-16T05:14:44.432035Z",
     "shell.execute_reply": "2022-04-16T05:14:44.430818Z"
    },
    "id": "y5Km64-Att5c",
    "outputId": "c5e6da09-f2c9-42b9-dc52-1a81b39de6b7",
    "papermill": {
     "duration": 0.257308,
     "end_time": "2022-04-16T05:14:44.434099",
     "exception": false,
     "start_time": "2022-04-16T05:14:44.176791",
     "status": "completed"
    },
    "tags": []
   },
   "outputs": [
    {
     "data": {
      "text/html": [
       "<div>\n",
       "<style scoped>\n",
       "    .dataframe tbody tr th:only-of-type {\n",
       "        vertical-align: middle;\n",
       "    }\n",
       "\n",
       "    .dataframe tbody tr th {\n",
       "        vertical-align: top;\n",
       "    }\n",
       "\n",
       "    .dataframe thead th {\n",
       "        text-align: right;\n",
       "    }\n",
       "</style>\n",
       "<table border=\"1\" class=\"dataframe\">\n",
       "  <thead>\n",
       "    <tr style=\"text-align: right;\">\n",
       "      <th></th>\n",
       "      <th>Number</th>\n",
       "      <th>Street</th>\n",
       "      <th>Side</th>\n",
       "      <th>City</th>\n",
       "      <th>County</th>\n",
       "      <th>State</th>\n",
       "      <th>Zipcode</th>\n",
       "      <th>Country</th>\n",
       "    </tr>\n",
       "  </thead>\n",
       "  <tbody>\n",
       "    <tr>\n",
       "      <th>0</th>\n",
       "      <td>NaN</td>\n",
       "      <td>Outerbelt E</td>\n",
       "      <td>R</td>\n",
       "      <td>Dublin</td>\n",
       "      <td>Franklin</td>\n",
       "      <td>OH</td>\n",
       "      <td>43017</td>\n",
       "      <td>US</td>\n",
       "    </tr>\n",
       "    <tr>\n",
       "      <th>1</th>\n",
       "      <td>NaN</td>\n",
       "      <td>I-70 E</td>\n",
       "      <td>R</td>\n",
       "      <td>Dayton</td>\n",
       "      <td>Montgomery</td>\n",
       "      <td>OH</td>\n",
       "      <td>45424</td>\n",
       "      <td>US</td>\n",
       "    </tr>\n",
       "    <tr>\n",
       "      <th>2</th>\n",
       "      <td>NaN</td>\n",
       "      <td>I-75 S</td>\n",
       "      <td>R</td>\n",
       "      <td>Cincinnati</td>\n",
       "      <td>Hamilton</td>\n",
       "      <td>OH</td>\n",
       "      <td>45203</td>\n",
       "      <td>US</td>\n",
       "    </tr>\n",
       "    <tr>\n",
       "      <th>3</th>\n",
       "      <td>NaN</td>\n",
       "      <td>I-77 N</td>\n",
       "      <td>R</td>\n",
       "      <td>Akron</td>\n",
       "      <td>Summit</td>\n",
       "      <td>OH</td>\n",
       "      <td>44311</td>\n",
       "      <td>US</td>\n",
       "    </tr>\n",
       "    <tr>\n",
       "      <th>4</th>\n",
       "      <td>NaN</td>\n",
       "      <td>I-75 S</td>\n",
       "      <td>R</td>\n",
       "      <td>Cincinnati</td>\n",
       "      <td>Hamilton</td>\n",
       "      <td>OH</td>\n",
       "      <td>45217</td>\n",
       "      <td>US</td>\n",
       "    </tr>\n",
       "    <tr>\n",
       "      <th>...</th>\n",
       "      <td>...</td>\n",
       "      <td>...</td>\n",
       "      <td>...</td>\n",
       "      <td>...</td>\n",
       "      <td>...</td>\n",
       "      <td>...</td>\n",
       "      <td>...</td>\n",
       "      <td>...</td>\n",
       "    </tr>\n",
       "    <tr>\n",
       "      <th>2845337</th>\n",
       "      <td>NaN</td>\n",
       "      <td>Pomona Fwy E</td>\n",
       "      <td>R</td>\n",
       "      <td>Riverside</td>\n",
       "      <td>Riverside</td>\n",
       "      <td>CA</td>\n",
       "      <td>92501</td>\n",
       "      <td>US</td>\n",
       "    </tr>\n",
       "    <tr>\n",
       "      <th>2845338</th>\n",
       "      <td>NaN</td>\n",
       "      <td>I-8 W</td>\n",
       "      <td>R</td>\n",
       "      <td>San Diego</td>\n",
       "      <td>San Diego</td>\n",
       "      <td>CA</td>\n",
       "      <td>92108</td>\n",
       "      <td>US</td>\n",
       "    </tr>\n",
       "    <tr>\n",
       "      <th>2845339</th>\n",
       "      <td>NaN</td>\n",
       "      <td>Garden Grove Fwy</td>\n",
       "      <td>R</td>\n",
       "      <td>Orange</td>\n",
       "      <td>Orange</td>\n",
       "      <td>CA</td>\n",
       "      <td>92866</td>\n",
       "      <td>US</td>\n",
       "    </tr>\n",
       "    <tr>\n",
       "      <th>2845340</th>\n",
       "      <td>NaN</td>\n",
       "      <td>San Diego Fwy S</td>\n",
       "      <td>R</td>\n",
       "      <td>Culver City</td>\n",
       "      <td>Los Angeles</td>\n",
       "      <td>CA</td>\n",
       "      <td>90230</td>\n",
       "      <td>US</td>\n",
       "    </tr>\n",
       "    <tr>\n",
       "      <th>2845341</th>\n",
       "      <td>NaN</td>\n",
       "      <td>CA-210 W</td>\n",
       "      <td>R</td>\n",
       "      <td>Highland</td>\n",
       "      <td>San Bernardino</td>\n",
       "      <td>CA</td>\n",
       "      <td>92346</td>\n",
       "      <td>US</td>\n",
       "    </tr>\n",
       "  </tbody>\n",
       "</table>\n",
       "<p>2845342 rows × 8 columns</p>\n",
       "</div>"
      ],
      "text/plain": [
       "         Number            Street Side         City          County State  \\\n",
       "0           NaN       Outerbelt E    R       Dublin        Franklin    OH   \n",
       "1           NaN            I-70 E    R       Dayton      Montgomery    OH   \n",
       "2           NaN            I-75 S    R   Cincinnati        Hamilton    OH   \n",
       "3           NaN            I-77 N    R        Akron          Summit    OH   \n",
       "4           NaN            I-75 S    R   Cincinnati        Hamilton    OH   \n",
       "...         ...               ...  ...          ...             ...   ...   \n",
       "2845337     NaN      Pomona Fwy E    R    Riverside       Riverside    CA   \n",
       "2845338     NaN             I-8 W    R    San Diego       San Diego    CA   \n",
       "2845339     NaN  Garden Grove Fwy    R       Orange          Orange    CA   \n",
       "2845340     NaN   San Diego Fwy S    R  Culver City     Los Angeles    CA   \n",
       "2845341     NaN          CA-210 W    R     Highland  San Bernardino    CA   \n",
       "\n",
       "        Zipcode Country  \n",
       "0         43017      US  \n",
       "1         45424      US  \n",
       "2         45203      US  \n",
       "3         44311      US  \n",
       "4         45217      US  \n",
       "...         ...     ...  \n",
       "2845337   92501      US  \n",
       "2845338   92108      US  \n",
       "2845339   92866      US  \n",
       "2845340   90230      US  \n",
       "2845341   92346      US  \n",
       "\n",
       "[2845342 rows x 8 columns]"
      ]
     },
     "execution_count": 7,
     "metadata": {},
     "output_type": "execute_result"
    }
   ],
   "source": [
    "# answering the third one: \n",
    "#'Number', 'Street', 'Side', 'City', 'County', 'State', 'Zipcode', 'Country'\n",
    "#  these are the fields which are similar, so check if there is any redundancy or not.\n",
    "data[['Number', 'Street', 'Side', 'City', 'County', 'State', 'Zipcode', 'Country']]"
   ]
  },
  {
   "cell_type": "markdown",
   "id": "81c24096",
   "metadata": {
    "id": "qEq8BKVxyHy4",
    "papermill": {
     "duration": 0.122748,
     "end_time": "2022-04-16T05:14:44.680193",
     "exception": false,
     "start_time": "2022-04-16T05:14:44.557445",
     "status": "completed"
    },
    "tags": []
   },
   "source": [
    "### Number\n",
    "Shows the street number in address field."
   ]
  },
  {
   "cell_type": "code",
   "execution_count": 8,
   "id": "b1954ed5",
   "metadata": {
    "execution": {
     "iopub.execute_input": "2022-04-16T05:14:44.861191Z",
     "iopub.status.busy": "2022-04-16T05:14:44.860915Z",
     "iopub.status.idle": "2022-04-16T05:14:44.871206Z",
     "shell.execute_reply": "2022-04-16T05:14:44.870478Z"
    },
    "id": "WcHB8BPHwhKh",
    "outputId": "6f000b6e-3a63-4a72-e603-988e8c4ab23f",
    "papermill": {
     "duration": 0.093742,
     "end_time": "2022-04-16T05:14:44.872900",
     "exception": false,
     "start_time": "2022-04-16T05:14:44.779158",
     "status": "completed"
    },
    "tags": []
   },
   "outputs": [
    {
     "data": {
      "text/plain": [
       "0.6129003121593116"
      ]
     },
     "execution_count": 8,
     "metadata": {},
     "output_type": "execute_result"
    }
   ],
   "source": [
    "#checking the Number column as we can see so much of nan values\n",
    "data['Number'].isnull().sum() / len(data)"
   ]
  },
  {
   "cell_type": "markdown",
   "id": "ec9629f7",
   "metadata": {
    "id": "cJrkZUvyw4P3",
    "papermill": {
     "duration": 0.079541,
     "end_time": "2022-04-16T05:14:45.032327",
     "exception": false,
     "start_time": "2022-04-16T05:14:44.952786",
     "status": "completed"
    },
    "tags": []
   },
   "source": [
    "we can see more than 50% percent values are missing and it is difficult to work with so many missing values. Hence we will drop the column."
   ]
  },
  {
   "cell_type": "code",
   "execution_count": 9,
   "id": "079e4cae",
   "metadata": {
    "execution": {
     "iopub.execute_input": "2022-04-16T05:14:45.193903Z",
     "iopub.status.busy": "2022-04-16T05:14:45.193639Z",
     "iopub.status.idle": "2022-04-16T05:14:45.197485Z",
     "shell.execute_reply": "2022-04-16T05:14:45.196721Z"
    },
    "id": "VCVaFKeVzrMJ",
    "papermill": {
     "duration": 0.086641,
     "end_time": "2022-04-16T05:14:45.199069",
     "exception": false,
     "start_time": "2022-04-16T05:14:45.112428",
     "status": "completed"
    },
    "tags": []
   },
   "outputs": [],
   "source": [
    "drop_list.append('Number')"
   ]
  },
  {
   "cell_type": "markdown",
   "id": "0c01dedf",
   "metadata": {
    "id": "lJKPIhE1yLsT",
    "papermill": {
     "duration": 0.078334,
     "end_time": "2022-04-16T05:14:45.356806",
     "exception": false,
     "start_time": "2022-04-16T05:14:45.278472",
     "status": "completed"
    },
    "tags": []
   },
   "source": [
    "### Street\n",
    "Shows the street name in address field."
   ]
  },
  {
   "cell_type": "code",
   "execution_count": 10,
   "id": "47536e3b",
   "metadata": {
    "execution": {
     "iopub.execute_input": "2022-04-16T05:14:45.517562Z",
     "iopub.status.busy": "2022-04-16T05:14:45.517349Z",
     "iopub.status.idle": "2022-04-16T05:14:45.964810Z",
     "shell.execute_reply": "2022-04-16T05:14:45.963828Z"
    },
    "id": "124EfoC2x5wk",
    "outputId": "eaf47f82-2e4c-4118-921f-0e5ed8521035",
    "papermill": {
     "duration": 0.531286,
     "end_time": "2022-04-16T05:14:45.966829",
     "exception": false,
     "start_time": "2022-04-16T05:14:45.435543",
     "status": "completed"
    },
    "tags": []
   },
   "outputs": [
    {
     "data": {
      "text/plain": [
       "159651"
      ]
     },
     "execution_count": 10,
     "metadata": {},
     "output_type": "execute_result"
    }
   ],
   "source": [
    "data['Street'].nunique()"
   ]
  },
  {
   "cell_type": "markdown",
   "id": "cc79d9b2",
   "metadata": {
    "id": "0eKn6wCHym4U",
    "papermill": {
     "duration": 0.124113,
     "end_time": "2022-04-16T05:14:46.212846",
     "exception": false,
     "start_time": "2022-04-16T05:14:46.088733",
     "status": "completed"
    },
    "tags": []
   },
   "source": [
    "There are so many unique value for street, it will be good to drop this feature. \n"
   ]
  },
  {
   "cell_type": "code",
   "execution_count": 11,
   "id": "ebb05e1a",
   "metadata": {
    "execution": {
     "iopub.execute_input": "2022-04-16T05:14:46.460770Z",
     "iopub.status.busy": "2022-04-16T05:14:46.460471Z",
     "iopub.status.idle": "2022-04-16T05:14:46.463498Z",
     "shell.execute_reply": "2022-04-16T05:14:46.463090Z"
    },
    "id": "fj7eETVBy1DG",
    "papermill": {
     "duration": 0.129589,
     "end_time": "2022-04-16T05:14:46.465522",
     "exception": false,
     "start_time": "2022-04-16T05:14:46.335933",
     "status": "completed"
    },
    "tags": []
   },
   "outputs": [],
   "source": [
    "drop_list.append('Street')"
   ]
  },
  {
   "cell_type": "markdown",
   "id": "3f617f5f",
   "metadata": {
    "id": "HgzebwHGzVop",
    "papermill": {
     "duration": 0.078659,
     "end_time": "2022-04-16T05:14:46.649429",
     "exception": false,
     "start_time": "2022-04-16T05:14:46.570770",
     "status": "completed"
    },
    "tags": []
   },
   "source": [
    "### Side\n",
    "Shows the relative side of the street (Right/Left) in address field."
   ]
  },
  {
   "cell_type": "code",
   "execution_count": 12,
   "id": "9809ad61",
   "metadata": {
    "execution": {
     "iopub.execute_input": "2022-04-16T05:14:46.808549Z",
     "iopub.status.busy": "2022-04-16T05:14:46.808175Z",
     "iopub.status.idle": "2022-04-16T05:14:46.913797Z",
     "shell.execute_reply": "2022-04-16T05:14:46.912814Z"
    },
    "id": "7gJyVLZozVMo",
    "outputId": "d866dc61-8c3c-4e2c-ef8d-a18fbc97038c",
    "papermill": {
     "duration": 0.187466,
     "end_time": "2022-04-16T05:14:46.915766",
     "exception": false,
     "start_time": "2022-04-16T05:14:46.728300",
     "status": "completed"
    },
    "tags": []
   },
   "outputs": [
    {
     "data": {
      "text/plain": [
       "R    2353309\n",
       "L     492032\n",
       "N          1\n",
       "Name: Side, dtype: int64"
      ]
     },
     "execution_count": 12,
     "metadata": {},
     "output_type": "execute_result"
    }
   ],
   "source": [
    "data['Side'].value_counts()"
   ]
  },
  {
   "cell_type": "markdown",
   "id": "2c425515",
   "metadata": {
    "id": "SevMCO8M0BkZ",
    "papermill": {
     "duration": 0.080108,
     "end_time": "2022-04-16T05:14:47.077305",
     "exception": false,
     "start_time": "2022-04-16T05:14:46.997197",
     "status": "completed"
    },
    "tags": []
   },
   "source": [
    "It shows most of the accidents took place in right side of street. But it would be good to see further this feature with other features. It has one N value which we will remove it. "
   ]
  },
  {
   "cell_type": "code",
   "execution_count": 13,
   "id": "6bac4389",
   "metadata": {
    "execution": {
     "iopub.execute_input": "2022-04-16T05:14:47.241054Z",
     "iopub.status.busy": "2022-04-16T05:14:47.240838Z",
     "iopub.status.idle": "2022-04-16T05:14:48.324369Z",
     "shell.execute_reply": "2022-04-16T05:14:48.323038Z"
    },
    "id": "mCby9fqPKJi0",
    "papermill": {
     "duration": 1.16703,
     "end_time": "2022-04-16T05:14:48.326504",
     "exception": false,
     "start_time": "2022-04-16T05:14:47.159474",
     "status": "completed"
    },
    "tags": []
   },
   "outputs": [],
   "source": [
    "# data.drop(data[data.loc['Side']=='N'].index)\n",
    "data.drop(data.loc[data['Side']=='N'].index,inplace=True)"
   ]
  },
  {
   "cell_type": "code",
   "execution_count": 14,
   "id": "ba4566ac",
   "metadata": {
    "execution": {
     "iopub.execute_input": "2022-04-16T05:14:48.527247Z",
     "iopub.status.busy": "2022-04-16T05:14:48.526843Z",
     "iopub.status.idle": "2022-04-16T05:14:48.632389Z",
     "shell.execute_reply": "2022-04-16T05:14:48.631231Z"
    },
    "id": "pcBxRA2lK7EP",
    "outputId": "dab5a6cd-fce0-4233-86c4-6f7364c5cc9a",
    "papermill": {
     "duration": 0.226417,
     "end_time": "2022-04-16T05:14:48.634253",
     "exception": false,
     "start_time": "2022-04-16T05:14:48.407836",
     "status": "completed"
    },
    "tags": []
   },
   "outputs": [
    {
     "data": {
      "text/plain": [
       "R    2353309\n",
       "L     492032\n",
       "Name: Side, dtype: int64"
      ]
     },
     "execution_count": 14,
     "metadata": {},
     "output_type": "execute_result"
    }
   ],
   "source": [
    "data['Side'].value_counts()"
   ]
  },
  {
   "cell_type": "markdown",
   "id": "ae0d8da5",
   "metadata": {
    "id": "L-DfHJQvLFh_",
    "papermill": {
     "duration": 0.123029,
     "end_time": "2022-04-16T05:14:48.880274",
     "exception": false,
     "start_time": "2022-04-16T05:14:48.757245",
     "status": "completed"
    },
    "tags": []
   },
   "source": [
    "### City"
   ]
  },
  {
   "cell_type": "code",
   "execution_count": 15,
   "id": "9a1d5853",
   "metadata": {
    "execution": {
     "iopub.execute_input": "2022-04-16T05:14:49.146103Z",
     "iopub.status.busy": "2022-04-16T05:14:49.145714Z",
     "iopub.status.idle": "2022-04-16T05:14:49.650796Z",
     "shell.execute_reply": "2022-04-16T05:14:49.649879Z"
    },
    "id": "OSCbn4oL0BIp",
    "outputId": "0fc5b11e-25b1-45e1-b5ad-6354e2ca1701",
    "papermill": {
     "duration": 0.64353,
     "end_time": "2022-04-16T05:14:49.652811",
     "exception": false,
     "start_time": "2022-04-16T05:14:49.009281",
     "status": "completed"
    },
    "tags": []
   },
   "outputs": [
    {
     "data": {
      "text/plain": [
       "Miami                           106966\n",
       "Los Angeles                      68956\n",
       "Orlando                          54691\n",
       "Dallas                           41979\n",
       "Houston                          39448\n",
       "                                 ...  \n",
       "Ridgedale                            1\n",
       "Sekiu                                1\n",
       "Wooldridge                           1\n",
       "Bullock                              1\n",
       "American Fork-Pleasant Grove         1\n",
       "Name: City, Length: 11681, dtype: int64"
      ]
     },
     "execution_count": 15,
     "metadata": {},
     "output_type": "execute_result"
    }
   ],
   "source": [
    "\n",
    "city_by_accidents = data['City'].value_counts()\n",
    "data['City'].value_counts()"
   ]
  },
  {
   "cell_type": "markdown",
   "id": "d192aef3",
   "metadata": {
    "id": "SKfU_hNB1_nG",
    "papermill": {
     "duration": 0.122611,
     "end_time": "2022-04-16T05:14:49.898440",
     "exception": false,
     "start_time": "2022-04-16T05:14:49.775829",
     "status": "completed"
    },
    "tags": []
   },
   "source": [
    "so miami is a city in florida, which is a 3rd most populus state in USA. That could be a reasonable reason why miami has highest no of accidents."
   ]
  },
  {
   "cell_type": "code",
   "execution_count": 16,
   "id": "ac8d3360",
   "metadata": {
    "execution": {
     "iopub.execute_input": "2022-04-16T05:14:50.146473Z",
     "iopub.status.busy": "2022-04-16T05:14:50.146258Z",
     "iopub.status.idle": "2022-04-16T05:14:50.345393Z",
     "shell.execute_reply": "2022-04-16T05:14:50.344568Z"
    },
    "id": "Jw3yy0NQ1Lpw",
    "outputId": "c1184e64-a336-4408-f636-6b5e0d4b6516",
    "papermill": {
     "duration": 0.325358,
     "end_time": "2022-04-16T05:14:50.347277",
     "exception": false,
     "start_time": "2022-04-16T05:14:50.021919",
     "status": "completed"
    },
    "tags": []
   },
   "outputs": [
    {
     "data": {
      "text/plain": [
       "11681"
      ]
     },
     "execution_count": 16,
     "metadata": {},
     "output_type": "execute_result"
    }
   ],
   "source": [
    "data['City'].nunique()"
   ]
  },
  {
   "cell_type": "code",
   "execution_count": 17,
   "id": "331e23da",
   "metadata": {
    "execution": {
     "iopub.execute_input": "2022-04-16T05:14:50.598116Z",
     "iopub.status.busy": "2022-04-16T05:14:50.597760Z",
     "iopub.status.idle": "2022-04-16T05:14:50.603717Z",
     "shell.execute_reply": "2022-04-16T05:14:50.602987Z"
    },
    "id": "W340fSGg3izR",
    "outputId": "5a8992b0-c580-4a90-dd17-4587e4d4b896",
    "papermill": {
     "duration": 0.133706,
     "end_time": "2022-04-16T05:14:50.605930",
     "exception": false,
     "start_time": "2022-04-16T05:14:50.472224",
     "status": "completed"
    },
    "tags": []
   },
   "outputs": [
    {
     "data": {
      "text/plain": [
       "Miami              106966\n",
       "Los Angeles         68956\n",
       "Orlando             54691\n",
       "Dallas              41979\n",
       "Houston             39448\n",
       "Charlotte           33152\n",
       "Sacramento          32559\n",
       "San Diego           26627\n",
       "Raleigh             22840\n",
       "Minneapolis         22768\n",
       "Portland            20944\n",
       "Nashville           20267\n",
       "Austin              18301\n",
       "Baton Rouge         18182\n",
       "Phoenix             17143\n",
       "Saint Paul          16869\n",
       "New Orleans         16251\n",
       "Atlanta             15622\n",
       "Jacksonville        14967\n",
       "Richmond            14349\n",
       "Tucson              13799\n",
       "San Jose            13377\n",
       "Riverside           13310\n",
       "Kansas City         13298\n",
       "Bakersfield         12044\n",
       "San Bernardino      11249\n",
       "Chicago             11188\n",
       "Tampa               10984\n",
       "Salt Lake City      10709\n",
       "Ontario             10538\n",
       "Anaheim             10502\n",
       "Hialeah             10398\n",
       "Fort Lauderdale     10345\n",
       "Oakland             10051\n",
       "Name: City, dtype: int64"
      ]
     },
     "execution_count": 17,
     "metadata": {},
     "output_type": "execute_result"
    }
   ],
   "source": [
    "len(city_by_accidents[city_by_accidents>=10000])\n",
    "high_accident_city = city_by_accidents[city_by_accidents>=10000]\n",
    "high_accident_city"
   ]
  },
  {
   "cell_type": "markdown",
   "id": "29494e8e",
   "metadata": {
    "id": "37El9Bml9FgS",
    "papermill": {
     "duration": 0.125413,
     "end_time": "2022-04-16T05:14:50.855770",
     "exception": false,
     "start_time": "2022-04-16T05:14:50.730357",
     "status": "completed"
    },
    "tags": []
   },
   "source": []
  },
  {
   "cell_type": "code",
   "execution_count": 18,
   "id": "65ecfd4a",
   "metadata": {
    "execution": {
     "iopub.execute_input": "2022-04-16T05:14:51.110189Z",
     "iopub.status.busy": "2022-04-16T05:14:51.109757Z",
     "iopub.status.idle": "2022-04-16T05:14:51.511885Z",
     "shell.execute_reply": "2022-04-16T05:14:51.510918Z"
    },
    "id": "mm6tP1kq9Rnj",
    "outputId": "ed9e0528-a27b-490b-b61b-d6e04b862a49",
    "papermill": {
     "duration": 0.531712,
     "end_time": "2022-04-16T05:14:51.513841",
     "exception": false,
     "start_time": "2022-04-16T05:14:50.982129",
     "status": "completed"
    },
    "tags": []
   },
   "outputs": [
    {
     "data": {
      "image/png": "[encoded data removed]",
      "text/plain": [
       "<Figure size 720x576 with 1 Axes>"
      ]
     },
     "metadata": {
      "needs_background": "light"
     },
     "output_type": "display_data"
    }
   ],
   "source": [
    "# sns.histplot(high_accident_city)\n",
    "plt.figure(figsize=(10,8))\n",
    "plt.bar(high_accident_city.index, high_accident_city)\n",
    "plt.xticks(rotation=90)\n",
    "plt.title(\"High Accident City\")\n",
    "plt.xlabel(\"City\")\n",
    "plt.ylabel(\"Accident count\")\n",
    "plt.tight_layout()"
   ]
  },
  {
   "cell_type": "markdown",
   "id": "debf7b90",
   "metadata": {
    "id": "98Y2OtuE9q7z",
    "papermill": {
     "duration": 0.125865,
     "end_time": "2022-04-16T05:14:51.766644",
     "exception": false,
     "start_time": "2022-04-16T05:14:51.640779",
     "status": "completed"
    },
    "tags": []
   },
   "source": [
    "1. we can try to find here why miami has such high accident rates.\n",
    "- is the population only reason?\n",
    "   * compare the population of miami with other high accident cities.\n",
    "   * compare miami population with other cities in florida."
   ]
  },
  {
   "cell_type": "markdown",
   "id": "451aa664",
   "metadata": {
    "id": "dQS_IxRT-j8q",
    "papermill": {
     "duration": 0.12677,
     "end_time": "2022-04-16T05:14:52.020605",
     "exception": false,
     "start_time": "2022-04-16T05:14:51.893835",
     "status": "completed"
    },
    "tags": []
   },
   "source": [
    "* population of miami: \n",
    "  * 5,902,000(2016)\n",
    "  * 6,167,000(2021)\n",
    "* population of los-angles:\n",
    "  * 12,383,000(2016)\n",
    "  * 12,459,000(2021)\n",
    "\n",
    "* population of Orlando:\n",
    "  * 1,784,000 (2016)\n",
    "  * 2,002,000 (2021)\n",
    "\n",
    "* population of Dallas:\n",
    "  * 5,846,000 (2016)\n",
    "  * 6,397,000 (2021)\n",
    "\n",
    "source: https://www.macrotrends.net/cities/23064/miami/population?q=dallas\n"
   ]
  },
  {
   "cell_type": "markdown",
   "id": "4d86b47d",
   "metadata": {
    "id": "yTOnZ3kQCRm5",
    "papermill": {
     "duration": 0.124395,
     "end_time": "2022-04-16T05:14:52.272263",
     "exception": false,
     "start_time": "2022-04-16T05:14:52.147868",
     "status": "completed"
    },
    "tags": []
   },
   "source": [
    "We can see that population is not the reason as los angles has highest population but it is second place in cities by accident and it's accident's rate is 40,000 less than miami.\n",
    "\n",
    "There are other reason then..."
   ]
  },
  {
   "cell_type": "code",
   "execution_count": 19,
   "id": "03945e9b",
   "metadata": {
    "execution": {
     "iopub.execute_input": "2022-04-16T05:14:52.525093Z",
     "iopub.status.busy": "2022-04-16T05:14:52.524227Z",
     "iopub.status.idle": "2022-04-16T05:14:52.818580Z",
     "shell.execute_reply": "2022-04-16T05:14:52.817791Z"
    },
    "id": "omOlUfOG9RlU",
    "outputId": "d0bf685b-20d1-403f-fa80-d8b1d4df20ef",
    "papermill": {
     "duration": 0.42342,
     "end_time": "2022-04-16T05:14:52.820547",
     "exception": false,
     "start_time": "2022-04-16T05:14:52.397127",
     "status": "completed"
    },
    "tags": []
   },
   "outputs": [
    {
     "data": {
      "text/plain": [
       "Miami-Dade    106891\n",
       "Gila              51\n",
       "Pinal             10\n",
       "Kanawha            7\n",
       "Broward            5\n",
       "Ottawa             2\n",
       "Name: County, dtype: int64"
      ]
     },
     "execution_count": 19,
     "metadata": {},
     "output_type": "execute_result"
    }
   ],
   "source": [
    "#now let's compare population cities of florida\n",
    "data[data['City']=='Miami'][['City','County', 'State']]['County'].value_counts()"
   ]
  },
  {
   "cell_type": "markdown",
   "id": "e7a7db38",
   "metadata": {
    "id": "b7tuGle7ZIzJ",
    "papermill": {
     "duration": 0.12878,
     "end_time": "2022-04-16T05:14:53.075001",
     "exception": false,
     "start_time": "2022-04-16T05:14:52.946221",
     "status": "completed"
    },
    "tags": []
   },
   "source": [
    "Miami-Dade is the most dangerous county in florida\n",
    "source: https://www.laventlaw.com/miami-car-accident-lawyer/statistics/"
   ]
  },
  {
   "cell_type": "markdown",
   "id": "1a74b2cb",
   "metadata": {
    "id": "geZtEotTQcO-",
    "papermill": {
     "duration": 0.12567,
     "end_time": "2022-04-16T05:14:53.326948",
     "exception": false,
     "start_time": "2022-04-16T05:14:53.201278",
     "status": "completed"
    },
    "tags": []
   },
   "source": [
    "### County and States\n",
    "* County:- In the United States, a county is an administrative or political subdivision of a state that consists of a geographic region with specific boundaries.\n",
    "\n",
    "* There are 50 states in US and around 3000 counties.\n",
    "* So we will not consider the county but will consider the states."
   ]
  },
  {
   "cell_type": "code",
   "execution_count": 20,
   "id": "9a5f46c2",
   "metadata": {
    "execution": {
     "iopub.execute_input": "2022-04-16T05:14:53.539407Z",
     "iopub.status.busy": "2022-04-16T05:14:53.539185Z",
     "iopub.status.idle": "2022-04-16T05:14:53.542061Z",
     "shell.execute_reply": "2022-04-16T05:14:53.541592Z"
    },
    "id": "z8tEUwesRCqH",
    "papermill": {
     "duration": 0.089072,
     "end_time": "2022-04-16T05:14:53.543414",
     "exception": false,
     "start_time": "2022-04-16T05:14:53.454342",
     "status": "completed"
    },
    "tags": []
   },
   "outputs": [],
   "source": [
    "drop_list.append('County')"
   ]
  },
  {
   "cell_type": "code",
   "execution_count": 21,
   "id": "f0b65056",
   "metadata": {
    "execution": {
     "iopub.execute_input": "2022-04-16T05:14:53.711556Z",
     "iopub.status.busy": "2022-04-16T05:14:53.711189Z",
     "iopub.status.idle": "2022-04-16T05:14:54.017121Z",
     "shell.execute_reply": "2022-04-16T05:14:54.016709Z"
    },
    "id": "pfKEC6dg9RjD",
    "outputId": "b7abaf0e-0ebe-4024-bb9a-d614fe136d41",
    "papermill": {
     "duration": 0.392631,
     "end_time": "2022-04-16T05:14:54.019384",
     "exception": false,
     "start_time": "2022-04-16T05:14:53.626753",
     "status": "completed"
    },
    "tags": []
   },
   "outputs": [
    {
     "data": {
      "text/plain": [
       "FL    106896\n",
       "AZ        61\n",
       "WV         7\n",
       "OK         2\n",
       "Name: State, dtype: int64"
      ]
     },
     "execution_count": 21,
     "metadata": {},
     "output_type": "execute_result"
    }
   ],
   "source": [
    "data[data['City']=='Miami'][['City','County', 'State']]['State'].value_counts()"
   ]
  },
  {
   "cell_type": "markdown",
   "id": "9b3a8945",
   "metadata": {
    "id": "obA8w3zVTSUH",
    "papermill": {
     "duration": 0.084434,
     "end_time": "2022-04-16T05:14:54.187161",
     "exception": false,
     "start_time": "2022-04-16T05:14:54.102727",
     "status": "completed"
    },
    "tags": []
   },
   "source": [
    "There are places named as \"miami\" in other states also but most of the accidents are recorded from \"florida\". So we will consider the miami of florida only."
   ]
  },
  {
   "cell_type": "code",
   "execution_count": 22,
   "id": "ac572fea",
   "metadata": {
    "execution": {
     "iopub.execute_input": "2022-04-16T05:14:54.356029Z",
     "iopub.status.busy": "2022-04-16T05:14:54.355034Z",
     "iopub.status.idle": "2022-04-16T05:14:54.689440Z",
     "shell.execute_reply": "2022-04-16T05:14:54.688176Z"
    },
    "id": "b3w3aiQo9Rge",
    "papermill": {
     "duration": 0.420535,
     "end_time": "2022-04-16T05:14:54.691449",
     "exception": false,
     "start_time": "2022-04-16T05:14:54.270914",
     "status": "completed"
    },
    "tags": []
   },
   "outputs": [],
   "source": [
    "#collecting the accident report of florida state\n",
    "florida_state = data[data['State']=='FL']"
   ]
  },
  {
   "cell_type": "code",
   "execution_count": 23,
   "id": "8f7e7158",
   "metadata": {
    "execution": {
     "iopub.execute_input": "2022-04-16T05:14:54.858267Z",
     "iopub.status.busy": "2022-04-16T05:14:54.857964Z",
     "iopub.status.idle": "2022-04-16T05:14:54.861700Z",
     "shell.execute_reply": "2022-04-16T05:14:54.861284Z"
    },
    "id": "tmhxykJZ9RPS",
    "outputId": "ef3db6c2-3958-43e8-d39a-6680b1695527",
    "papermill": {
     "duration": 0.088577,
     "end_time": "2022-04-16T05:14:54.863070",
     "exception": false,
     "start_time": "2022-04-16T05:14:54.774493",
     "status": "completed"
    },
    "tags": []
   },
   "outputs": [
    {
     "data": {
      "text/plain": [
       "401388"
      ]
     },
     "execution_count": 23,
     "metadata": {},
     "output_type": "execute_result"
    }
   ],
   "source": [
    "len(florida_state)"
   ]
  },
  {
   "cell_type": "code",
   "execution_count": 24,
   "id": "f6b7da64",
   "metadata": {
    "execution": {
     "iopub.execute_input": "2022-04-16T05:14:55.031949Z",
     "iopub.status.busy": "2022-04-16T05:14:55.031603Z",
     "iopub.status.idle": "2022-04-16T05:14:55.061898Z",
     "shell.execute_reply": "2022-04-16T05:14:55.061032Z"
    },
    "id": "knKDjXPvUSyF",
    "outputId": "0f03beb4-12cb-4dd0-99aa-999119bf41b6",
    "papermill": {
     "duration": 0.116716,
     "end_time": "2022-04-16T05:14:55.063648",
     "exception": false,
     "start_time": "2022-04-16T05:14:54.946932",
     "status": "completed"
    },
    "tags": []
   },
   "outputs": [
    {
     "data": {
      "text/plain": [
       "Miami-Dade      143939\n",
       "Orange           60566\n",
       "Broward          21217\n",
       "Hillsborough     19328\n",
       "Pinellas         15775\n",
       "                 ...  \n",
       "Gulf                38\n",
       "Franklin            24\n",
       "Lafayette           23\n",
       "Saint Johns         15\n",
       "De Soto              8\n",
       "Name: County, Length: 69, dtype: int64"
      ]
     },
     "execution_count": 24,
     "metadata": {},
     "output_type": "execute_result"
    }
   ],
   "source": [
    "florida_state['County'].value_counts()"
   ]
  },
  {
   "cell_type": "code",
   "execution_count": 25,
   "id": "fb7ea147",
   "metadata": {
    "execution": {
     "iopub.execute_input": "2022-04-16T05:14:55.233123Z",
     "iopub.status.busy": "2022-04-16T05:14:55.232899Z",
     "iopub.status.idle": "2022-04-16T05:14:56.151836Z",
     "shell.execute_reply": "2022-04-16T05:14:56.151004Z"
    },
    "id": "89ENbgnqg8Sk",
    "outputId": "a422e1d7-2ffa-4149-b36e-1828892c1d5c",
    "papermill": {
     "duration": 1.006408,
     "end_time": "2022-04-16T05:14:56.153638",
     "exception": false,
     "start_time": "2022-04-16T05:14:55.147230",
     "status": "completed"
    },
    "tags": []
   },
   "outputs": [
    {
     "data": {
      "image/png": "[encoded data removed]",
      "text/plain": [
       "<Figure size 720x576 with 1 Axes>"
      ]
     },
     "metadata": {
      "needs_background": "light"
     },
     "output_type": "display_data"
    }
   ],
   "source": [
    "plt.figure(figsize=(10,8))\n",
    "plt.bar(florida_state['County'].value_counts().keys(), florida_state['County'].value_counts())\n",
    "plt.xticks(rotation=90)\n",
    "plt.title(\"County of Florida\")\n",
    "plt.xlabel(\"County\")\n",
    "plt.ylabel(\"Accident count\")\n",
    "plt.tight_layout()"
   ]
  },
  {
   "cell_type": "markdown",
   "id": "954f090b",
   "metadata": {
    "id": "BtCPKO03iUNb",
    "papermill": {
     "duration": 0.084052,
     "end_time": "2022-04-16T05:14:56.323639",
     "exception": false,
     "start_time": "2022-04-16T05:14:56.239587",
     "status": "completed"
    },
    "tags": []
   },
   "source": [
    "Miami-Dade has the highest accident count in Florida state."
   ]
  },
  {
   "cell_type": "markdown",
   "id": "9366857d",
   "metadata": {
    "id": "7Nb6-omLZnHG",
    "papermill": {
     "duration": 0.083442,
     "end_time": "2022-04-16T05:14:56.491418",
     "exception": false,
     "start_time": "2022-04-16T05:14:56.407976",
     "status": "completed"
    },
    "tags": []
   },
   "source": [
    "**One of the reason:** Drivers often become impatient and aggressive when faced with Miami’s congested roads and bumper-to-bumper traffic. \n",
    "Source: https://www.laventlaw.com/miami-car-accident-lawyer/statistics/"
   ]
  },
  {
   "cell_type": "markdown",
   "id": "05bbb122",
   "metadata": {
    "id": "GA_gYbtZjRqY",
    "papermill": {
     "duration": 0.084449,
     "end_time": "2022-04-16T05:14:56.660470",
     "exception": false,
     "start_time": "2022-04-16T05:14:56.576021",
     "status": "completed"
    },
    "tags": []
   },
   "source": [
    "### Accident count in state"
   ]
  },
  {
   "cell_type": "code",
   "execution_count": 26,
   "id": "f9d0a93a",
   "metadata": {
    "execution": {
     "iopub.execute_input": "2022-04-16T05:14:56.830589Z",
     "iopub.status.busy": "2022-04-16T05:14:56.830318Z",
     "iopub.status.idle": "2022-04-16T05:14:58.166757Z",
     "shell.execute_reply": "2022-04-16T05:14:58.166107Z"
    },
    "id": "oJXGiIJOjRU0",
    "outputId": "bd81503f-1443-42bf-850b-c5c52af9b888",
    "papermill": {
     "duration": 1.423218,
     "end_time": "2022-04-16T05:14:58.168287",
     "exception": false,
     "start_time": "2022-04-16T05:14:56.745069",
     "status": "completed"
    },
    "tags": []
   },
   "outputs": [
    {
     "data": {
      "image/png": "[encoded data removed]",
      "text/plain": [
       "<Figure size 720x576 with 1 Axes>"
      ]
     },
     "metadata": {
      "needs_background": "light"
     },
     "output_type": "display_data"
    }
   ],
   "source": [
    "plt.figure(figsize=(10,8))\n",
    "plt.bar(data['State'].value_counts().keys(), data['State'].value_counts())\n",
    "plt.xticks(rotation=90)\n",
    "plt.title(\"Accident count by state\")\n",
    "plt.xlabel(\"State\")\n",
    "plt.ylabel(\"Accident count\")\n",
    "plt.tight_layout()"
   ]
  },
  {
   "cell_type": "markdown",
   "id": "773ae599",
   "metadata": {
    "id": "44cPRpvTkRGN",
    "papermill": {
     "duration": 0.085752,
     "end_time": "2022-04-16T05:14:58.343937",
     "exception": false,
     "start_time": "2022-04-16T05:14:58.258185",
     "status": "completed"
    },
    "tags": []
   },
   "source": [
    "CANADA ranks 1 in highest accident state in USA. And it is also the most populous state in USA."
   ]
  },
  {
   "cell_type": "code",
   "execution_count": 27,
   "id": "141f816d",
   "metadata": {
    "execution": {
     "iopub.execute_input": "2022-04-16T05:14:58.517070Z",
     "iopub.status.busy": "2022-04-16T05:14:58.516852Z",
     "iopub.status.idle": "2022-04-16T05:14:58.591643Z",
     "shell.execute_reply": "2022-04-16T05:14:58.590605Z"
    },
    "id": "FfYmy3Z6ZgRh",
    "papermill": {
     "duration": 0.163633,
     "end_time": "2022-04-16T05:14:58.593638",
     "exception": false,
     "start_time": "2022-04-16T05:14:58.430005",
     "status": "completed"
    },
    "tags": []
   },
   "outputs": [],
   "source": [
    "#now just consider miami city in florida\n",
    "miami_florida=florida_state[florida_state['City']=='Miami']"
   ]
  },
  {
   "cell_type": "code",
   "execution_count": 28,
   "id": "7e4d257f",
   "metadata": {
    "execution": {
     "iopub.execute_input": "2022-04-16T05:14:58.768770Z",
     "iopub.status.busy": "2022-04-16T05:14:58.768302Z",
     "iopub.status.idle": "2022-04-16T05:14:58.790268Z",
     "shell.execute_reply": "2022-04-16T05:14:58.789255Z"
    },
    "id": "htCCjFbWZgON",
    "outputId": "42030b09-9c2e-4fc5-d1a9-65d55df153ef",
    "papermill": {
     "duration": 0.11162,
     "end_time": "2022-04-16T05:14:58.792473",
     "exception": false,
     "start_time": "2022-04-16T05:14:58.680853",
     "status": "completed"
    },
    "tags": []
   },
   "outputs": [
    {
     "data": {
      "text/html": [
       "<div>\n",
       "<style scoped>\n",
       "    .dataframe tbody tr th:only-of-type {\n",
       "        vertical-align: middle;\n",
       "    }\n",
       "\n",
       "    .dataframe tbody tr th {\n",
       "        vertical-align: top;\n",
       "    }\n",
       "\n",
       "    .dataframe thead th {\n",
       "        text-align: right;\n",
       "    }\n",
       "</style>\n",
       "<table border=\"1\" class=\"dataframe\">\n",
       "  <thead>\n",
       "    <tr style=\"text-align: right;\">\n",
       "      <th></th>\n",
       "      <th>ID</th>\n",
       "      <th>Severity</th>\n",
       "      <th>Start_Time</th>\n",
       "      <th>End_Time</th>\n",
       "      <th>Start_Lat</th>\n",
       "      <th>Start_Lng</th>\n",
       "      <th>End_Lat</th>\n",
       "      <th>End_Lng</th>\n",
       "      <th>Distance(mi)</th>\n",
       "      <th>Description</th>\n",
       "      <th>...</th>\n",
       "      <th>Roundabout</th>\n",
       "      <th>Station</th>\n",
       "      <th>Stop</th>\n",
       "      <th>Traffic_Calming</th>\n",
       "      <th>Traffic_Signal</th>\n",
       "      <th>Turning_Loop</th>\n",
       "      <th>Sunrise_Sunset</th>\n",
       "      <th>Civil_Twilight</th>\n",
       "      <th>Nautical_Twilight</th>\n",
       "      <th>Astronomical_Twilight</th>\n",
       "    </tr>\n",
       "  </thead>\n",
       "  <tbody>\n",
       "    <tr>\n",
       "      <th>31596</th>\n",
       "      <td>A-31597</td>\n",
       "      <td>2</td>\n",
       "      <td>2016-11-30 16:35:52</td>\n",
       "      <td>2016-11-30 22:35:52</td>\n",
       "      <td>25.78601</td>\n",
       "      <td>-80.25809</td>\n",
       "      <td>25.78336</td>\n",
       "      <td>-80.26911</td>\n",
       "      <td>0.710</td>\n",
       "      <td>At SR-953/42nd Ave/Le Jeune Rd - Accident.</td>\n",
       "      <td>...</td>\n",
       "      <td>False</td>\n",
       "      <td>False</td>\n",
       "      <td>False</td>\n",
       "      <td>False</td>\n",
       "      <td>False</td>\n",
       "      <td>False</td>\n",
       "      <td>Day</td>\n",
       "      <td>Day</td>\n",
       "      <td>Day</td>\n",
       "      <td>Day</td>\n",
       "    </tr>\n",
       "    <tr>\n",
       "      <th>31660</th>\n",
       "      <td>A-31661</td>\n",
       "      <td>2</td>\n",
       "      <td>2016-11-30 18:35:52</td>\n",
       "      <td>2016-12-01 00:35:52</td>\n",
       "      <td>25.66214</td>\n",
       "      <td>-80.38860</td>\n",
       "      <td>25.65292</td>\n",
       "      <td>-80.38712</td>\n",
       "      <td>0.644</td>\n",
       "      <td>At 120th St/Exit 19 - Accident.</td>\n",
       "      <td>...</td>\n",
       "      <td>False</td>\n",
       "      <td>False</td>\n",
       "      <td>False</td>\n",
       "      <td>False</td>\n",
       "      <td>False</td>\n",
       "      <td>False</td>\n",
       "      <td>Night</td>\n",
       "      <td>Night</td>\n",
       "      <td>Night</td>\n",
       "      <td>Day</td>\n",
       "    </tr>\n",
       "    <tr>\n",
       "      <th>31734</th>\n",
       "      <td>A-31735</td>\n",
       "      <td>2</td>\n",
       "      <td>2016-12-01 05:51:51</td>\n",
       "      <td>2016-12-01 11:51:51</td>\n",
       "      <td>25.97053</td>\n",
       "      <td>-80.16576</td>\n",
       "      <td>25.95995</td>\n",
       "      <td>-80.16870</td>\n",
       "      <td>0.753</td>\n",
       "      <td>At Ives Dairy Rd/203rd St/Exit 16 - Accident.</td>\n",
       "      <td>...</td>\n",
       "      <td>False</td>\n",
       "      <td>False</td>\n",
       "      <td>False</td>\n",
       "      <td>False</td>\n",
       "      <td>False</td>\n",
       "      <td>False</td>\n",
       "      <td>Night</td>\n",
       "      <td>Night</td>\n",
       "      <td>Night</td>\n",
       "      <td>Day</td>\n",
       "    </tr>\n",
       "    <tr>\n",
       "      <th>31735</th>\n",
       "      <td>A-31736</td>\n",
       "      <td>3</td>\n",
       "      <td>2016-12-01 06:03:23</td>\n",
       "      <td>2016-12-01 12:03:23</td>\n",
       "      <td>25.78447</td>\n",
       "      <td>-80.29346</td>\n",
       "      <td>25.78488</td>\n",
       "      <td>-80.28444</td>\n",
       "      <td>0.562</td>\n",
       "      <td>At SR-959/Red Rd - Accident.</td>\n",
       "      <td>...</td>\n",
       "      <td>False</td>\n",
       "      <td>False</td>\n",
       "      <td>False</td>\n",
       "      <td>False</td>\n",
       "      <td>False</td>\n",
       "      <td>False</td>\n",
       "      <td>Night</td>\n",
       "      <td>Night</td>\n",
       "      <td>Day</td>\n",
       "      <td>Day</td>\n",
       "    </tr>\n",
       "    <tr>\n",
       "      <th>31805</th>\n",
       "      <td>A-31806</td>\n",
       "      <td>2</td>\n",
       "      <td>2016-12-01 08:21:46</td>\n",
       "      <td>2016-12-01 14:21:46</td>\n",
       "      <td>25.91310</td>\n",
       "      <td>-80.21024</td>\n",
       "      <td>25.90780</td>\n",
       "      <td>-80.21023</td>\n",
       "      <td>0.366</td>\n",
       "      <td>At 151st St/Exit 11 - Accident.</td>\n",
       "      <td>...</td>\n",
       "      <td>False</td>\n",
       "      <td>False</td>\n",
       "      <td>False</td>\n",
       "      <td>False</td>\n",
       "      <td>False</td>\n",
       "      <td>False</td>\n",
       "      <td>Day</td>\n",
       "      <td>Day</td>\n",
       "      <td>Day</td>\n",
       "      <td>Day</td>\n",
       "    </tr>\n",
       "  </tbody>\n",
       "</table>\n",
       "<p>5 rows × 47 columns</p>\n",
       "</div>"
      ],
      "text/plain": [
       "            ID  Severity           Start_Time             End_Time  Start_Lat  \\\n",
       "31596  A-31597         2  2016-11-30 16:35:52  2016-11-30 22:35:52   25.78601   \n",
       "31660  A-31661         2  2016-11-30 18:35:52  2016-12-01 00:35:52   25.66214   \n",
       "31734  A-31735         2  2016-12-01 05:51:51  2016-12-01 11:51:51   25.97053   \n",
       "31735  A-31736         3  2016-12-01 06:03:23  2016-12-01 12:03:23   25.78447   \n",
       "31805  A-31806         2  2016-12-01 08:21:46  2016-12-01 14:21:46   25.91310   \n",
       "\n",
       "       Start_Lng   End_Lat   End_Lng  Distance(mi)  \\\n",
       "31596  -80.25809  25.78336 -80.26911         0.710   \n",
       "31660  -80.38860  25.65292 -80.38712         0.644   \n",
       "31734  -80.16576  25.95995 -80.16870         0.753   \n",
       "31735  -80.29346  25.78488 -80.28444         0.562   \n",
       "31805  -80.21024  25.90780 -80.21023         0.366   \n",
       "\n",
       "                                         Description  ...  Roundabout Station  \\\n",
       "31596     At SR-953/42nd Ave/Le Jeune Rd - Accident.  ...       False   False   \n",
       "31660                At 120th St/Exit 19 - Accident.  ...       False   False   \n",
       "31734  At Ives Dairy Rd/203rd St/Exit 16 - Accident.  ...       False   False   \n",
       "31735                   At SR-959/Red Rd - Accident.  ...       False   False   \n",
       "31805                At 151st St/Exit 11 - Accident.  ...       False   False   \n",
       "\n",
       "        Stop Traffic_Calming Traffic_Signal Turning_Loop Sunrise_Sunset  \\\n",
       "31596  False           False          False        False            Day   \n",
       "31660  False           False          False        False          Night   \n",
       "31734  False           False          False        False          Night   \n",
       "31735  False           False          False        False          Night   \n",
       "31805  False           False          False        False            Day   \n",
       "\n",
       "      Civil_Twilight Nautical_Twilight Astronomical_Twilight  \n",
       "31596            Day               Day                   Day  \n",
       "31660          Night             Night                   Day  \n",
       "31734          Night             Night                   Day  \n",
       "31735          Night               Day                   Day  \n",
       "31805            Day               Day                   Day  \n",
       "\n",
       "[5 rows x 47 columns]"
      ]
     },
     "execution_count": 28,
     "metadata": {},
     "output_type": "execute_result"
    }
   ],
   "source": [
    "miami_florida.head()"
   ]
  },
  {
   "cell_type": "markdown",
   "id": "1e026492",
   "metadata": {
    "id": "1dVwjhq_aa-S",
    "papermill": {
     "duration": 0.086336,
     "end_time": "2022-04-16T05:14:58.966385",
     "exception": false,
     "start_time": "2022-04-16T05:14:58.880049",
     "status": "completed"
    },
    "tags": []
   },
   "source": [
    "1. Severity"
   ]
  },
  {
   "cell_type": "code",
   "execution_count": 29,
   "id": "50bb5b26",
   "metadata": {
    "execution": {
     "iopub.execute_input": "2022-04-16T05:14:59.143917Z",
     "iopub.status.busy": "2022-04-16T05:14:59.143622Z",
     "iopub.status.idle": "2022-04-16T05:14:59.149419Z",
     "shell.execute_reply": "2022-04-16T05:14:59.148683Z"
    },
    "id": "aSO5ZX5qZgLx",
    "outputId": "52dd6968-d3b5-4864-c40d-23ee8eae7bd8",
    "papermill": {
     "duration": 0.098094,
     "end_time": "2022-04-16T05:14:59.151528",
     "exception": false,
     "start_time": "2022-04-16T05:14:59.053434",
     "status": "completed"
    },
    "tags": []
   },
   "outputs": [
    {
     "data": {
      "text/plain": [
       "Index(['ID', 'Severity', 'Start_Time', 'End_Time', 'Start_Lat', 'Start_Lng',\n",
       "       'End_Lat', 'End_Lng', 'Distance(mi)', 'Description', 'Number', 'Street',\n",
       "       'Side', 'City', 'County', 'State', 'Zipcode', 'Country', 'Timezone',\n",
       "       'Airport_Code', 'Weather_Timestamp', 'Temperature(F)', 'Wind_Chill(F)',\n",
       "       'Humidity(%)', 'Pressure(in)', 'Visibility(mi)', 'Wind_Direction',\n",
       "       'Wind_Speed(mph)', 'Precipitation(in)', 'Weather_Condition', 'Amenity',\n",
       "       'Bump', 'Crossing', 'Give_Way', 'Junction', 'No_Exit', 'Railway',\n",
       "       'Roundabout', 'Station', 'Stop', 'Traffic_Calming', 'Traffic_Signal',\n",
       "       'Turning_Loop', 'Sunrise_Sunset', 'Civil_Twilight', 'Nautical_Twilight',\n",
       "       'Astronomical_Twilight'],\n",
       "      dtype='object')"
      ]
     },
     "execution_count": 29,
     "metadata": {},
     "output_type": "execute_result"
    }
   ],
   "source": [
    "miami_florida.columns"
   ]
  },
  {
   "cell_type": "code",
   "execution_count": 30,
   "id": "cb82f66f",
   "metadata": {
    "execution": {
     "iopub.execute_input": "2022-04-16T05:14:59.328695Z",
     "iopub.status.busy": "2022-04-16T05:14:59.327968Z",
     "iopub.status.idle": "2022-04-16T05:14:59.334954Z",
     "shell.execute_reply": "2022-04-16T05:14:59.334289Z"
    },
    "id": "rJ8aQ95sZgI9",
    "outputId": "0f952987-d8b7-4e8e-acc3-0e95d801c662",
    "papermill": {
     "duration": 0.097632,
     "end_time": "2022-04-16T05:14:59.337202",
     "exception": false,
     "start_time": "2022-04-16T05:14:59.239570",
     "status": "completed"
    },
    "tags": []
   },
   "outputs": [
    {
     "data": {
      "text/plain": [
       "2    102903\n",
       "3      2376\n",
       "4      1565\n",
       "1        52\n",
       "Name: Severity, dtype: int64"
      ]
     },
     "execution_count": 30,
     "metadata": {},
     "output_type": "execute_result"
    }
   ],
   "source": [
    "miami_florida['Severity'].value_counts()"
   ]
  },
  {
   "cell_type": "markdown",
   "id": "2935e56a",
   "metadata": {
    "id": "PpKVGyIVbBad",
    "papermill": {
     "duration": 0.111191,
     "end_time": "2022-04-16T05:14:59.580686",
     "exception": false,
     "start_time": "2022-04-16T05:14:59.469495",
     "status": "completed"
    },
    "tags": []
   },
   "source": [
    "severity is not that high."
   ]
  },
  {
   "cell_type": "markdown",
   "id": "030cdd09",
   "metadata": {
    "id": "CVHnasUX271m",
    "papermill": {
     "duration": 0.088191,
     "end_time": "2022-04-16T05:14:59.757283",
     "exception": false,
     "start_time": "2022-04-16T05:14:59.669092",
     "status": "completed"
    },
    "tags": []
   },
   "source": [
    "### Extracting week and Hour from datetime columns"
   ]
  },
  {
   "cell_type": "code",
   "execution_count": 31,
   "id": "87f44320",
   "metadata": {
    "execution": {
     "iopub.execute_input": "2022-04-16T05:14:59.934737Z",
     "iopub.status.busy": "2022-04-16T05:14:59.934471Z",
     "iopub.status.idle": "2022-04-16T05:15:00.120023Z",
     "shell.execute_reply": "2022-04-16T05:15:00.119354Z"
    },
    "id": "eaj3q2z3ZgGF",
    "outputId": "41ecf966-5b44-4f77-a6f2-73456045dabe",
    "papermill": {
     "duration": 0.276422,
     "end_time": "2022-04-16T05:15:00.122066",
     "exception": false,
     "start_time": "2022-04-16T05:14:59.845644",
     "status": "completed"
    },
    "tags": []
   },
   "outputs": [
    {
     "name": "stderr",
     "output_type": "stream",
     "text": [
      "/opt/conda/lib/python3.7/site-packages/ipykernel_launcher.py:4: SettingWithCopyWarning: \n",
      "A value is trying to be set on a copy of a slice from a DataFrame.\n",
      "Try using .loc[row_indexer,col_indexer] = value instead\n",
      "\n",
      "See the caveats in the documentation: https://pandas.pydata.org/pandas-docs/stable/user_guide/indexing.html#returning-a-view-versus-a-copy\n",
      "  after removing the cwd from sys.path.\n"
     ]
    }
   ],
   "source": [
    "#now let's see at what time most accidents happen?\n",
    "#for this we use \"Start_Time\" feature\n",
    "pd.to_datetime(miami_florida['Start_Time']).dt.time\n",
    "miami_florida['hour']=pd.to_datetime(miami_florida['Start_Time']).dt.hour"
   ]
  },
  {
   "cell_type": "code",
   "execution_count": 32,
   "id": "78f949c4",
   "metadata": {
    "execution": {
     "iopub.execute_input": "2022-04-16T05:15:00.393766Z",
     "iopub.status.busy": "2022-04-16T05:15:00.393208Z",
     "iopub.status.idle": "2022-04-16T05:15:00.400151Z",
     "shell.execute_reply": "2022-04-16T05:15:00.399292Z"
    },
    "id": "063n8HzyZgC-",
    "papermill": {
     "duration": 0.145191,
     "end_time": "2022-04-16T05:15:00.402700",
     "exception": false,
     "start_time": "2022-04-16T05:15:00.257509",
     "status": "completed"
    },
    "tags": []
   },
   "outputs": [],
   "source": [
    "hour_list=list(miami_florida['hour'].value_counts().keys())\n",
    "hourly_accident=list(miami_florida['hour'].value_counts())"
   ]
  },
  {
   "cell_type": "code",
   "execution_count": 33,
   "id": "37962cef",
   "metadata": {
    "execution": {
     "iopub.execute_input": "2022-04-16T05:15:00.641887Z",
     "iopub.status.busy": "2022-04-16T05:15:00.641355Z",
     "iopub.status.idle": "2022-04-16T05:15:00.814298Z",
     "shell.execute_reply": "2022-04-16T05:15:00.813592Z"
    },
    "id": "VHf8D7LHgV2J",
    "outputId": "21cc5342-7828-49ce-c16f-9cd9c2f6f83b",
    "papermill": {
     "duration": 0.278226,
     "end_time": "2022-04-16T05:15:00.816476",
     "exception": false,
     "start_time": "2022-04-16T05:15:00.538250",
     "status": "completed"
    },
    "tags": []
   },
   "outputs": [
    {
     "data": {
      "text/plain": [
       "Text(0, 0.5, 'accident count')"
      ]
     },
     "execution_count": 33,
     "metadata": {},
     "output_type": "execute_result"
    },
    {
     "data": {
      "image/png": "[encoded data removed]",
      "text/plain": [
       "<Figure size 432x288 with 1 Axes>"
      ]
     },
     "metadata": {
      "needs_background": "light"
     },
     "output_type": "display_data"
    }
   ],
   "source": [
    "plt.bar(hour_list,hourly_accident)\n",
    "plt.xlabel(\"hour\")\n",
    "plt.ylabel(\"accident count\")"
   ]
  },
  {
   "cell_type": "markdown",
   "id": "e08da4eb",
   "metadata": {
    "id": "z8XGRw3KfCy3",
    "papermill": {
     "duration": 0.134304,
     "end_time": "2022-04-16T05:15:01.085529",
     "exception": false,
     "start_time": "2022-04-16T05:15:00.951225",
     "status": "completed"
    },
    "tags": []
   },
   "source": [
    "We can see that peak hours are around 1 or 2 p.m and most of the accidents happens in afternoon to evening time period."
   ]
  },
  {
   "cell_type": "code",
   "execution_count": 34,
   "id": "b085142e",
   "metadata": {
    "execution": {
     "iopub.execute_input": "2022-04-16T05:15:01.312322Z",
     "iopub.status.busy": "2022-04-16T05:15:01.312073Z",
     "iopub.status.idle": "2022-04-16T05:15:01.381551Z",
     "shell.execute_reply": "2022-04-16T05:15:01.381050Z"
    },
    "id": "CUJhSS7LZf9N",
    "outputId": "1e4a6656-083e-4640-8a92-21018e181c5a",
    "papermill": {
     "duration": 0.16315,
     "end_time": "2022-04-16T05:15:01.383579",
     "exception": false,
     "start_time": "2022-04-16T05:15:01.220429",
     "status": "completed"
    },
    "tags": []
   },
   "outputs": [
    {
     "name": "stderr",
     "output_type": "stream",
     "text": [
      "/opt/conda/lib/python3.7/site-packages/ipykernel_launcher.py:2: SettingWithCopyWarning: \n",
      "A value is trying to be set on a copy of a slice from a DataFrame.\n",
      "Try using .loc[row_indexer,col_indexer] = value instead\n",
      "\n",
      "See the caveats in the documentation: https://pandas.pydata.org/pandas-docs/stable/user_guide/indexing.html#returning-a-view-versus-a-copy\n",
      "  \n"
     ]
    }
   ],
   "source": [
    "#noew let's get the weekdays and analyse accidents weekly\n",
    "miami_florida['week']=pd.to_datetime(miami_florida['Start_Time']).dt.dayofweek"
   ]
  },
  {
   "cell_type": "code",
   "execution_count": 35,
   "id": "e13f1987",
   "metadata": {
    "execution": {
     "iopub.execute_input": "2022-04-16T05:15:01.563160Z",
     "iopub.status.busy": "2022-04-16T05:15:01.562505Z",
     "iopub.status.idle": "2022-04-16T05:15:01.830034Z",
     "shell.execute_reply": "2022-04-16T05:15:01.829346Z"
    },
    "id": "4t1LRXlpZf6e",
    "outputId": "5227bd4b-0442-4888-98da-7a71be69bda4",
    "papermill": {
     "duration": 0.359391,
     "end_time": "2022-04-16T05:15:01.831632",
     "exception": false,
     "start_time": "2022-04-16T05:15:01.472241",
     "status": "completed"
    },
    "tags": []
   },
   "outputs": [
    {
     "data": {
      "text/plain": [
       "Text(0, 0.5, 'accident count')"
      ]
     },
     "execution_count": 35,
     "metadata": {},
     "output_type": "execute_result"
    },
    {
     "data": {
      "image/png": "[encoded data removed]",
      "text/plain": [
       "<Figure size 432x288 with 1 Axes>"
      ]
     },
     "metadata": {
      "needs_background": "light"
     },
     "output_type": "display_data"
    }
   ],
   "source": [
    "week_list=list(miami_florida['week'].value_counts().keys())\n",
    "acc_by_week=list(miami_florida['week'].value_counts())\n",
    "plt.bar(week_list, acc_by_week)\n",
    "plt.xlabel(\"week\")\n",
    "plt.ylabel(\"accident count\")"
   ]
  },
  {
   "cell_type": "markdown",
   "id": "b783cf7a",
   "metadata": {
    "id": "FGuiT-gjiWpo",
    "papermill": {
     "duration": 0.087629,
     "end_time": "2022-04-16T05:15:02.007720",
     "exception": false,
     "start_time": "2022-04-16T05:15:01.920091",
     "status": "completed"
    },
    "tags": []
   },
   "source": [
    "Wed and Fri are peak week days for accident.\n",
    "* Monday to Sunday: 0-6"
   ]
  },
  {
   "cell_type": "code",
   "execution_count": 36,
   "id": "6ba5dfe4",
   "metadata": {
    "execution": {
     "iopub.execute_input": "2022-04-16T05:15:02.186618Z",
     "iopub.status.busy": "2022-04-16T05:15:02.186170Z",
     "iopub.status.idle": "2022-04-16T05:15:02.407751Z",
     "shell.execute_reply": "2022-04-16T05:15:02.407084Z"
    },
    "id": "RnEgMliwZf3N",
    "outputId": "af7ab62c-0b98-42e7-abbd-611c5af345ee",
    "papermill": {
     "duration": 0.3132,
     "end_time": "2022-04-16T05:15:02.409221",
     "exception": false,
     "start_time": "2022-04-16T05:15:02.096021",
     "status": "completed"
    },
    "tags": []
   },
   "outputs": [
    {
     "data": {
      "text/plain": [
       "Text(0, 0.5, 'accident count')"
      ]
     },
     "execution_count": 36,
     "metadata": {},
     "output_type": "execute_result"
    },
    {
     "data": {
      "image/png": "[encoded data removed]",
      "text/plain": [
       "<Figure size 432x288 with 1 Axes>"
      ]
     },
     "metadata": {
      "needs_background": "light"
     },
     "output_type": "display_data"
    }
   ],
   "source": [
    "#now let's find on these peek days what is the hour of accident\n",
    "week_list=miami_florida[miami_florida['week']==2]['hour'].value_counts().keys()\n",
    "acc_by_week= miami_florida[miami_florida['week']==2]['hour'].value_counts()\n",
    "plt.bar(week_list, acc_by_week)\n",
    "plt.title(\"accident count of peek hour at 2 p.m.\")\n",
    "plt.xlabel(\"week\")\n",
    "plt.ylabel(\"accident count\")"
   ]
  },
  {
   "cell_type": "markdown",
   "id": "b81d2488",
   "metadata": {
    "id": "CyzcSD3MWET3",
    "papermill": {
     "duration": 0.091931,
     "end_time": "2022-04-16T05:15:02.591804",
     "exception": false,
     "start_time": "2022-04-16T05:15:02.499873",
     "status": "completed"
    },
    "tags": []
   },
   "source": [
    "peak hour is same for week 2"
   ]
  },
  {
   "cell_type": "markdown",
   "id": "d2189b3f",
   "metadata": {
    "id": "pYxc5HJ-3PLK",
    "papermill": {
     "duration": 0.091025,
     "end_time": "2022-04-16T05:15:02.773117",
     "exception": false,
     "start_time": "2022-04-16T05:15:02.682092",
     "status": "completed"
    },
    "tags": []
   },
   "source": [
    "### Extracting year from datetime column"
   ]
  },
  {
   "cell_type": "code",
   "execution_count": 37,
   "id": "0fffee13",
   "metadata": {
    "execution": {
     "iopub.execute_input": "2022-04-16T05:15:02.954824Z",
     "iopub.status.busy": "2022-04-16T05:15:02.954581Z",
     "iopub.status.idle": "2022-04-16T05:15:03.065844Z",
     "shell.execute_reply": "2022-04-16T05:15:03.065135Z"
    },
    "id": "G0YtSjpn3TVc",
    "outputId": "9c65a287-0a8f-42be-e60c-83907f29dd3b",
    "papermill": {
     "duration": 0.203813,
     "end_time": "2022-04-16T05:15:03.067542",
     "exception": false,
     "start_time": "2022-04-16T05:15:02.863729",
     "status": "completed"
    },
    "tags": []
   },
   "outputs": [
    {
     "name": "stderr",
     "output_type": "stream",
     "text": [
      "/opt/conda/lib/python3.7/site-packages/ipykernel_launcher.py:2: SettingWithCopyWarning: \n",
      "A value is trying to be set on a copy of a slice from a DataFrame.\n",
      "Try using .loc[row_indexer,col_indexer] = value instead\n",
      "\n",
      "See the caveats in the documentation: https://pandas.pydata.org/pandas-docs/stable/user_guide/indexing.html#returning-a-view-versus-a-copy\n",
      "  \n"
     ]
    }
   ],
   "source": [
    "pd.to_datetime(miami_florida['Start_Time']).dt.year\n",
    "miami_florida['Year']=pd.to_datetime(miami_florida['Start_Time']).dt.year"
   ]
  },
  {
   "cell_type": "code",
   "execution_count": 38,
   "id": "98b3f194",
   "metadata": {
    "execution": {
     "iopub.execute_input": "2022-04-16T05:15:03.252467Z",
     "iopub.status.busy": "2022-04-16T05:15:03.251287Z",
     "iopub.status.idle": "2022-04-16T05:15:03.416395Z",
     "shell.execute_reply": "2022-04-16T05:15:03.415903Z"
    },
    "id": "hRbOXsee3TOL",
    "outputId": "a805e9b8-33d8-488f-ab26-2def70fd9187",
    "papermill": {
     "duration": 0.259335,
     "end_time": "2022-04-16T05:15:03.417702",
     "exception": false,
     "start_time": "2022-04-16T05:15:03.158367",
     "status": "completed"
    },
    "tags": []
   },
   "outputs": [
    {
     "data": {
      "text/plain": [
       "Text(0.5, 1.0, 'Accident by Year in Miami,Florida')"
      ]
     },
     "execution_count": 38,
     "metadata": {},
     "output_type": "execute_result"
    },
    {
     "data": {
      "image/png": "[encoded data removed]",
      "text/plain": [
       "<Figure size 432x288 with 1 Axes>"
      ]
     },
     "metadata": {
      "needs_background": "light"
     },
     "output_type": "display_data"
    }
   ],
   "source": [
    "plt.bar(miami_florida['Year'].value_counts().keys(), miami_florida['Year'].value_counts())\n",
    "plt.xlabel('Year')\n",
    "plt.ylabel(\"accident count\")\n",
    "plt.title(\"Accident by Year in Miami,Florida\")"
   ]
  },
  {
   "cell_type": "code",
   "execution_count": 39,
   "id": "5a54424b",
   "metadata": {
    "execution": {
     "iopub.execute_input": "2022-04-16T05:15:03.601470Z",
     "iopub.status.busy": "2022-04-16T05:15:03.601084Z",
     "iopub.status.idle": "2022-04-16T05:15:04.445490Z",
     "shell.execute_reply": "2022-04-16T05:15:04.444815Z"
    },
    "id": "lGKrgyFR7OaN",
    "outputId": "80f7b914-127d-4013-ac25-bc12215b3107",
    "papermill": {
     "duration": 0.938824,
     "end_time": "2022-04-16T05:15:04.447011",
     "exception": false,
     "start_time": "2022-04-16T05:15:03.508187",
     "status": "completed"
    },
    "tags": []
   },
   "outputs": [
    {
     "data": {
      "text/plain": [
       "Text(0.5, 1.0, 'Accident by Year in USA')"
      ]
     },
     "execution_count": 39,
     "metadata": {},
     "output_type": "execute_result"
    },
    {
     "data": {
      "image/png": "[encoded data removed]",
      "text/plain": [
       "<Figure size 432x288 with 1 Axes>"
      ]
     },
     "metadata": {
      "needs_background": "light"
     },
     "output_type": "display_data"
    }
   ],
   "source": [
    "data['Year']=pd.to_datetime(data['Start_Time']).dt.year\n",
    "plt.bar(data['Year'].value_counts().keys(), data['Year'].value_counts())\n",
    "plt.xlabel('Year')\n",
    "plt.ylabel(\"accident count\")\n",
    "plt.title(\"Accident by Year in USA\")"
   ]
  },
  {
   "cell_type": "markdown",
   "id": "bd30beba",
   "metadata": {
    "id": "W7dkRted40xG",
    "papermill": {
     "duration": 0.09303,
     "end_time": "2022-04-16T05:15:04.632822",
     "exception": false,
     "start_time": "2022-04-16T05:15:04.539792",
     "status": "completed"
    },
    "tags": []
   },
   "source": [
    "**Obs:** Before pandemic, the accidents were very low but as soon as effect of pandemic going down, accident is getting high. Strange!! Surprisingly **2021 was the deadliest year in whole USA and in Miami also.**"
   ]
  },
  {
   "cell_type": "markdown",
   "id": "ab06e7e4",
   "metadata": {
    "id": "cCZ4u6cE6ZuI",
    "papermill": {
     "duration": 0.092879,
     "end_time": "2022-04-16T05:15:04.818065",
     "exception": false,
     "start_time": "2022-04-16T05:15:04.725186",
     "status": "completed"
    },
    "tags": []
   },
   "source": [
    "### Extracting month"
   ]
  },
  {
   "cell_type": "code",
   "execution_count": 40,
   "id": "1138758f",
   "metadata": {
    "execution": {
     "iopub.execute_input": "2022-04-16T05:15:05.005014Z",
     "iopub.status.busy": "2022-04-16T05:15:05.004767Z",
     "iopub.status.idle": "2022-04-16T05:15:05.135447Z",
     "shell.execute_reply": "2022-04-16T05:15:05.134230Z"
    },
    "id": "V_8SNPcF3TLA",
    "outputId": "2c57567b-4d22-4049-bea8-d7b398e7d5da",
    "papermill": {
     "duration": 0.226892,
     "end_time": "2022-04-16T05:15:05.138009",
     "exception": false,
     "start_time": "2022-04-16T05:15:04.911117",
     "status": "completed"
    },
    "tags": []
   },
   "outputs": [
    {
     "name": "stderr",
     "output_type": "stream",
     "text": [
      "/opt/conda/lib/python3.7/site-packages/ipykernel_launcher.py:2: SettingWithCopyWarning: \n",
      "A value is trying to be set on a copy of a slice from a DataFrame.\n",
      "Try using .loc[row_indexer,col_indexer] = value instead\n",
      "\n",
      "See the caveats in the documentation: https://pandas.pydata.org/pandas-docs/stable/user_guide/indexing.html#returning-a-view-versus-a-copy\n",
      "  \n"
     ]
    }
   ],
   "source": [
    "pd.to_datetime(miami_florida['Start_Time']).dt.month\n",
    "miami_florida['Month']=pd.to_datetime(miami_florida['Start_Time']).dt.month"
   ]
  },
  {
   "cell_type": "code",
   "execution_count": 41,
   "id": "afd5828e",
   "metadata": {
    "execution": {
     "iopub.execute_input": "2022-04-16T05:15:05.425158Z",
     "iopub.status.busy": "2022-04-16T05:15:05.424688Z",
     "iopub.status.idle": "2022-04-16T05:15:05.583720Z",
     "shell.execute_reply": "2022-04-16T05:15:05.582906Z"
    },
    "id": "zadjngzq3THx",
    "outputId": "3f88d1a1-9b26-447c-9c01-57fe1a4e183f",
    "papermill": {
     "duration": 0.303781,
     "end_time": "2022-04-16T05:15:05.586218",
     "exception": false,
     "start_time": "2022-04-16T05:15:05.282437",
     "status": "completed"
    },
    "tags": []
   },
   "outputs": [
    {
     "data": {
      "text/plain": [
       "Text(0.5, 1.0, 'Accident by Month in Miami,Florida')"
      ]
     },
     "execution_count": 41,
     "metadata": {},
     "output_type": "execute_result"
    },
    {
     "data": {
      "image/png": "[encoded data removed]",
      "text/plain": [
       "<Figure size 432x288 with 1 Axes>"
      ]
     },
     "metadata": {
      "needs_background": "light"
     },
     "output_type": "display_data"
    }
   ],
   "source": [
    "plt.bar(miami_florida['Month'].value_counts().keys(), miami_florida['Month'].value_counts())\n",
    "plt.xlabel('Month')\n",
    "plt.ylabel(\"accident count\")\n",
    "plt.title(\"Accident by Month in Miami,Florida\")"
   ]
  },
  {
   "cell_type": "code",
   "execution_count": 42,
   "id": "2f1eb948",
   "metadata": {
    "execution": {
     "iopub.execute_input": "2022-04-16T05:15:05.828716Z",
     "iopub.status.busy": "2022-04-16T05:15:05.828484Z",
     "iopub.status.idle": "2022-04-16T05:15:06.368701Z",
     "shell.execute_reply": "2022-04-16T05:15:06.367187Z"
    },
    "id": "2zdnY5VJ3TEZ",
    "papermill": {
     "duration": 0.639224,
     "end_time": "2022-04-16T05:15:06.371293",
     "exception": false,
     "start_time": "2022-04-16T05:15:05.732069",
     "status": "completed"
    },
    "tags": []
   },
   "outputs": [],
   "source": [
    "data['Month']=pd.to_datetime(data['Start_Time']).dt.month"
   ]
  },
  {
   "cell_type": "code",
   "execution_count": 43,
   "id": "f31159e1",
   "metadata": {
    "execution": {
     "iopub.execute_input": "2022-04-16T05:15:06.661184Z",
     "iopub.status.busy": "2022-04-16T05:15:06.660963Z",
     "iopub.status.idle": "2022-04-16T05:15:06.857257Z",
     "shell.execute_reply": "2022-04-16T05:15:06.856501Z"
    },
    "id": "gn3_qug77Bqy",
    "outputId": "f451c1f5-f55b-4389-f324-0f6340c17f72",
    "papermill": {
     "duration": 0.343741,
     "end_time": "2022-04-16T05:15:06.859193",
     "exception": false,
     "start_time": "2022-04-16T05:15:06.515452",
     "status": "completed"
    },
    "tags": []
   },
   "outputs": [
    {
     "data": {
      "text/plain": [
       "Text(0.5, 1.0, 'Accident by Month in USA')"
      ]
     },
     "execution_count": 43,
     "metadata": {},
     "output_type": "execute_result"
    },
    {
     "data": {
      "image/png": "[encoded data removed]",
      "text/plain": [
       "<Figure size 432x288 with 1 Axes>"
      ]
     },
     "metadata": {
      "needs_background": "light"
     },
     "output_type": "display_data"
    }
   ],
   "source": [
    "plt.bar(data['Month'].value_counts().keys(), data['Month'].value_counts())\n",
    "plt.xlabel('Month')\n",
    "plt.ylabel(\"accident count\")\n",
    "plt.title(\"Accident by Month in USA\")"
   ]
  },
  {
   "cell_type": "code",
   "execution_count": null,
   "id": "85579d62",
   "metadata": {
    "id": "J0IVClie7MPM",
    "papermill": {
     "duration": 0.143467,
     "end_time": "2022-04-16T05:15:07.146023",
     "exception": false,
     "start_time": "2022-04-16T05:15:07.002556",
     "status": "completed"
    },
    "tags": []
   },
   "outputs": [],
   "source": []
  },
  {
   "cell_type": "code",
   "execution_count": 44,
   "id": "f7a7d634",
   "metadata": {
    "execution": {
     "iopub.execute_input": "2022-04-16T05:15:07.377299Z",
     "iopub.status.busy": "2022-04-16T05:15:07.377091Z",
     "iopub.status.idle": "2022-04-16T05:15:07.383041Z",
     "shell.execute_reply": "2022-04-16T05:15:07.382067Z"
    },
    "id": "oOthD7CUZf0g",
    "outputId": "79e07f2e-418a-4c70-9720-bd48f5870a8f",
    "papermill": {
     "duration": 0.102608,
     "end_time": "2022-04-16T05:15:07.384990",
     "exception": false,
     "start_time": "2022-04-16T05:15:07.282382",
     "status": "completed"
    },
    "tags": []
   },
   "outputs": [
    {
     "data": {
      "text/plain": [
       "Index(['ID', 'Severity', 'Start_Time', 'End_Time', 'Start_Lat', 'Start_Lng',\n",
       "       'End_Lat', 'End_Lng', 'Distance(mi)', 'Description', 'Number', 'Street',\n",
       "       'Side', 'City', 'County', 'State', 'Zipcode', 'Country', 'Timezone',\n",
       "       'Airport_Code', 'Weather_Timestamp', 'Temperature(F)', 'Wind_Chill(F)',\n",
       "       'Humidity(%)', 'Pressure(in)', 'Visibility(mi)', 'Wind_Direction',\n",
       "       'Wind_Speed(mph)', 'Precipitation(in)', 'Weather_Condition', 'Amenity',\n",
       "       'Bump', 'Crossing', 'Give_Way', 'Junction', 'No_Exit', 'Railway',\n",
       "       'Roundabout', 'Station', 'Stop', 'Traffic_Calming', 'Traffic_Signal',\n",
       "       'Turning_Loop', 'Sunrise_Sunset', 'Civil_Twilight', 'Nautical_Twilight',\n",
       "       'Astronomical_Twilight', 'hour', 'week', 'Year', 'Month'],\n",
       "      dtype='object')"
      ]
     },
     "execution_count": 44,
     "metadata": {},
     "output_type": "execute_result"
    }
   ],
   "source": [
    "miami_florida.columns"
   ]
  },
  {
   "cell_type": "code",
   "execution_count": 45,
   "id": "8493500f",
   "metadata": {
    "execution": {
     "iopub.execute_input": "2022-04-16T05:15:07.680704Z",
     "iopub.status.busy": "2022-04-16T05:15:07.680467Z",
     "iopub.status.idle": "2022-04-16T05:15:07.920935Z",
     "shell.execute_reply": "2022-04-16T05:15:07.919929Z"
    },
    "id": "dVpnUdvOZfva",
    "outputId": "8ea5234f-1f6d-48f2-962e-b7a24e51cc4b",
    "papermill": {
     "duration": 0.389893,
     "end_time": "2022-04-16T05:15:07.923278",
     "exception": false,
     "start_time": "2022-04-16T05:15:07.533385",
     "status": "completed"
    },
    "tags": []
   },
   "outputs": [
    {
     "data": {
      "text/html": [
       "<div>\n",
       "<style scoped>\n",
       "    .dataframe tbody tr th:only-of-type {\n",
       "        vertical-align: middle;\n",
       "    }\n",
       "\n",
       "    .dataframe tbody tr th {\n",
       "        vertical-align: top;\n",
       "    }\n",
       "\n",
       "    .dataframe thead th {\n",
       "        text-align: right;\n",
       "    }\n",
       "</style>\n",
       "<table border=\"1\" class=\"dataframe\">\n",
       "  <thead>\n",
       "    <tr style=\"text-align: right;\">\n",
       "      <th></th>\n",
       "      <th>Severity</th>\n",
       "      <th>Start_Lat</th>\n",
       "      <th>Start_Lng</th>\n",
       "      <th>End_Lat</th>\n",
       "      <th>End_Lng</th>\n",
       "      <th>Distance(mi)</th>\n",
       "      <th>Number</th>\n",
       "      <th>Temperature(F)</th>\n",
       "      <th>Wind_Chill(F)</th>\n",
       "      <th>Humidity(%)</th>\n",
       "      <th>...</th>\n",
       "      <th>Roundabout</th>\n",
       "      <th>Station</th>\n",
       "      <th>Stop</th>\n",
       "      <th>Traffic_Calming</th>\n",
       "      <th>Traffic_Signal</th>\n",
       "      <th>Turning_Loop</th>\n",
       "      <th>hour</th>\n",
       "      <th>week</th>\n",
       "      <th>Year</th>\n",
       "      <th>Month</th>\n",
       "    </tr>\n",
       "  </thead>\n",
       "  <tbody>\n",
       "    <tr>\n",
       "      <th>Severity</th>\n",
       "      <td>1.000000</td>\n",
       "      <td>0.104496</td>\n",
       "      <td>0.122909</td>\n",
       "      <td>0.105753</td>\n",
       "      <td>0.121903</td>\n",
       "      <td>0.093915</td>\n",
       "      <td>-0.034496</td>\n",
       "      <td>-0.009886</td>\n",
       "      <td>0.010341</td>\n",
       "      <td>0.038514</td>\n",
       "      <td>...</td>\n",
       "      <td>-0.003148</td>\n",
       "      <td>-0.070889</td>\n",
       "      <td>-0.014700</td>\n",
       "      <td>-0.003815</td>\n",
       "      <td>-0.027311</td>\n",
       "      <td>NaN</td>\n",
       "      <td>-0.066502</td>\n",
       "      <td>0.015518</td>\n",
       "      <td>-0.398727</td>\n",
       "      <td>-0.094517</td>\n",
       "    </tr>\n",
       "    <tr>\n",
       "      <th>Start_Lat</th>\n",
       "      <td>0.104496</td>\n",
       "      <td>1.000000</td>\n",
       "      <td>0.813400</td>\n",
       "      <td>0.994534</td>\n",
       "      <td>0.811874</td>\n",
       "      <td>0.161797</td>\n",
       "      <td>-0.363367</td>\n",
       "      <td>-0.053484</td>\n",
       "      <td>-0.057234</td>\n",
       "      <td>0.025326</td>\n",
       "      <td>...</td>\n",
       "      <td>0.006435</td>\n",
       "      <td>0.043750</td>\n",
       "      <td>0.023011</td>\n",
       "      <td>0.001874</td>\n",
       "      <td>-0.043204</td>\n",
       "      <td>NaN</td>\n",
       "      <td>-0.028850</td>\n",
       "      <td>-0.000334</td>\n",
       "      <td>-0.116387</td>\n",
       "      <td>-0.051223</td>\n",
       "    </tr>\n",
       "    <tr>\n",
       "      <th>Start_Lng</th>\n",
       "      <td>0.122909</td>\n",
       "      <td>0.813400</td>\n",
       "      <td>1.000000</td>\n",
       "      <td>0.812348</td>\n",
       "      <td>0.998094</td>\n",
       "      <td>0.187089</td>\n",
       "      <td>-0.366808</td>\n",
       "      <td>-0.054522</td>\n",
       "      <td>-0.059403</td>\n",
       "      <td>0.026993</td>\n",
       "      <td>...</td>\n",
       "      <td>0.004171</td>\n",
       "      <td>0.049990</td>\n",
       "      <td>0.043035</td>\n",
       "      <td>0.013076</td>\n",
       "      <td>-0.031283</td>\n",
       "      <td>NaN</td>\n",
       "      <td>-0.030816</td>\n",
       "      <td>0.009109</td>\n",
       "      <td>-0.152737</td>\n",
       "      <td>-0.068014</td>\n",
       "    </tr>\n",
       "    <tr>\n",
       "      <th>End_Lat</th>\n",
       "      <td>0.105753</td>\n",
       "      <td>0.994534</td>\n",
       "      <td>0.812348</td>\n",
       "      <td>1.000000</td>\n",
       "      <td>0.811444</td>\n",
       "      <td>0.179728</td>\n",
       "      <td>-0.362866</td>\n",
       "      <td>-0.052740</td>\n",
       "      <td>-0.056473</td>\n",
       "      <td>0.024810</td>\n",
       "      <td>...</td>\n",
       "      <td>0.006359</td>\n",
       "      <td>0.043718</td>\n",
       "      <td>0.023002</td>\n",
       "      <td>0.001991</td>\n",
       "      <td>-0.043687</td>\n",
       "      <td>NaN</td>\n",
       "      <td>-0.026345</td>\n",
       "      <td>-0.000093</td>\n",
       "      <td>-0.115798</td>\n",
       "      <td>-0.050349</td>\n",
       "    </tr>\n",
       "    <tr>\n",
       "      <th>End_Lng</th>\n",
       "      <td>0.121903</td>\n",
       "      <td>0.811874</td>\n",
       "      <td>0.998094</td>\n",
       "      <td>0.811444</td>\n",
       "      <td>1.000000</td>\n",
       "      <td>0.187575</td>\n",
       "      <td>-0.366477</td>\n",
       "      <td>-0.055632</td>\n",
       "      <td>-0.060681</td>\n",
       "      <td>0.028203</td>\n",
       "      <td>...</td>\n",
       "      <td>0.004051</td>\n",
       "      <td>0.049899</td>\n",
       "      <td>0.044486</td>\n",
       "      <td>0.013161</td>\n",
       "      <td>-0.031765</td>\n",
       "      <td>NaN</td>\n",
       "      <td>-0.033844</td>\n",
       "      <td>0.009731</td>\n",
       "      <td>-0.151334</td>\n",
       "      <td>-0.067729</td>\n",
       "    </tr>\n",
       "    <tr>\n",
       "      <th>Distance(mi)</th>\n",
       "      <td>0.093915</td>\n",
       "      <td>0.161797</td>\n",
       "      <td>0.187089</td>\n",
       "      <td>0.179728</td>\n",
       "      <td>0.187575</td>\n",
       "      <td>1.000000</td>\n",
       "      <td>0.007499</td>\n",
       "      <td>-0.005423</td>\n",
       "      <td>-0.002109</td>\n",
       "      <td>0.050537</td>\n",
       "      <td>...</td>\n",
       "      <td>-0.006498</td>\n",
       "      <td>-0.105252</td>\n",
       "      <td>-0.019162</td>\n",
       "      <td>-0.007865</td>\n",
       "      <td>-0.084376</td>\n",
       "      <td>NaN</td>\n",
       "      <td>-0.041732</td>\n",
       "      <td>0.012293</td>\n",
       "      <td>-0.056000</td>\n",
       "      <td>-0.015250</td>\n",
       "    </tr>\n",
       "    <tr>\n",
       "      <th>Number</th>\n",
       "      <td>-0.034496</td>\n",
       "      <td>-0.363367</td>\n",
       "      <td>-0.366808</td>\n",
       "      <td>-0.362866</td>\n",
       "      <td>-0.366477</td>\n",
       "      <td>0.007499</td>\n",
       "      <td>1.000000</td>\n",
       "      <td>-0.012541</td>\n",
       "      <td>-0.014379</td>\n",
       "      <td>-0.011463</td>\n",
       "      <td>...</td>\n",
       "      <td>-0.005811</td>\n",
       "      <td>-0.091841</td>\n",
       "      <td>-0.050712</td>\n",
       "      <td>-0.019931</td>\n",
       "      <td>-0.003539</td>\n",
       "      <td>NaN</td>\n",
       "      <td>-0.005660</td>\n",
       "      <td>0.035932</td>\n",
       "      <td>0.006314</td>\n",
       "      <td>0.003666</td>\n",
       "    </tr>\n",
       "    <tr>\n",
       "      <th>Temperature(F)</th>\n",
       "      <td>-0.009886</td>\n",
       "      <td>-0.053484</td>\n",
       "      <td>-0.054522</td>\n",
       "      <td>-0.052740</td>\n",
       "      <td>-0.055632</td>\n",
       "      <td>-0.005423</td>\n",
       "      <td>-0.012541</td>\n",
       "      <td>1.000000</td>\n",
       "      <td>0.999833</td>\n",
       "      <td>-0.258200</td>\n",
       "      <td>...</td>\n",
       "      <td>-0.005346</td>\n",
       "      <td>0.013713</td>\n",
       "      <td>0.011377</td>\n",
       "      <td>0.003106</td>\n",
       "      <td>-0.049264</td>\n",
       "      <td>NaN</td>\n",
       "      <td>0.237467</td>\n",
       "      <td>-0.009146</td>\n",
       "      <td>-0.005741</td>\n",
       "      <td>0.110269</td>\n",
       "    </tr>\n",
       "    <tr>\n",
       "      <th>Wind_Chill(F)</th>\n",
       "      <td>0.010341</td>\n",
       "      <td>-0.057234</td>\n",
       "      <td>-0.059403</td>\n",
       "      <td>-0.056473</td>\n",
       "      <td>-0.060681</td>\n",
       "      <td>-0.002109</td>\n",
       "      <td>-0.014379</td>\n",
       "      <td>0.999833</td>\n",
       "      <td>1.000000</td>\n",
       "      <td>-0.258854</td>\n",
       "      <td>...</td>\n",
       "      <td>-0.005467</td>\n",
       "      <td>0.014898</td>\n",
       "      <td>0.012345</td>\n",
       "      <td>0.003308</td>\n",
       "      <td>-0.059348</td>\n",
       "      <td>NaN</td>\n",
       "      <td>0.237562</td>\n",
       "      <td>-0.003837</td>\n",
       "      <td>0.050058</td>\n",
       "      <td>0.104360</td>\n",
       "    </tr>\n",
       "    <tr>\n",
       "      <th>Humidity(%)</th>\n",
       "      <td>0.038514</td>\n",
       "      <td>0.025326</td>\n",
       "      <td>0.026993</td>\n",
       "      <td>0.024810</td>\n",
       "      <td>0.028203</td>\n",
       "      <td>0.050537</td>\n",
       "      <td>-0.011463</td>\n",
       "      <td>-0.258200</td>\n",
       "      <td>-0.258854</td>\n",
       "      <td>1.000000</td>\n",
       "      <td>...</td>\n",
       "      <td>0.007023</td>\n",
       "      <td>-0.031304</td>\n",
       "      <td>-0.001907</td>\n",
       "      <td>0.004566</td>\n",
       "      <td>0.021805</td>\n",
       "      <td>NaN</td>\n",
       "      <td>-0.265631</td>\n",
       "      <td>0.093968</td>\n",
       "      <td>-0.062124</td>\n",
       "      <td>0.001954</td>\n",
       "    </tr>\n",
       "    <tr>\n",
       "      <th>Pressure(in)</th>\n",
       "      <td>0.032305</td>\n",
       "      <td>0.054719</td>\n",
       "      <td>0.057606</td>\n",
       "      <td>0.055374</td>\n",
       "      <td>0.057853</td>\n",
       "      <td>-0.000455</td>\n",
       "      <td>0.017119</td>\n",
       "      <td>-0.299804</td>\n",
       "      <td>-0.301679</td>\n",
       "      <td>-0.181799</td>\n",
       "      <td>...</td>\n",
       "      <td>0.002997</td>\n",
       "      <td>-0.015120</td>\n",
       "      <td>-0.012363</td>\n",
       "      <td>0.001233</td>\n",
       "      <td>0.019999</td>\n",
       "      <td>NaN</td>\n",
       "      <td>-0.064459</td>\n",
       "      <td>-0.019576</td>\n",
       "      <td>-0.028542</td>\n",
       "      <td>-0.056413</td>\n",
       "    </tr>\n",
       "    <tr>\n",
       "      <th>Visibility(mi)</th>\n",
       "      <td>0.001296</td>\n",
       "      <td>0.024983</td>\n",
       "      <td>0.028072</td>\n",
       "      <td>0.023192</td>\n",
       "      <td>0.027863</td>\n",
       "      <td>-0.012070</td>\n",
       "      <td>-0.013270</td>\n",
       "      <td>0.117449</td>\n",
       "      <td>0.116139</td>\n",
       "      <td>-0.308432</td>\n",
       "      <td>...</td>\n",
       "      <td>0.001114</td>\n",
       "      <td>0.002496</td>\n",
       "      <td>-0.001208</td>\n",
       "      <td>-0.003882</td>\n",
       "      <td>0.006302</td>\n",
       "      <td>NaN</td>\n",
       "      <td>0.030053</td>\n",
       "      <td>-0.017924</td>\n",
       "      <td>-0.003189</td>\n",
       "      <td>-0.000328</td>\n",
       "    </tr>\n",
       "    <tr>\n",
       "      <th>Wind_Speed(mph)</th>\n",
       "      <td>0.006925</td>\n",
       "      <td>-0.003248</td>\n",
       "      <td>0.011537</td>\n",
       "      <td>-0.001891</td>\n",
       "      <td>0.009748</td>\n",
       "      <td>-0.015832</td>\n",
       "      <td>-0.001831</td>\n",
       "      <td>0.265888</td>\n",
       "      <td>0.267169</td>\n",
       "      <td>-0.409019</td>\n",
       "      <td>...</td>\n",
       "      <td>-0.000873</td>\n",
       "      <td>0.014922</td>\n",
       "      <td>0.000197</td>\n",
       "      <td>-0.001862</td>\n",
       "      <td>-0.014817</td>\n",
       "      <td>NaN</td>\n",
       "      <td>0.189808</td>\n",
       "      <td>-0.056928</td>\n",
       "      <td>-0.095910</td>\n",
       "      <td>0.036896</td>\n",
       "    </tr>\n",
       "    <tr>\n",
       "      <th>Precipitation(in)</th>\n",
       "      <td>0.025249</td>\n",
       "      <td>0.007762</td>\n",
       "      <td>0.007571</td>\n",
       "      <td>0.008461</td>\n",
       "      <td>0.007240</td>\n",
       "      <td>0.012230</td>\n",
       "      <td>-0.016146</td>\n",
       "      <td>-0.039020</td>\n",
       "      <td>-0.037222</td>\n",
       "      <td>0.179703</td>\n",
       "      <td>...</td>\n",
       "      <td>0.000992</td>\n",
       "      <td>-0.008166</td>\n",
       "      <td>0.003198</td>\n",
       "      <td>0.000762</td>\n",
       "      <td>-0.005728</td>\n",
       "      <td>NaN</td>\n",
       "      <td>0.029789</td>\n",
       "      <td>0.008314</td>\n",
       "      <td>-0.052534</td>\n",
       "      <td>0.005286</td>\n",
       "    </tr>\n",
       "    <tr>\n",
       "      <th>Amenity</th>\n",
       "      <td>-0.018580</td>\n",
       "      <td>-0.027712</td>\n",
       "      <td>-0.015106</td>\n",
       "      <td>-0.027583</td>\n",
       "      <td>-0.014772</td>\n",
       "      <td>-0.036174</td>\n",
       "      <td>0.022118</td>\n",
       "      <td>0.001081</td>\n",
       "      <td>0.001235</td>\n",
       "      <td>-0.011384</td>\n",
       "      <td>...</td>\n",
       "      <td>-0.002453</td>\n",
       "      <td>0.022918</td>\n",
       "      <td>-0.009319</td>\n",
       "      <td>0.000239</td>\n",
       "      <td>0.045611</td>\n",
       "      <td>NaN</td>\n",
       "      <td>0.008159</td>\n",
       "      <td>0.004931</td>\n",
       "      <td>0.027947</td>\n",
       "      <td>0.020015</td>\n",
       "    </tr>\n",
       "    <tr>\n",
       "      <th>Bump</th>\n",
       "      <td>-0.001759</td>\n",
       "      <td>-0.008903</td>\n",
       "      <td>-0.011059</td>\n",
       "      <td>-0.008867</td>\n",
       "      <td>-0.010986</td>\n",
       "      <td>-0.003898</td>\n",
       "      <td>0.007277</td>\n",
       "      <td>-0.000135</td>\n",
       "      <td>-0.000099</td>\n",
       "      <td>0.003439</td>\n",
       "      <td>...</td>\n",
       "      <td>-0.000167</td>\n",
       "      <td>0.001383</td>\n",
       "      <td>-0.000803</td>\n",
       "      <td>0.461186</td>\n",
       "      <td>-0.003678</td>\n",
       "      <td>NaN</td>\n",
       "      <td>-0.003426</td>\n",
       "      <td>0.001533</td>\n",
       "      <td>0.002527</td>\n",
       "      <td>-0.001971</td>\n",
       "    </tr>\n",
       "    <tr>\n",
       "      <th>Crossing</th>\n",
       "      <td>-0.057098</td>\n",
       "      <td>-0.263653</td>\n",
       "      <td>-0.141102</td>\n",
       "      <td>-0.264462</td>\n",
       "      <td>-0.142498</td>\n",
       "      <td>-0.107671</td>\n",
       "      <td>0.081299</td>\n",
       "      <td>0.010193</td>\n",
       "      <td>0.006938</td>\n",
       "      <td>-0.031112</td>\n",
       "      <td>...</td>\n",
       "      <td>-0.002776</td>\n",
       "      <td>0.074687</td>\n",
       "      <td>0.099556</td>\n",
       "      <td>0.002493</td>\n",
       "      <td>0.302038</td>\n",
       "      <td>NaN</td>\n",
       "      <td>0.014716</td>\n",
       "      <td>0.004703</td>\n",
       "      <td>0.063294</td>\n",
       "      <td>0.032004</td>\n",
       "    </tr>\n",
       "    <tr>\n",
       "      <th>Give_Way</th>\n",
       "      <td>0.009372</td>\n",
       "      <td>-0.023036</td>\n",
       "      <td>-0.019341</td>\n",
       "      <td>-0.022776</td>\n",
       "      <td>-0.019425</td>\n",
       "      <td>-0.009535</td>\n",
       "      <td>-0.007609</td>\n",
       "      <td>-0.005764</td>\n",
       "      <td>-0.009240</td>\n",
       "      <td>0.002441</td>\n",
       "      <td>...</td>\n",
       "      <td>0.013899</td>\n",
       "      <td>-0.015584</td>\n",
       "      <td>0.003010</td>\n",
       "      <td>-0.000781</td>\n",
       "      <td>0.084286</td>\n",
       "      <td>NaN</td>\n",
       "      <td>0.001662</td>\n",
       "      <td>0.004830</td>\n",
       "      <td>-0.025518</td>\n",
       "      <td>-0.007503</td>\n",
       "    </tr>\n",
       "    <tr>\n",
       "      <th>Junction</th>\n",
       "      <td>0.204610</td>\n",
       "      <td>0.121184</td>\n",
       "      <td>0.140582</td>\n",
       "      <td>0.122249</td>\n",
       "      <td>0.141174</td>\n",
       "      <td>0.111458</td>\n",
       "      <td>-0.043972</td>\n",
       "      <td>-0.010591</td>\n",
       "      <td>-0.011962</td>\n",
       "      <td>0.050007</td>\n",
       "      <td>...</td>\n",
       "      <td>0.077357</td>\n",
       "      <td>-0.087385</td>\n",
       "      <td>-0.016321</td>\n",
       "      <td>-0.004538</td>\n",
       "      <td>-0.076834</td>\n",
       "      <td>NaN</td>\n",
       "      <td>-0.047216</td>\n",
       "      <td>0.011951</td>\n",
       "      <td>-0.328009</td>\n",
       "      <td>-0.063381</td>\n",
       "    </tr>\n",
       "    <tr>\n",
       "      <th>No_Exit</th>\n",
       "      <td>0.019772</td>\n",
       "      <td>0.003601</td>\n",
       "      <td>0.023036</td>\n",
       "      <td>0.003624</td>\n",
       "      <td>0.023255</td>\n",
       "      <td>-0.000554</td>\n",
       "      <td>0.012707</td>\n",
       "      <td>-0.003987</td>\n",
       "      <td>-0.006816</td>\n",
       "      <td>0.002690</td>\n",
       "      <td>...</td>\n",
       "      <td>-0.001560</td>\n",
       "      <td>-0.010423</td>\n",
       "      <td>-0.001145</td>\n",
       "      <td>0.003098</td>\n",
       "      <td>0.028681</td>\n",
       "      <td>NaN</td>\n",
       "      <td>0.002996</td>\n",
       "      <td>-0.001136</td>\n",
       "      <td>-0.035871</td>\n",
       "      <td>0.000475</td>\n",
       "    </tr>\n",
       "    <tr>\n",
       "      <th>Railway</th>\n",
       "      <td>-0.008904</td>\n",
       "      <td>0.046216</td>\n",
       "      <td>0.053209</td>\n",
       "      <td>0.046375</td>\n",
       "      <td>0.051812</td>\n",
       "      <td>-0.011965</td>\n",
       "      <td>-0.071947</td>\n",
       "      <td>-0.002779</td>\n",
       "      <td>-0.002911</td>\n",
       "      <td>-0.014108</td>\n",
       "      <td>...</td>\n",
       "      <td>-0.001582</td>\n",
       "      <td>0.035616</td>\n",
       "      <td>-0.003838</td>\n",
       "      <td>-0.001917</td>\n",
       "      <td>0.050023</td>\n",
       "      <td>NaN</td>\n",
       "      <td>0.002960</td>\n",
       "      <td>-0.006076</td>\n",
       "      <td>0.016195</td>\n",
       "      <td>0.002905</td>\n",
       "    </tr>\n",
       "    <tr>\n",
       "      <th>Roundabout</th>\n",
       "      <td>-0.003148</td>\n",
       "      <td>0.006435</td>\n",
       "      <td>0.004171</td>\n",
       "      <td>0.006359</td>\n",
       "      <td>0.004051</td>\n",
       "      <td>-0.006498</td>\n",
       "      <td>-0.005811</td>\n",
       "      <td>-0.005346</td>\n",
       "      <td>-0.005467</td>\n",
       "      <td>0.007023</td>\n",
       "      <td>...</td>\n",
       "      <td>1.000000</td>\n",
       "      <td>-0.007243</td>\n",
       "      <td>-0.001437</td>\n",
       "      <td>-0.000363</td>\n",
       "      <td>-0.006580</td>\n",
       "      <td>NaN</td>\n",
       "      <td>0.003846</td>\n",
       "      <td>0.000691</td>\n",
       "      <td>0.004206</td>\n",
       "      <td>-0.002784</td>\n",
       "    </tr>\n",
       "    <tr>\n",
       "      <th>Station</th>\n",
       "      <td>-0.070889</td>\n",
       "      <td>0.043750</td>\n",
       "      <td>0.049990</td>\n",
       "      <td>0.043718</td>\n",
       "      <td>0.049899</td>\n",
       "      <td>-0.105252</td>\n",
       "      <td>-0.091841</td>\n",
       "      <td>0.013713</td>\n",
       "      <td>0.014898</td>\n",
       "      <td>-0.031304</td>\n",
       "      <td>...</td>\n",
       "      <td>-0.007243</td>\n",
       "      <td>1.000000</td>\n",
       "      <td>0.060481</td>\n",
       "      <td>0.025052</td>\n",
       "      <td>0.046800</td>\n",
       "      <td>NaN</td>\n",
       "      <td>0.012302</td>\n",
       "      <td>-0.015973</td>\n",
       "      <td>0.103856</td>\n",
       "      <td>0.031782</td>\n",
       "    </tr>\n",
       "    <tr>\n",
       "      <th>Stop</th>\n",
       "      <td>-0.014700</td>\n",
       "      <td>0.023011</td>\n",
       "      <td>0.043035</td>\n",
       "      <td>0.023002</td>\n",
       "      <td>0.044486</td>\n",
       "      <td>-0.019162</td>\n",
       "      <td>-0.050712</td>\n",
       "      <td>0.011377</td>\n",
       "      <td>0.012345</td>\n",
       "      <td>-0.001907</td>\n",
       "      <td>...</td>\n",
       "      <td>-0.001437</td>\n",
       "      <td>0.060481</td>\n",
       "      <td>1.000000</td>\n",
       "      <td>0.014492</td>\n",
       "      <td>-0.018943</td>\n",
       "      <td>NaN</td>\n",
       "      <td>-0.008818</td>\n",
       "      <td>0.012726</td>\n",
       "      <td>0.017115</td>\n",
       "      <td>0.002709</td>\n",
       "    </tr>\n",
       "    <tr>\n",
       "      <th>Traffic_Calming</th>\n",
       "      <td>-0.003815</td>\n",
       "      <td>0.001874</td>\n",
       "      <td>0.013076</td>\n",
       "      <td>0.001991</td>\n",
       "      <td>0.013161</td>\n",
       "      <td>-0.007865</td>\n",
       "      <td>-0.019931</td>\n",
       "      <td>0.003106</td>\n",
       "      <td>0.003308</td>\n",
       "      <td>0.004566</td>\n",
       "      <td>...</td>\n",
       "      <td>-0.000363</td>\n",
       "      <td>0.025052</td>\n",
       "      <td>0.014492</td>\n",
       "      <td>1.000000</td>\n",
       "      <td>-0.007976</td>\n",
       "      <td>NaN</td>\n",
       "      <td>-0.000237</td>\n",
       "      <td>-0.001190</td>\n",
       "      <td>0.007384</td>\n",
       "      <td>0.000680</td>\n",
       "    </tr>\n",
       "    <tr>\n",
       "      <th>Traffic_Signal</th>\n",
       "      <td>-0.027311</td>\n",
       "      <td>-0.043204</td>\n",
       "      <td>-0.031283</td>\n",
       "      <td>-0.043687</td>\n",
       "      <td>-0.031765</td>\n",
       "      <td>-0.084376</td>\n",
       "      <td>-0.003539</td>\n",
       "      <td>-0.049264</td>\n",
       "      <td>-0.059348</td>\n",
       "      <td>0.021805</td>\n",
       "      <td>...</td>\n",
       "      <td>-0.006580</td>\n",
       "      <td>0.046800</td>\n",
       "      <td>-0.018943</td>\n",
       "      <td>-0.007976</td>\n",
       "      <td>1.000000</td>\n",
       "      <td>NaN</td>\n",
       "      <td>-0.000547</td>\n",
       "      <td>0.014917</td>\n",
       "      <td>-0.011129</td>\n",
       "      <td>0.006418</td>\n",
       "    </tr>\n",
       "    <tr>\n",
       "      <th>Turning_Loop</th>\n",
       "      <td>NaN</td>\n",
       "      <td>NaN</td>\n",
       "      <td>NaN</td>\n",
       "      <td>NaN</td>\n",
       "      <td>NaN</td>\n",
       "      <td>NaN</td>\n",
       "      <td>NaN</td>\n",
       "      <td>NaN</td>\n",
       "      <td>NaN</td>\n",
       "      <td>NaN</td>\n",
       "      <td>...</td>\n",
       "      <td>NaN</td>\n",
       "      <td>NaN</td>\n",
       "      <td>NaN</td>\n",
       "      <td>NaN</td>\n",
       "      <td>NaN</td>\n",
       "      <td>NaN</td>\n",
       "      <td>NaN</td>\n",
       "      <td>NaN</td>\n",
       "      <td>NaN</td>\n",
       "      <td>NaN</td>\n",
       "    </tr>\n",
       "    <tr>\n",
       "      <th>hour</th>\n",
       "      <td>-0.066502</td>\n",
       "      <td>-0.028850</td>\n",
       "      <td>-0.030816</td>\n",
       "      <td>-0.026345</td>\n",
       "      <td>-0.033844</td>\n",
       "      <td>-0.041732</td>\n",
       "      <td>-0.005660</td>\n",
       "      <td>0.237467</td>\n",
       "      <td>0.237562</td>\n",
       "      <td>-0.265631</td>\n",
       "      <td>...</td>\n",
       "      <td>0.003846</td>\n",
       "      <td>0.012302</td>\n",
       "      <td>-0.008818</td>\n",
       "      <td>-0.000237</td>\n",
       "      <td>-0.000547</td>\n",
       "      <td>NaN</td>\n",
       "      <td>1.000000</td>\n",
       "      <td>-0.031644</td>\n",
       "      <td>0.053558</td>\n",
       "      <td>0.171474</td>\n",
       "    </tr>\n",
       "    <tr>\n",
       "      <th>week</th>\n",
       "      <td>0.015518</td>\n",
       "      <td>-0.000334</td>\n",
       "      <td>0.009109</td>\n",
       "      <td>-0.000093</td>\n",
       "      <td>0.009731</td>\n",
       "      <td>0.012293</td>\n",
       "      <td>0.035932</td>\n",
       "      <td>-0.009146</td>\n",
       "      <td>-0.003837</td>\n",
       "      <td>0.093968</td>\n",
       "      <td>...</td>\n",
       "      <td>0.000691</td>\n",
       "      <td>-0.015973</td>\n",
       "      <td>0.012726</td>\n",
       "      <td>-0.001190</td>\n",
       "      <td>0.014917</td>\n",
       "      <td>NaN</td>\n",
       "      <td>-0.031644</td>\n",
       "      <td>1.000000</td>\n",
       "      <td>0.019495</td>\n",
       "      <td>-0.023708</td>\n",
       "    </tr>\n",
       "    <tr>\n",
       "      <th>Year</th>\n",
       "      <td>-0.398727</td>\n",
       "      <td>-0.116387</td>\n",
       "      <td>-0.152737</td>\n",
       "      <td>-0.115798</td>\n",
       "      <td>-0.151334</td>\n",
       "      <td>-0.056000</td>\n",
       "      <td>0.006314</td>\n",
       "      <td>-0.005741</td>\n",
       "      <td>0.050058</td>\n",
       "      <td>-0.062124</td>\n",
       "      <td>...</td>\n",
       "      <td>0.004206</td>\n",
       "      <td>0.103856</td>\n",
       "      <td>0.017115</td>\n",
       "      <td>0.007384</td>\n",
       "      <td>-0.011129</td>\n",
       "      <td>NaN</td>\n",
       "      <td>0.053558</td>\n",
       "      <td>0.019495</td>\n",
       "      <td>1.000000</td>\n",
       "      <td>-0.012923</td>\n",
       "    </tr>\n",
       "    <tr>\n",
       "      <th>Month</th>\n",
       "      <td>-0.094517</td>\n",
       "      <td>-0.051223</td>\n",
       "      <td>-0.068014</td>\n",
       "      <td>-0.050349</td>\n",
       "      <td>-0.067729</td>\n",
       "      <td>-0.015250</td>\n",
       "      <td>0.003666</td>\n",
       "      <td>0.110269</td>\n",
       "      <td>0.104360</td>\n",
       "      <td>0.001954</td>\n",
       "      <td>...</td>\n",
       "      <td>-0.002784</td>\n",
       "      <td>0.031782</td>\n",
       "      <td>0.002709</td>\n",
       "      <td>0.000680</td>\n",
       "      <td>0.006418</td>\n",
       "      <td>NaN</td>\n",
       "      <td>0.171474</td>\n",
       "      <td>-0.023708</td>\n",
       "      <td>-0.012923</td>\n",
       "      <td>1.000000</td>\n",
       "    </tr>\n",
       "  </tbody>\n",
       "</table>\n",
       "<p>31 rows × 31 columns</p>\n",
       "</div>"
      ],
      "text/plain": [
       "                   Severity  Start_Lat  Start_Lng   End_Lat   End_Lng  \\\n",
       "Severity           1.000000   0.104496   0.122909  0.105753  0.121903   \n",
       "Start_Lat          0.104496   1.000000   0.813400  0.994534  0.811874   \n",
       "Start_Lng          0.122909   0.813400   1.000000  0.812348  0.998094   \n",
       "End_Lat            0.105753   0.994534   0.812348  1.000000  0.811444   \n",
       "End_Lng            0.121903   0.811874   0.998094  0.811444  1.000000   \n",
       "Distance(mi)       0.093915   0.161797   0.187089  0.179728  0.187575   \n",
       "Number            -0.034496  -0.363367  -0.366808 -0.362866 -0.366477   \n",
       "Temperature(F)    -0.009886  -0.053484  -0.054522 -0.052740 -0.055632   \n",
       "Wind_Chill(F)      0.010341  -0.057234  -0.059403 -0.056473 -0.060681   \n",
       "Humidity(%)        0.038514   0.025326   0.026993  0.024810  0.028203   \n",
       "Pressure(in)       0.032305   0.054719   0.057606  0.055374  0.057853   \n",
       "Visibility(mi)     0.001296   0.024983   0.028072  0.023192  0.027863   \n",
       "Wind_Speed(mph)    0.006925  -0.003248   0.011537 -0.001891  0.009748   \n",
       "Precipitation(in)  0.025249   0.007762   0.007571  0.008461  0.007240   \n",
       "Amenity           -0.018580  -0.027712  -0.015106 -0.027583 -0.014772   \n",
       "Bump              -0.001759  -0.008903  -0.011059 -0.008867 -0.010986   \n",
       "Crossing          -0.057098  -0.263653  -0.141102 -0.264462 -0.142498   \n",
       "Give_Way           0.009372  -0.023036  -0.019341 -0.022776 -0.019425   \n",
       "Junction           0.204610   0.121184   0.140582  0.122249  0.141174   \n",
       "No_Exit            0.019772   0.003601   0.023036  0.003624  0.023255   \n",
       "Railway           -0.008904   0.046216   0.053209  0.046375  0.051812   \n",
       "Roundabout        -0.003148   0.006435   0.004171  0.006359  0.004051   \n",
       "Station           -0.070889   0.043750   0.049990  0.043718  0.049899   \n",
       "Stop              -0.014700   0.023011   0.043035  0.023002  0.044486   \n",
       "Traffic_Calming   -0.003815   0.001874   0.013076  0.001991  0.013161   \n",
       "Traffic_Signal    -0.027311  -0.043204  -0.031283 -0.043687 -0.031765   \n",
       "Turning_Loop            NaN        NaN        NaN       NaN       NaN   \n",
       "hour              -0.066502  -0.028850  -0.030816 -0.026345 -0.033844   \n",
       "week               0.015518  -0.000334   0.009109 -0.000093  0.009731   \n",
       "Year              -0.398727  -0.116387  -0.152737 -0.115798 -0.151334   \n",
       "Month             -0.094517  -0.051223  -0.068014 -0.050349 -0.067729   \n",
       "\n",
       "                   Distance(mi)    Number  Temperature(F)  Wind_Chill(F)  \\\n",
       "Severity               0.093915 -0.034496       -0.009886       0.010341   \n",
       "Start_Lat              0.161797 -0.363367       -0.053484      -0.057234   \n",
       "Start_Lng              0.187089 -0.366808       -0.054522      -0.059403   \n",
       "End_Lat                0.179728 -0.362866       -0.052740      -0.056473   \n",
       "End_Lng                0.187575 -0.366477       -0.055632      -0.060681   \n",
       "Distance(mi)           1.000000  0.007499       -0.005423      -0.002109   \n",
       "Number                 0.007499  1.000000       -0.012541      -0.014379   \n",
       "Temperature(F)        -0.005423 -0.012541        1.000000       0.999833   \n",
       "Wind_Chill(F)         -0.002109 -0.014379        0.999833       1.000000   \n",
       "Humidity(%)            0.050537 -0.011463       -0.258200      -0.258854   \n",
       "Pressure(in)          -0.000455  0.017119       -0.299804      -0.301679   \n",
       "Visibility(mi)        -0.012070 -0.013270        0.117449       0.116139   \n",
       "Wind_Speed(mph)       -0.015832 -0.001831        0.265888       0.267169   \n",
       "Precipitation(in)      0.012230 -0.016146       -0.039020      -0.037222   \n",
       "Amenity               -0.036174  0.022118        0.001081       0.001235   \n",
       "Bump                  -0.003898  0.007277       -0.000135      -0.000099   \n",
       "Crossing              -0.107671  0.081299        0.010193       0.006938   \n",
       "Give_Way              -0.009535 -0.007609       -0.005764      -0.009240   \n",
       "Junction               0.111458 -0.043972       -0.010591      -0.011962   \n",
       "No_Exit               -0.000554  0.012707       -0.003987      -0.006816   \n",
       "Railway               -0.011965 -0.071947       -0.002779      -0.002911   \n",
       "Roundabout            -0.006498 -0.005811       -0.005346      -0.005467   \n",
       "Station               -0.105252 -0.091841        0.013713       0.014898   \n",
       "Stop                  -0.019162 -0.050712        0.011377       0.012345   \n",
       "Traffic_Calming       -0.007865 -0.019931        0.003106       0.003308   \n",
       "Traffic_Signal        -0.084376 -0.003539       -0.049264      -0.059348   \n",
       "Turning_Loop                NaN       NaN             NaN            NaN   \n",
       "hour                  -0.041732 -0.005660        0.237467       0.237562   \n",
       "week                   0.012293  0.035932       -0.009146      -0.003837   \n",
       "Year                  -0.056000  0.006314       -0.005741       0.050058   \n",
       "Month                 -0.015250  0.003666        0.110269       0.104360   \n",
       "\n",
       "                   Humidity(%)  ...  Roundabout   Station      Stop  \\\n",
       "Severity              0.038514  ...   -0.003148 -0.070889 -0.014700   \n",
       "Start_Lat             0.025326  ...    0.006435  0.043750  0.023011   \n",
       "Start_Lng             0.026993  ...    0.004171  0.049990  0.043035   \n",
       "End_Lat               0.024810  ...    0.006359  0.043718  0.023002   \n",
       "End_Lng               0.028203  ...    0.004051  0.049899  0.044486   \n",
       "Distance(mi)          0.050537  ...   -0.006498 -0.105252 -0.019162   \n",
       "Number               -0.011463  ...   -0.005811 -0.091841 -0.050712   \n",
       "Temperature(F)       -0.258200  ...   -0.005346  0.013713  0.011377   \n",
       "Wind_Chill(F)        -0.258854  ...   -0.005467  0.014898  0.012345   \n",
       "Humidity(%)           1.000000  ...    0.007023 -0.031304 -0.001907   \n",
       "Pressure(in)         -0.181799  ...    0.002997 -0.015120 -0.012363   \n",
       "Visibility(mi)       -0.308432  ...    0.001114  0.002496 -0.001208   \n",
       "Wind_Speed(mph)      -0.409019  ...   -0.000873  0.014922  0.000197   \n",
       "Precipitation(in)     0.179703  ...    0.000992 -0.008166  0.003198   \n",
       "Amenity              -0.011384  ...   -0.002453  0.022918 -0.009319   \n",
       "Bump                  0.003439  ...   -0.000167  0.001383 -0.000803   \n",
       "Crossing             -0.031112  ...   -0.002776  0.074687  0.099556   \n",
       "Give_Way              0.002441  ...    0.013899 -0.015584  0.003010   \n",
       "Junction              0.050007  ...    0.077357 -0.087385 -0.016321   \n",
       "No_Exit               0.002690  ...   -0.001560 -0.010423 -0.001145   \n",
       "Railway              -0.014108  ...   -0.001582  0.035616 -0.003838   \n",
       "Roundabout            0.007023  ...    1.000000 -0.007243 -0.001437   \n",
       "Station              -0.031304  ...   -0.007243  1.000000  0.060481   \n",
       "Stop                 -0.001907  ...   -0.001437  0.060481  1.000000   \n",
       "Traffic_Calming       0.004566  ...   -0.000363  0.025052  0.014492   \n",
       "Traffic_Signal        0.021805  ...   -0.006580  0.046800 -0.018943   \n",
       "Turning_Loop               NaN  ...         NaN       NaN       NaN   \n",
       "hour                 -0.265631  ...    0.003846  0.012302 -0.008818   \n",
       "week                  0.093968  ...    0.000691 -0.015973  0.012726   \n",
       "Year                 -0.062124  ...    0.004206  0.103856  0.017115   \n",
       "Month                 0.001954  ...   -0.002784  0.031782  0.002709   \n",
       "\n",
       "                   Traffic_Calming  Traffic_Signal  Turning_Loop      hour  \\\n",
       "Severity                 -0.003815       -0.027311           NaN -0.066502   \n",
       "Start_Lat                 0.001874       -0.043204           NaN -0.028850   \n",
       "Start_Lng                 0.013076       -0.031283           NaN -0.030816   \n",
       "End_Lat                   0.001991       -0.043687           NaN -0.026345   \n",
       "End_Lng                   0.013161       -0.031765           NaN -0.033844   \n",
       "Distance(mi)             -0.007865       -0.084376           NaN -0.041732   \n",
       "Number                   -0.019931       -0.003539           NaN -0.005660   \n",
       "Temperature(F)            0.003106       -0.049264           NaN  0.237467   \n",
       "Wind_Chill(F)             0.003308       -0.059348           NaN  0.237562   \n",
       "Humidity(%)               0.004566        0.021805           NaN -0.265631   \n",
       "Pressure(in)              0.001233        0.019999           NaN -0.064459   \n",
       "Visibility(mi)           -0.003882        0.006302           NaN  0.030053   \n",
       "Wind_Speed(mph)          -0.001862       -0.014817           NaN  0.189808   \n",
       "Precipitation(in)         0.000762       -0.005728           NaN  0.029789   \n",
       "Amenity                   0.000239        0.045611           NaN  0.008159   \n",
       "Bump                      0.461186       -0.003678           NaN -0.003426   \n",
       "Crossing                  0.002493        0.302038           NaN  0.014716   \n",
       "Give_Way                 -0.000781        0.084286           NaN  0.001662   \n",
       "Junction                 -0.004538       -0.076834           NaN -0.047216   \n",
       "No_Exit                   0.003098        0.028681           NaN  0.002996   \n",
       "Railway                  -0.001917        0.050023           NaN  0.002960   \n",
       "Roundabout               -0.000363       -0.006580           NaN  0.003846   \n",
       "Station                   0.025052        0.046800           NaN  0.012302   \n",
       "Stop                      0.014492       -0.018943           NaN -0.008818   \n",
       "Traffic_Calming           1.000000       -0.007976           NaN -0.000237   \n",
       "Traffic_Signal           -0.007976        1.000000           NaN -0.000547   \n",
       "Turning_Loop                   NaN             NaN           NaN       NaN   \n",
       "hour                     -0.000237       -0.000547           NaN  1.000000   \n",
       "week                     -0.001190        0.014917           NaN -0.031644   \n",
       "Year                      0.007384       -0.011129           NaN  0.053558   \n",
       "Month                     0.000680        0.006418           NaN  0.171474   \n",
       "\n",
       "                       week      Year     Month  \n",
       "Severity           0.015518 -0.398727 -0.094517  \n",
       "Start_Lat         -0.000334 -0.116387 -0.051223  \n",
       "Start_Lng          0.009109 -0.152737 -0.068014  \n",
       "End_Lat           -0.000093 -0.115798 -0.050349  \n",
       "End_Lng            0.009731 -0.151334 -0.067729  \n",
       "Distance(mi)       0.012293 -0.056000 -0.015250  \n",
       "Number             0.035932  0.006314  0.003666  \n",
       "Temperature(F)    -0.009146 -0.005741  0.110269  \n",
       "Wind_Chill(F)     -0.003837  0.050058  0.104360  \n",
       "Humidity(%)        0.093968 -0.062124  0.001954  \n",
       "Pressure(in)      -0.019576 -0.028542 -0.056413  \n",
       "Visibility(mi)    -0.017924 -0.003189 -0.000328  \n",
       "Wind_Speed(mph)   -0.056928 -0.095910  0.036896  \n",
       "Precipitation(in)  0.008314 -0.052534  0.005286  \n",
       "Amenity            0.004931  0.027947  0.020015  \n",
       "Bump               0.001533  0.002527 -0.001971  \n",
       "Crossing           0.004703  0.063294  0.032004  \n",
       "Give_Way           0.004830 -0.025518 -0.007503  \n",
       "Junction           0.011951 -0.328009 -0.063381  \n",
       "No_Exit           -0.001136 -0.035871  0.000475  \n",
       "Railway           -0.006076  0.016195  0.002905  \n",
       "Roundabout         0.000691  0.004206 -0.002784  \n",
       "Station           -0.015973  0.103856  0.031782  \n",
       "Stop               0.012726  0.017115  0.002709  \n",
       "Traffic_Calming   -0.001190  0.007384  0.000680  \n",
       "Traffic_Signal     0.014917 -0.011129  0.006418  \n",
       "Turning_Loop            NaN       NaN       NaN  \n",
       "hour              -0.031644  0.053558  0.171474  \n",
       "week               1.000000  0.019495 -0.023708  \n",
       "Year               0.019495  1.000000 -0.012923  \n",
       "Month             -0.023708 -0.012923  1.000000  \n",
       "\n",
       "[31 rows x 31 columns]"
      ]
     },
     "execution_count": 45,
     "metadata": {},
     "output_type": "execute_result"
    }
   ],
   "source": [
    "#to better view about the data\n",
    "#let's plot correlation matrix\n",
    "miami_florida.corr()"
   ]
  },
  {
   "cell_type": "code",
   "execution_count": 46,
   "id": "a414f8c0",
   "metadata": {
    "execution": {
     "iopub.execute_input": "2022-04-16T05:15:08.219944Z",
     "iopub.status.busy": "2022-04-16T05:15:08.219731Z",
     "iopub.status.idle": "2022-04-16T05:15:09.204364Z",
     "shell.execute_reply": "2022-04-16T05:15:09.203360Z"
    },
    "id": "led-QzaEZfsu",
    "outputId": "80629565-87b5-4f2b-b249-428355e8463c",
    "papermill": {
     "duration": 1.136891,
     "end_time": "2022-04-16T05:15:09.206898",
     "exception": false,
     "start_time": "2022-04-16T05:15:08.070007",
     "status": "completed"
    },
    "tags": []
   },
   "outputs": [
    {
     "data": {
      "text/plain": [
       "<AxesSubplot:xlabel='Temperature(F)', ylabel='Density'>"
      ]
     },
     "execution_count": 46,
     "metadata": {},
     "output_type": "execute_result"
    },
    {
     "data": {
      "image/png": "[encoded data removed]",
      "text/plain": [
       "<Figure size 432x288 with 1 Axes>"
      ]
     },
     "metadata": {
      "needs_background": "light"
     },
     "output_type": "display_data"
    }
   ],
   "source": [
    "sns.kdeplot(miami_florida['Temperature(F)'])"
   ]
  },
  {
   "cell_type": "code",
   "execution_count": 47,
   "id": "ef04daf9",
   "metadata": {
    "execution": {
     "iopub.execute_input": "2022-04-16T05:15:09.506312Z",
     "iopub.status.busy": "2022-04-16T05:15:09.506054Z",
     "iopub.status.idle": "2022-04-16T05:15:09.531377Z",
     "shell.execute_reply": "2022-04-16T05:15:09.530712Z"
    },
    "id": "BwW3WETUZfp5",
    "outputId": "b1273190-d1d6-407a-f215-dd682ddba94b",
    "papermill": {
     "duration": 0.176362,
     "end_time": "2022-04-16T05:15:09.533300",
     "exception": false,
     "start_time": "2022-04-16T05:15:09.356938",
     "status": "completed"
    },
    "tags": []
   },
   "outputs": [
    {
     "data": {
      "text/plain": [
       "102.0"
      ]
     },
     "execution_count": 47,
     "metadata": {},
     "output_type": "execute_result"
    }
   ],
   "source": [
    "max(miami_florida['Temperature(F)'])"
   ]
  },
  {
   "cell_type": "code",
   "execution_count": 48,
   "id": "bd16d661",
   "metadata": {
    "execution": {
     "iopub.execute_input": "2022-04-16T05:15:09.777632Z",
     "iopub.status.busy": "2022-04-16T05:15:09.777430Z",
     "iopub.status.idle": "2022-04-16T05:15:09.792002Z",
     "shell.execute_reply": "2022-04-16T05:15:09.791000Z"
    },
    "id": "Jak3W1omZfnB",
    "outputId": "21d1b743-b8e9-4eda-9134-d62e6b57d5ba",
    "papermill": {
     "duration": 0.113955,
     "end_time": "2022-04-16T05:15:09.793890",
     "exception": false,
     "start_time": "2022-04-16T05:15:09.679935",
     "status": "completed"
    },
    "tags": []
   },
   "outputs": [
    {
     "data": {
      "text/plain": [
       "-58.0"
      ]
     },
     "execution_count": 48,
     "metadata": {},
     "output_type": "execute_result"
    }
   ],
   "source": [
    "min(miami_florida['Temperature(F)'])"
   ]
  },
  {
   "cell_type": "code",
   "execution_count": 49,
   "id": "4f9e33a2",
   "metadata": {
    "execution": {
     "iopub.execute_input": "2022-04-16T05:15:10.053770Z",
     "iopub.status.busy": "2022-04-16T05:15:10.053235Z",
     "iopub.status.idle": "2022-04-16T05:15:10.191163Z",
     "shell.execute_reply": "2022-04-16T05:15:10.190344Z"
    },
    "id": "VNxWjhEOZfkt",
    "outputId": "53a5db39-8659-41bb-f062-443ab5a73a11",
    "papermill": {
     "duration": 0.249849,
     "end_time": "2022-04-16T05:15:10.193643",
     "exception": false,
     "start_time": "2022-04-16T05:15:09.943794",
     "status": "completed"
    },
    "tags": []
   },
   "outputs": [
    {
     "name": "stderr",
     "output_type": "stream",
     "text": [
      "/opt/conda/lib/python3.7/site-packages/seaborn/_decorators.py:43: FutureWarning: Pass the following variable as a keyword arg: x. From version 0.12, the only valid positional argument will be `data`, and passing other arguments without an explicit keyword will result in an error or misinterpretation.\n",
      "  FutureWarning\n"
     ]
    },
    {
     "data": {
      "image/png": "[encoded data removed]",
      "text/plain": [
       "<Figure size 432x288 with 1 Axes>"
      ]
     },
     "metadata": {
      "needs_background": "light"
     },
     "output_type": "display_data"
    }
   ],
   "source": [
    "sns.boxplot(miami_florida['Temperature(F)'])\n",
    "plt.show()"
   ]
  },
  {
   "cell_type": "code",
   "execution_count": 50,
   "id": "f5094950",
   "metadata": {
    "execution": {
     "iopub.execute_input": "2022-04-16T05:15:10.425192Z",
     "iopub.status.busy": "2022-04-16T05:15:10.424962Z",
     "iopub.status.idle": "2022-04-16T05:15:10.429693Z",
     "shell.execute_reply": "2022-04-16T05:15:10.429010Z"
    },
    "id": "2Ot3z3HiZfh0",
    "papermill": {
     "duration": 0.105831,
     "end_time": "2022-04-16T05:15:10.431020",
     "exception": false,
     "start_time": "2022-04-16T05:15:10.325189",
     "status": "completed"
    },
    "tags": []
   },
   "outputs": [],
   "source": [
    "def remove_outlier_IQR(df):\n",
    "    Q1=df['Temperature(F)'].quantile(0.25)\n",
    "    Q3=df['Temperature(F)'].quantile(0.75)\n",
    "    IQR=Q3-Q1\n",
    "    df_final=df[~((df['Temperature(F)']<(Q1-1.5*IQR)) | (df['Temperature(F)']>(Q3+1.5*IQR)))]\n",
    "    return df_final"
   ]
  },
  {
   "cell_type": "code",
   "execution_count": 51,
   "id": "d76d58fc",
   "metadata": {
    "execution": {
     "iopub.execute_input": "2022-04-16T05:15:10.632010Z",
     "iopub.status.busy": "2022-04-16T05:15:10.631579Z",
     "iopub.status.idle": "2022-04-16T05:15:10.684742Z",
     "shell.execute_reply": "2022-04-16T05:15:10.684045Z"
    },
    "id": "_8TsmWc-ZfdA",
    "papermill": {
     "duration": 0.155575,
     "end_time": "2022-04-16T05:15:10.686552",
     "exception": false,
     "start_time": "2022-04-16T05:15:10.530977",
     "status": "completed"
    },
    "tags": []
   },
   "outputs": [],
   "source": [
    "miami_florida_outlier_rem=remove_outlier_IQR(miami_florida)\n",
    "miami_florida_outlier_rem=pd.DataFrame(miami_florida_outlier_rem)"
   ]
  },
  {
   "cell_type": "code",
   "execution_count": 52,
   "id": "0fd2a8d2",
   "metadata": {
    "execution": {
     "iopub.execute_input": "2022-04-16T05:15:10.889054Z",
     "iopub.status.busy": "2022-04-16T05:15:10.888123Z",
     "iopub.status.idle": "2022-04-16T05:15:10.893099Z",
     "shell.execute_reply": "2022-04-16T05:15:10.892608Z"
    },
    "id": "Xju-hnkHZtxy",
    "papermill": {
     "duration": 0.107706,
     "end_time": "2022-04-16T05:15:10.894965",
     "exception": false,
     "start_time": "2022-04-16T05:15:10.787259",
     "status": "completed"
    },
    "tags": []
   },
   "outputs": [],
   "source": [
    "miami_florida_outlier_rem['Temperature(C)']=(miami_florida_outlier_rem['Temperature(F)'] - 32) * (5/9)"
   ]
  },
  {
   "cell_type": "code",
   "execution_count": 53,
   "id": "3a38d24a",
   "metadata": {
    "execution": {
     "iopub.execute_input": "2022-04-16T05:15:11.111919Z",
     "iopub.status.busy": "2022-04-16T05:15:11.111530Z",
     "iopub.status.idle": "2022-04-16T05:15:11.228202Z",
     "shell.execute_reply": "2022-04-16T05:15:11.227061Z"
    },
    "id": "uqFYB-GZbfMW",
    "outputId": "48b1af73-a6ea-4701-f462-9dff41389a20",
    "papermill": {
     "duration": 0.22965,
     "end_time": "2022-04-16T05:15:11.229910",
     "exception": false,
     "start_time": "2022-04-16T05:15:11.000260",
     "status": "completed"
    },
    "tags": []
   },
   "outputs": [
    {
     "data": {
      "text/html": [
       "<div>\n",
       "<style scoped>\n",
       "    .dataframe tbody tr th:only-of-type {\n",
       "        vertical-align: middle;\n",
       "    }\n",
       "\n",
       "    .dataframe tbody tr th {\n",
       "        vertical-align: top;\n",
       "    }\n",
       "\n",
       "    .dataframe thead th {\n",
       "        text-align: right;\n",
       "    }\n",
       "</style>\n",
       "<table border=\"1\" class=\"dataframe\">\n",
       "  <thead>\n",
       "    <tr style=\"text-align: right;\">\n",
       "      <th></th>\n",
       "      <th>ID</th>\n",
       "      <th>Severity</th>\n",
       "      <th>Start_Time</th>\n",
       "      <th>End_Time</th>\n",
       "      <th>Start_Lat</th>\n",
       "      <th>Start_Lng</th>\n",
       "      <th>End_Lat</th>\n",
       "      <th>End_Lng</th>\n",
       "      <th>Distance(mi)</th>\n",
       "      <th>Description</th>\n",
       "      <th>...</th>\n",
       "      <th>Turning_Loop</th>\n",
       "      <th>Sunrise_Sunset</th>\n",
       "      <th>Civil_Twilight</th>\n",
       "      <th>Nautical_Twilight</th>\n",
       "      <th>Astronomical_Twilight</th>\n",
       "      <th>hour</th>\n",
       "      <th>week</th>\n",
       "      <th>Year</th>\n",
       "      <th>Month</th>\n",
       "      <th>Temperature(C)</th>\n",
       "    </tr>\n",
       "  </thead>\n",
       "  <tbody>\n",
       "    <tr>\n",
       "      <th>31596</th>\n",
       "      <td>A-31597</td>\n",
       "      <td>2</td>\n",
       "      <td>2016-11-30 16:35:52</td>\n",
       "      <td>2016-11-30 22:35:52</td>\n",
       "      <td>25.786010</td>\n",
       "      <td>-80.258090</td>\n",
       "      <td>25.783360</td>\n",
       "      <td>-80.269110</td>\n",
       "      <td>0.710</td>\n",
       "      <td>At SR-953/42nd Ave/Le Jeune Rd - Accident.</td>\n",
       "      <td>...</td>\n",
       "      <td>False</td>\n",
       "      <td>Day</td>\n",
       "      <td>Day</td>\n",
       "      <td>Day</td>\n",
       "      <td>Day</td>\n",
       "      <td>16</td>\n",
       "      <td>2</td>\n",
       "      <td>2016</td>\n",
       "      <td>11</td>\n",
       "      <td>25.611111</td>\n",
       "    </tr>\n",
       "    <tr>\n",
       "      <th>31660</th>\n",
       "      <td>A-31661</td>\n",
       "      <td>2</td>\n",
       "      <td>2016-11-30 18:35:52</td>\n",
       "      <td>2016-12-01 00:35:52</td>\n",
       "      <td>25.662140</td>\n",
       "      <td>-80.388600</td>\n",
       "      <td>25.652920</td>\n",
       "      <td>-80.387120</td>\n",
       "      <td>0.644</td>\n",
       "      <td>At 120th St/Exit 19 - Accident.</td>\n",
       "      <td>...</td>\n",
       "      <td>False</td>\n",
       "      <td>Night</td>\n",
       "      <td>Night</td>\n",
       "      <td>Night</td>\n",
       "      <td>Day</td>\n",
       "      <td>18</td>\n",
       "      <td>2</td>\n",
       "      <td>2016</td>\n",
       "      <td>11</td>\n",
       "      <td>25.611111</td>\n",
       "    </tr>\n",
       "    <tr>\n",
       "      <th>31734</th>\n",
       "      <td>A-31735</td>\n",
       "      <td>2</td>\n",
       "      <td>2016-12-01 05:51:51</td>\n",
       "      <td>2016-12-01 11:51:51</td>\n",
       "      <td>25.970530</td>\n",
       "      <td>-80.165760</td>\n",
       "      <td>25.959950</td>\n",
       "      <td>-80.168700</td>\n",
       "      <td>0.753</td>\n",
       "      <td>At Ives Dairy Rd/203rd St/Exit 16 - Accident.</td>\n",
       "      <td>...</td>\n",
       "      <td>False</td>\n",
       "      <td>Night</td>\n",
       "      <td>Night</td>\n",
       "      <td>Night</td>\n",
       "      <td>Day</td>\n",
       "      <td>5</td>\n",
       "      <td>3</td>\n",
       "      <td>2016</td>\n",
       "      <td>12</td>\n",
       "      <td>23.277778</td>\n",
       "    </tr>\n",
       "    <tr>\n",
       "      <th>31735</th>\n",
       "      <td>A-31736</td>\n",
       "      <td>3</td>\n",
       "      <td>2016-12-01 06:03:23</td>\n",
       "      <td>2016-12-01 12:03:23</td>\n",
       "      <td>25.784470</td>\n",
       "      <td>-80.293460</td>\n",
       "      <td>25.784880</td>\n",
       "      <td>-80.284440</td>\n",
       "      <td>0.562</td>\n",
       "      <td>At SR-959/Red Rd - Accident.</td>\n",
       "      <td>...</td>\n",
       "      <td>False</td>\n",
       "      <td>Night</td>\n",
       "      <td>Night</td>\n",
       "      <td>Day</td>\n",
       "      <td>Day</td>\n",
       "      <td>6</td>\n",
       "      <td>3</td>\n",
       "      <td>2016</td>\n",
       "      <td>12</td>\n",
       "      <td>23.888889</td>\n",
       "    </tr>\n",
       "    <tr>\n",
       "      <th>31805</th>\n",
       "      <td>A-31806</td>\n",
       "      <td>2</td>\n",
       "      <td>2016-12-01 08:21:46</td>\n",
       "      <td>2016-12-01 14:21:46</td>\n",
       "      <td>25.913100</td>\n",
       "      <td>-80.210240</td>\n",
       "      <td>25.907800</td>\n",
       "      <td>-80.210230</td>\n",
       "      <td>0.366</td>\n",
       "      <td>At 151st St/Exit 11 - Accident.</td>\n",
       "      <td>...</td>\n",
       "      <td>False</td>\n",
       "      <td>Day</td>\n",
       "      <td>Day</td>\n",
       "      <td>Day</td>\n",
       "      <td>Day</td>\n",
       "      <td>8</td>\n",
       "      <td>3</td>\n",
       "      <td>2016</td>\n",
       "      <td>12</td>\n",
       "      <td>25.000000</td>\n",
       "    </tr>\n",
       "    <tr>\n",
       "      <th>...</th>\n",
       "      <td>...</td>\n",
       "      <td>...</td>\n",
       "      <td>...</td>\n",
       "      <td>...</td>\n",
       "      <td>...</td>\n",
       "      <td>...</td>\n",
       "      <td>...</td>\n",
       "      <td>...</td>\n",
       "      <td>...</td>\n",
       "      <td>...</td>\n",
       "      <td>...</td>\n",
       "      <td>...</td>\n",
       "      <td>...</td>\n",
       "      <td>...</td>\n",
       "      <td>...</td>\n",
       "      <td>...</td>\n",
       "      <td>...</td>\n",
       "      <td>...</td>\n",
       "      <td>...</td>\n",
       "      <td>...</td>\n",
       "      <td>...</td>\n",
       "    </tr>\n",
       "    <tr>\n",
       "      <th>2844577</th>\n",
       "      <td>A-2844578</td>\n",
       "      <td>2</td>\n",
       "      <td>2019-08-22 17:10:33</td>\n",
       "      <td>2019-08-22 17:38:17</td>\n",
       "      <td>25.707913</td>\n",
       "      <td>-80.285176</td>\n",
       "      <td>25.707640</td>\n",
       "      <td>-80.285510</td>\n",
       "      <td>0.028</td>\n",
       "      <td>At SR-959/Red Rd/57th Ave - Accident.</td>\n",
       "      <td>...</td>\n",
       "      <td>False</td>\n",
       "      <td>Day</td>\n",
       "      <td>Day</td>\n",
       "      <td>Day</td>\n",
       "      <td>Day</td>\n",
       "      <td>17</td>\n",
       "      <td>3</td>\n",
       "      <td>2019</td>\n",
       "      <td>8</td>\n",
       "      <td>30.555556</td>\n",
       "    </tr>\n",
       "    <tr>\n",
       "      <th>2844578</th>\n",
       "      <td>A-2844579</td>\n",
       "      <td>4</td>\n",
       "      <td>2019-08-22 17:12:48</td>\n",
       "      <td>2019-08-22 17:42:07</td>\n",
       "      <td>25.909390</td>\n",
       "      <td>-80.209870</td>\n",
       "      <td>25.912360</td>\n",
       "      <td>-80.209700</td>\n",
       "      <td>0.205</td>\n",
       "      <td>Ramp closed to 151st St/Exit 11 - Road closed ...</td>\n",
       "      <td>...</td>\n",
       "      <td>False</td>\n",
       "      <td>Day</td>\n",
       "      <td>Day</td>\n",
       "      <td>Day</td>\n",
       "      <td>Day</td>\n",
       "      <td>17</td>\n",
       "      <td>3</td>\n",
       "      <td>2019</td>\n",
       "      <td>8</td>\n",
       "      <td>28.333333</td>\n",
       "    </tr>\n",
       "    <tr>\n",
       "      <th>2844996</th>\n",
       "      <td>A-2844997</td>\n",
       "      <td>4</td>\n",
       "      <td>2019-08-23 02:01:46</td>\n",
       "      <td>2019-08-23 02:30:39</td>\n",
       "      <td>25.927371</td>\n",
       "      <td>-80.212694</td>\n",
       "      <td>25.927371</td>\n",
       "      <td>-80.212694</td>\n",
       "      <td>0.000</td>\n",
       "      <td>Ramp to SR-826/Florida's Tpke/R Reagan Tpke - ...</td>\n",
       "      <td>...</td>\n",
       "      <td>False</td>\n",
       "      <td>Night</td>\n",
       "      <td>Night</td>\n",
       "      <td>Night</td>\n",
       "      <td>Night</td>\n",
       "      <td>2</td>\n",
       "      <td>4</td>\n",
       "      <td>2019</td>\n",
       "      <td>8</td>\n",
       "      <td>27.222222</td>\n",
       "    </tr>\n",
       "    <tr>\n",
       "      <th>2845009</th>\n",
       "      <td>A-2845010</td>\n",
       "      <td>2</td>\n",
       "      <td>2019-08-23 13:08:31</td>\n",
       "      <td>2019-08-23 13:37:40</td>\n",
       "      <td>25.812250</td>\n",
       "      <td>-80.237460</td>\n",
       "      <td>25.812460</td>\n",
       "      <td>-80.243590</td>\n",
       "      <td>0.382</td>\n",
       "      <td>At SR-9/27th Ave/Unity Blvd - Accident. Right ...</td>\n",
       "      <td>...</td>\n",
       "      <td>False</td>\n",
       "      <td>Day</td>\n",
       "      <td>Day</td>\n",
       "      <td>Day</td>\n",
       "      <td>Day</td>\n",
       "      <td>13</td>\n",
       "      <td>4</td>\n",
       "      <td>2019</td>\n",
       "      <td>8</td>\n",
       "      <td>30.555556</td>\n",
       "    </tr>\n",
       "    <tr>\n",
       "      <th>2845025</th>\n",
       "      <td>A-2845026</td>\n",
       "      <td>4</td>\n",
       "      <td>2019-08-23 19:14:05</td>\n",
       "      <td>2019-08-23 19:43:39</td>\n",
       "      <td>25.935950</td>\n",
       "      <td>-80.199180</td>\n",
       "      <td>25.932061</td>\n",
       "      <td>-80.203819</td>\n",
       "      <td>0.394</td>\n",
       "      <td>Closed at US-441/Florida's Tpke/Exit 12 - Road...</td>\n",
       "      <td>...</td>\n",
       "      <td>False</td>\n",
       "      <td>Day</td>\n",
       "      <td>Day</td>\n",
       "      <td>Day</td>\n",
       "      <td>Day</td>\n",
       "      <td>19</td>\n",
       "      <td>4</td>\n",
       "      <td>2019</td>\n",
       "      <td>8</td>\n",
       "      <td>29.444444</td>\n",
       "    </tr>\n",
       "  </tbody>\n",
       "</table>\n",
       "<p>105324 rows × 52 columns</p>\n",
       "</div>"
      ],
      "text/plain": [
       "                ID  Severity           Start_Time             End_Time  \\\n",
       "31596      A-31597         2  2016-11-30 16:35:52  2016-11-30 22:35:52   \n",
       "31660      A-31661         2  2016-11-30 18:35:52  2016-12-01 00:35:52   \n",
       "31734      A-31735         2  2016-12-01 05:51:51  2016-12-01 11:51:51   \n",
       "31735      A-31736         3  2016-12-01 06:03:23  2016-12-01 12:03:23   \n",
       "31805      A-31806         2  2016-12-01 08:21:46  2016-12-01 14:21:46   \n",
       "...            ...       ...                  ...                  ...   \n",
       "2844577  A-2844578         2  2019-08-22 17:10:33  2019-08-22 17:38:17   \n",
       "2844578  A-2844579         4  2019-08-22 17:12:48  2019-08-22 17:42:07   \n",
       "2844996  A-2844997         4  2019-08-23 02:01:46  2019-08-23 02:30:39   \n",
       "2845009  A-2845010         2  2019-08-23 13:08:31  2019-08-23 13:37:40   \n",
       "2845025  A-2845026         4  2019-08-23 19:14:05  2019-08-23 19:43:39   \n",
       "\n",
       "         Start_Lat  Start_Lng    End_Lat    End_Lng  Distance(mi)  \\\n",
       "31596    25.786010 -80.258090  25.783360 -80.269110         0.710   \n",
       "31660    25.662140 -80.388600  25.652920 -80.387120         0.644   \n",
       "31734    25.970530 -80.165760  25.959950 -80.168700         0.753   \n",
       "31735    25.784470 -80.293460  25.784880 -80.284440         0.562   \n",
       "31805    25.913100 -80.210240  25.907800 -80.210230         0.366   \n",
       "...            ...        ...        ...        ...           ...   \n",
       "2844577  25.707913 -80.285176  25.707640 -80.285510         0.028   \n",
       "2844578  25.909390 -80.209870  25.912360 -80.209700         0.205   \n",
       "2844996  25.927371 -80.212694  25.927371 -80.212694         0.000   \n",
       "2845009  25.812250 -80.237460  25.812460 -80.243590         0.382   \n",
       "2845025  25.935950 -80.199180  25.932061 -80.203819         0.394   \n",
       "\n",
       "                                               Description  ...  Turning_Loop  \\\n",
       "31596           At SR-953/42nd Ave/Le Jeune Rd - Accident.  ...         False   \n",
       "31660                      At 120th St/Exit 19 - Accident.  ...         False   \n",
       "31734        At Ives Dairy Rd/203rd St/Exit 16 - Accident.  ...         False   \n",
       "31735                         At SR-959/Red Rd - Accident.  ...         False   \n",
       "31805                      At 151st St/Exit 11 - Accident.  ...         False   \n",
       "...                                                    ...  ...           ...   \n",
       "2844577              At SR-959/Red Rd/57th Ave - Accident.  ...         False   \n",
       "2844578  Ramp closed to 151st St/Exit 11 - Road closed ...  ...         False   \n",
       "2844996  Ramp to SR-826/Florida's Tpke/R Reagan Tpke - ...  ...         False   \n",
       "2845009  At SR-9/27th Ave/Unity Blvd - Accident. Right ...  ...         False   \n",
       "2845025  Closed at US-441/Florida's Tpke/Exit 12 - Road...  ...         False   \n",
       "\n",
       "        Sunrise_Sunset Civil_Twilight Nautical_Twilight Astronomical_Twilight  \\\n",
       "31596              Day            Day               Day                   Day   \n",
       "31660            Night          Night             Night                   Day   \n",
       "31734            Night          Night             Night                   Day   \n",
       "31735            Night          Night               Day                   Day   \n",
       "31805              Day            Day               Day                   Day   \n",
       "...                ...            ...               ...                   ...   \n",
       "2844577            Day            Day               Day                   Day   \n",
       "2844578            Day            Day               Day                   Day   \n",
       "2844996          Night          Night             Night                 Night   \n",
       "2845009            Day            Day               Day                   Day   \n",
       "2845025            Day            Day               Day                   Day   \n",
       "\n",
       "        hour week  Year Month Temperature(C)  \n",
       "31596     16    2  2016    11      25.611111  \n",
       "31660     18    2  2016    11      25.611111  \n",
       "31734      5    3  2016    12      23.277778  \n",
       "31735      6    3  2016    12      23.888889  \n",
       "31805      8    3  2016    12      25.000000  \n",
       "...      ...  ...   ...   ...            ...  \n",
       "2844577   17    3  2019     8      30.555556  \n",
       "2844578   17    3  2019     8      28.333333  \n",
       "2844996    2    4  2019     8      27.222222  \n",
       "2845009   13    4  2019     8      30.555556  \n",
       "2845025   19    4  2019     8      29.444444  \n",
       "\n",
       "[105324 rows x 52 columns]"
      ]
     },
     "execution_count": 53,
     "metadata": {},
     "output_type": "execute_result"
    }
   ],
   "source": [
    "miami_florida_outlier_rem"
   ]
  },
  {
   "cell_type": "code",
   "execution_count": 54,
   "id": "e00ee12a",
   "metadata": {
    "execution": {
     "iopub.execute_input": "2022-04-16T05:15:11.430569Z",
     "iopub.status.busy": "2022-04-16T05:15:11.430186Z",
     "iopub.status.idle": "2022-04-16T05:15:12.308544Z",
     "shell.execute_reply": "2022-04-16T05:15:12.307340Z"
    },
    "id": "yH0jTAgcZfaO",
    "outputId": "09c1d56e-73cf-4af4-d69f-fea7366b9520",
    "papermill": {
     "duration": 0.981595,
     "end_time": "2022-04-16T05:15:12.310921",
     "exception": false,
     "start_time": "2022-04-16T05:15:11.329326",
     "status": "completed"
    },
    "tags": []
   },
   "outputs": [
    {
     "data": {
      "image/png": "[encoded data removed]",
      "text/plain": [
       "<Figure size 432x288 with 1 Axes>"
      ]
     },
     "metadata": {
      "needs_background": "light"
     },
     "output_type": "display_data"
    }
   ],
   "source": [
    "sns.kdeplot(miami_florida_outlier_rem['Temperature(C)'])\n",
    "plt.title(\"Temp at florida\")\n",
    "plt.show()"
   ]
  },
  {
   "cell_type": "code",
   "execution_count": 55,
   "id": "7a40eae0",
   "metadata": {
    "execution": {
     "iopub.execute_input": "2022-04-16T05:15:12.517799Z",
     "iopub.status.busy": "2022-04-16T05:15:12.517551Z",
     "iopub.status.idle": "2022-04-16T05:15:12.533382Z",
     "shell.execute_reply": "2022-04-16T05:15:12.532855Z"
    },
    "id": "SxYasJhHZfXG",
    "papermill": {
     "duration": 0.12125,
     "end_time": "2022-04-16T05:15:12.535212",
     "exception": false,
     "start_time": "2022-04-16T05:15:12.413962",
     "status": "completed"
    },
    "tags": []
   },
   "outputs": [],
   "source": [
    "#let's see what is the temperature during peak hours and peek days\n",
    "temp_peak_hr = miami_florida_outlier_rem[miami_florida_outlier_rem['hour']==13]"
   ]
  },
  {
   "cell_type": "code",
   "execution_count": 56,
   "id": "d18d0f71",
   "metadata": {
    "execution": {
     "iopub.execute_input": "2022-04-16T05:15:12.740733Z",
     "iopub.status.busy": "2022-04-16T05:15:12.740427Z",
     "iopub.status.idle": "2022-04-16T05:15:13.756642Z",
     "shell.execute_reply": "2022-04-16T05:15:13.755903Z"
    },
    "id": "rQ_sxxzlfRQX",
    "outputId": "23d46a70-9de0-4fee-8ab3-ed46c7adca20",
    "papermill": {
     "duration": 1.120814,
     "end_time": "2022-04-16T05:15:13.758287",
     "exception": false,
     "start_time": "2022-04-16T05:15:12.637473",
     "status": "completed"
    },
    "tags": []
   },
   "outputs": [
    {
     "data": {
      "text/plain": [
       "Text(0.5, 1.0, 'Temp at peak hour at florida')"
      ]
     },
     "execution_count": 56,
     "metadata": {},
     "output_type": "execute_result"
    },
    {
     "data": {
      "image/png": "[encoded data removed]",
      "text/plain": [
       "<Figure size 432x288 with 1 Axes>"
      ]
     },
     "metadata": {
      "needs_background": "light"
     },
     "output_type": "display_data"
    }
   ],
   "source": [
    "sns.kdeplot(temp_peak_hr['Temperature(C)'], label=\"temp at peak hr\")\n",
    "sns.kdeplot(miami_florida_outlier_rem['Temperature(C)'], label=\"norm temp\")\n",
    "plt.legend()\n",
    "plt.title(\"Temp at peak hour at florida\")"
   ]
  },
  {
   "cell_type": "markdown",
   "id": "57ddef5f",
   "metadata": {
    "id": "oARxyq7yfktQ",
    "papermill": {
     "duration": 0.102439,
     "end_time": "2022-04-16T05:15:13.965025",
     "exception": false,
     "start_time": "2022-04-16T05:15:13.862586",
     "status": "completed"
    },
    "tags": []
   },
   "source": [
    "**Obs:** Accidents mostly happens at temp 20 to 30 degree celcius."
   ]
  },
  {
   "cell_type": "code",
   "execution_count": null,
   "id": "44174235",
   "metadata": {
    "id": "j1EEIXEJf0RT",
    "papermill": {
     "duration": 0.102132,
     "end_time": "2022-04-16T05:15:14.170154",
     "exception": false,
     "start_time": "2022-04-16T05:15:14.068022",
     "status": "completed"
    },
    "tags": []
   },
   "outputs": [],
   "source": []
  },
  {
   "cell_type": "markdown",
   "id": "6cec617e",
   "metadata": {
    "id": "cdTE5fwfv1e0",
    "papermill": {
     "duration": 0.156098,
     "end_time": "2022-04-16T05:15:14.470789",
     "exception": false,
     "start_time": "2022-04-16T05:15:14.314691",
     "status": "completed"
    },
    "tags": []
   },
   "source": [
    "### Road Side"
   ]
  },
  {
   "cell_type": "code",
   "execution_count": 57,
   "id": "9ae3fe0f",
   "metadata": {
    "execution": {
     "iopub.execute_input": "2022-04-16T05:15:14.798680Z",
     "iopub.status.busy": "2022-04-16T05:15:14.798084Z",
     "iopub.status.idle": "2022-04-16T05:15:14.810208Z",
     "shell.execute_reply": "2022-04-16T05:15:14.809705Z"
    },
    "id": "A9n8Ki-BfRNO",
    "outputId": "f4ba84cd-624e-4789-e6f5-dffd8ebe915b",
    "papermill": {
     "duration": 0.182512,
     "end_time": "2022-04-16T05:15:14.812035",
     "exception": false,
     "start_time": "2022-04-16T05:15:14.629523",
     "status": "completed"
    },
    "tags": []
   },
   "outputs": [
    {
     "data": {
      "text/plain": [
       "R    73977\n",
       "L    32919\n",
       "Name: Side, dtype: int64"
      ]
     },
     "execution_count": 57,
     "metadata": {},
     "output_type": "execute_result"
    }
   ],
   "source": [
    "miami_florida['Side'].value_counts()"
   ]
  },
  {
   "cell_type": "code",
   "execution_count": 58,
   "id": "a92ec66f",
   "metadata": {
    "execution": {
     "iopub.execute_input": "2022-04-16T05:15:15.131507Z",
     "iopub.status.busy": "2022-04-16T05:15:15.130750Z",
     "iopub.status.idle": "2022-04-16T05:15:15.294278Z",
     "shell.execute_reply": "2022-04-16T05:15:15.293620Z"
    },
    "id": "iUKET3GffRKP",
    "outputId": "d5f98093-5e10-46a7-a212-358c49d54933",
    "papermill": {
     "duration": 0.321691,
     "end_time": "2022-04-16T05:15:15.296311",
     "exception": false,
     "start_time": "2022-04-16T05:15:14.974620",
     "status": "completed"
    },
    "tags": []
   },
   "outputs": [
    {
     "data": {
      "text/plain": [
       "Text(0, 0.5, 'accident count')"
      ]
     },
     "execution_count": 58,
     "metadata": {},
     "output_type": "execute_result"
    },
    {
     "data": {
      "image/png": "[encoded data removed]",
      "text/plain": [
       "<Figure size 432x288 with 1 Axes>"
      ]
     },
     "metadata": {
      "needs_background": "light"
     },
     "output_type": "display_data"
    }
   ],
   "source": [
    "plt.bar(miami_florida['Side'].value_counts().keys(), miami_florida['Side'].value_counts())\n",
    "plt.title(\"Road side and accident count\")\n",
    "plt.xlabel(\"side\")\n",
    "plt.ylabel(\"accident count\")"
   ]
  },
  {
   "cell_type": "markdown",
   "id": "b8f6ce46",
   "metadata": {
    "id": "x67_HYB0hJ02",
    "papermill": {
     "duration": 0.158067,
     "end_time": "2022-04-16T05:15:15.614538",
     "exception": false,
     "start_time": "2022-04-16T05:15:15.456471",
     "status": "completed"
    },
    "tags": []
   },
   "source": [
    "Most of the accidents happens on right side of the road."
   ]
  },
  {
   "cell_type": "markdown",
   "id": "0d1cc705",
   "metadata": {
    "id": "O7RocSOGohHa",
    "papermill": {
     "duration": 0.157097,
     "end_time": "2022-04-16T05:15:15.928320",
     "exception": false,
     "start_time": "2022-04-16T05:15:15.771223",
     "status": "completed"
    },
    "tags": []
   },
   "source": [
    "### Airport_Code"
   ]
  },
  {
   "cell_type": "code",
   "execution_count": 59,
   "id": "c94c6ac2",
   "metadata": {
    "execution": {
     "iopub.execute_input": "2022-04-16T05:15:16.188918Z",
     "iopub.status.busy": "2022-04-16T05:15:16.188421Z",
     "iopub.status.idle": "2022-04-16T05:15:16.200405Z",
     "shell.execute_reply": "2022-04-16T05:15:16.199772Z"
    },
    "id": "kD5Rq8IvhZ_5",
    "outputId": "85696fcf-ec60-46e9-c89d-a01a1429aa6e",
    "papermill": {
     "duration": 0.118398,
     "end_time": "2022-04-16T05:15:16.202317",
     "exception": false,
     "start_time": "2022-04-16T05:15:16.083919",
     "status": "completed"
    },
    "tags": []
   },
   "outputs": [
    {
     "data": {
      "text/plain": [
       "KMIA    41457\n",
       "KTMB    34994\n",
       "KOPF    16494\n",
       "KHWO    12485\n",
       "KHST     1466\n",
       "Name: Airport_Code, dtype: int64"
      ]
     },
     "execution_count": 59,
     "metadata": {},
     "output_type": "execute_result"
    }
   ],
   "source": [
    "miami_florida['Airport_Code'].value_counts()"
   ]
  },
  {
   "cell_type": "markdown",
   "id": "bc778933",
   "metadata": {
    "id": "kSGvkiNlqspn",
    "papermill": {
     "duration": 0.106879,
     "end_time": "2022-04-16T05:15:16.414061",
     "exception": false,
     "start_time": "2022-04-16T05:15:16.307182",
     "status": "completed"
    },
    "tags": []
   },
   "source": [
    "Also the \"Miami International Airport\" is more accident prone area."
   ]
  },
  {
   "cell_type": "markdown",
   "id": "e63ab100",
   "metadata": {
    "id": "CAbkq7SXrn0Q",
    "papermill": {
     "duration": 0.106065,
     "end_time": "2022-04-16T05:15:16.625384",
     "exception": false,
     "start_time": "2022-04-16T05:15:16.519319",
     "status": "completed"
    },
    "tags": []
   },
   "source": [
    "**Wind_Chill(F)**"
   ]
  },
  {
   "cell_type": "code",
   "execution_count": 60,
   "id": "bedabb01",
   "metadata": {
    "execution": {
     "iopub.execute_input": "2022-04-16T05:15:16.837798Z",
     "iopub.status.busy": "2022-04-16T05:15:16.837545Z",
     "iopub.status.idle": "2022-04-16T05:15:17.082012Z",
     "shell.execute_reply": "2022-04-16T05:15:17.080998Z"
    },
    "id": "PjM7IhK5rnmX",
    "outputId": "f38669ce-e298-446c-f914-d050fd3e9b2c",
    "papermill": {
     "duration": 0.353145,
     "end_time": "2022-04-16T05:15:17.084552",
     "exception": false,
     "start_time": "2022-04-16T05:15:16.731407",
     "status": "completed"
    },
    "tags": []
   },
   "outputs": [
    {
     "data": {
      "text/plain": [
       "Text(0.5, 1.0, 'Wind Chill(f) at Florida')"
      ]
     },
     "execution_count": 60,
     "metadata": {},
     "output_type": "execute_result"
    },
    {
     "data": {
      "image/png": "[encoded data removed]",
      "text/plain": [
       "<Figure size 432x288 with 1 Axes>"
      ]
     },
     "metadata": {
      "needs_background": "light"
     },
     "output_type": "display_data"
    }
   ],
   "source": [
    "low_hr= miami_florida[miami_florida['hour'] ==0]\n",
    "peak_hr= miami_florida[miami_florida['hour'] ==13]\n",
    "\n",
    "sns.kdeplot(peak_hr['Wind_Chill(F)'].dropna(), label=\"peak_hr\")\n",
    "sns.kdeplot(low_hr['Wind_Chill(F)'].dropna(), label=\"low_hr\")\n",
    "plt.legend()\n",
    "plt.title(\"Wind Chill(f) at Florida\")"
   ]
  },
  {
   "cell_type": "markdown",
   "id": "a693b7c8",
   "metadata": {
    "id": "kw0SGbU6wkQG",
    "papermill": {
     "duration": 0.159334,
     "end_time": "2022-04-16T05:15:17.402925",
     "exception": false,
     "start_time": "2022-04-16T05:15:17.243591",
     "status": "completed"
    },
    "tags": []
   },
   "source": [
    "**Obs:** Wind Chill is more while accident."
   ]
  },
  {
   "cell_type": "code",
   "execution_count": null,
   "id": "3296463d",
   "metadata": {
    "id": "WWbjvz8hwztW",
    "papermill": {
     "duration": 0.106014,
     "end_time": "2022-04-16T05:15:17.615821",
     "exception": false,
     "start_time": "2022-04-16T05:15:17.509807",
     "status": "completed"
    },
    "tags": []
   },
   "outputs": [],
   "source": []
  },
  {
   "cell_type": "code",
   "execution_count": 61,
   "id": "1518fbde",
   "metadata": {
    "execution": {
     "iopub.execute_input": "2022-04-16T05:15:17.830735Z",
     "iopub.status.busy": "2022-04-16T05:15:17.830483Z",
     "iopub.status.idle": "2022-04-16T05:15:18.195062Z",
     "shell.execute_reply": "2022-04-16T05:15:18.193746Z"
    },
    "id": "2P4JQGVSw0E7",
    "outputId": "2c648076-efbe-40cd-ea54-c28fa0eb9a5c",
    "papermill": {
     "duration": 0.47399,
     "end_time": "2022-04-16T05:15:18.197205",
     "exception": false,
     "start_time": "2022-04-16T05:15:17.723215",
     "status": "completed"
    },
    "tags": []
   },
   "outputs": [
    {
     "data": {
      "text/plain": [
       "Text(0.5, 1.0, 'Wind Chill(f) at Florida')"
      ]
     },
     "execution_count": 61,
     "metadata": {},
     "output_type": "execute_result"
    },
    {
     "data": {
      "image/png": "[encoded data removed]",
      "text/plain": [
       "<Figure size 432x288 with 1 Axes>"
      ]
     },
     "metadata": {
      "needs_background": "light"
     },
     "output_type": "display_data"
    }
   ],
   "source": [
    "low_day= miami_florida[miami_florida['week'] ==2]\n",
    "peak_day= miami_florida[miami_florida['week'] ==5]\n",
    "\n",
    "sns.kdeplot(peak_day['Wind_Chill(F)'].dropna(), label=\"peak_day\")\n",
    "sns.kdeplot(low_day['Wind_Chill(F)'].dropna(), label=\"low_day\")\n",
    "plt.legend()\n",
    "plt.title(\"Wind Chill(f) at Florida\")"
   ]
  },
  {
   "cell_type": "markdown",
   "id": "0939ab53",
   "metadata": {
    "id": "SFW5SkICxERA",
    "papermill": {
     "duration": 0.161984,
     "end_time": "2022-04-16T05:15:18.520448",
     "exception": false,
     "start_time": "2022-04-16T05:15:18.358464",
     "status": "completed"
    },
    "tags": []
   },
   "source": [
    "**Obs**: No effect of windchill"
   ]
  },
  {
   "cell_type": "markdown",
   "id": "69e2d6e4",
   "metadata": {
    "id": "72GGeDJmukvj",
    "papermill": {
     "duration": 0.159378,
     "end_time": "2022-04-16T05:15:18.839516",
     "exception": false,
     "start_time": "2022-04-16T05:15:18.680138",
     "status": "completed"
    },
    "tags": []
   },
   "source": [
    "**Pressuer(in)**"
   ]
  },
  {
   "cell_type": "code",
   "execution_count": 62,
   "id": "1c6233ba",
   "metadata": {
    "execution": {
     "iopub.execute_input": "2022-04-16T05:15:19.165371Z",
     "iopub.status.busy": "2022-04-16T05:15:19.164286Z",
     "iopub.status.idle": "2022-04-16T05:15:19.884112Z",
     "shell.execute_reply": "2022-04-16T05:15:19.882918Z"
    },
    "id": "A2oniVaSusKG",
    "outputId": "3b49da6d-cd62-49ac-8fef-245288d9dd1c",
    "papermill": {
     "duration": 0.884457,
     "end_time": "2022-04-16T05:15:19.886418",
     "exception": false,
     "start_time": "2022-04-16T05:15:19.001961",
     "status": "completed"
    },
    "tags": []
   },
   "outputs": [
    {
     "data": {
      "text/plain": [
       "Text(0.5, 1.0, 'Pressure in Miami Florida')"
      ]
     },
     "execution_count": 62,
     "metadata": {},
     "output_type": "execute_result"
    },
    {
     "data": {
      "image/png": "[encoded data removed]",
      "text/plain": [
       "<Figure size 432x288 with 1 Axes>"
      ]
     },
     "metadata": {
      "needs_background": "light"
     },
     "output_type": "display_data"
    }
   ],
   "source": [
    "sns.kdeplot(miami_florida['Pressure(in)'])\n",
    "plt.title(\"Pressure in Miami Florida\")"
   ]
  },
  {
   "cell_type": "code",
   "execution_count": 63,
   "id": "d0625ec5",
   "metadata": {
    "execution": {
     "iopub.execute_input": "2022-04-16T05:15:20.104276Z",
     "iopub.status.busy": "2022-04-16T05:15:20.103523Z",
     "iopub.status.idle": "2022-04-16T05:15:21.006748Z",
     "shell.execute_reply": "2022-04-16T05:15:21.005928Z"
    },
    "id": "7A7jYNk4ukvj",
    "outputId": "f54a720c-b7f8-450a-cb57-14cf9e36ca42",
    "papermill": {
     "duration": 1.01494,
     "end_time": "2022-04-16T05:15:21.008476",
     "exception": false,
     "start_time": "2022-04-16T05:15:19.993536",
     "status": "completed"
    },
    "tags": []
   },
   "outputs": [
    {
     "data": {
      "text/plain": [
       "<matplotlib.legend.Legend at 0x7fbd9a6f3050>"
      ]
     },
     "execution_count": 63,
     "metadata": {},
     "output_type": "execute_result"
    },
    {
     "data": {
      "image/png": "[encoded data removed]",
      "text/plain": [
       "<Figure size 432x288 with 1 Axes>"
      ]
     },
     "metadata": {
      "needs_background": "light"
     },
     "output_type": "display_data"
    }
   ],
   "source": [
    "peak_hr= miami_florida[miami_florida['hour'] ==13]\n",
    "sns.kdeplot(miami_florida['Pressure(in)'], color='red', label='miami')\n",
    "sns.kdeplot(peak_hr['Pressure(in)'], color='pink', label='peak_hr_13')\n",
    "plt.legend()"
   ]
  },
  {
   "cell_type": "code",
   "execution_count": 64,
   "id": "2162a064",
   "metadata": {
    "execution": {
     "iopub.execute_input": "2022-04-16T05:15:21.231853Z",
     "iopub.status.busy": "2022-04-16T05:15:21.231352Z",
     "iopub.status.idle": "2022-04-16T05:15:22.349968Z",
     "shell.execute_reply": "2022-04-16T05:15:22.349163Z"
    },
    "id": "WRQNfrcPvJnM",
    "outputId": "3e0daadf-17f8-424b-ba83-ddd216463517",
    "papermill": {
     "duration": 1.232391,
     "end_time": "2022-04-16T05:15:22.351856",
     "exception": false,
     "start_time": "2022-04-16T05:15:21.119465",
     "status": "completed"
    },
    "tags": []
   },
   "outputs": [
    {
     "data": {
      "text/plain": [
       "<matplotlib.legend.Legend at 0x7fbd9a6f3490>"
      ]
     },
     "execution_count": 64,
     "metadata": {},
     "output_type": "execute_result"
    },
    {
     "data": {
      "image/png": "[encoded data removed]",
      "text/plain": [
       "<Figure size 432x288 with 1 Axes>"
      ]
     },
     "metadata": {
      "needs_background": "light"
     },
     "output_type": "display_data"
    }
   ],
   "source": [
    "peak_hr= miami_florida[miami_florida['hour'] ==1]\n",
    "sns.kdeplot(miami_florida['Pressure(in)'], color='red', label='miami')\n",
    "sns.kdeplot(peak_hr['Pressure(in)'], color='pink', label='peak_hr_1')\n",
    "plt.legend()"
   ]
  },
  {
   "cell_type": "code",
   "execution_count": 65,
   "id": "6e35de8d",
   "metadata": {
    "execution": {
     "iopub.execute_input": "2022-04-16T05:15:22.659482Z",
     "iopub.status.busy": "2022-04-16T05:15:22.658983Z",
     "iopub.status.idle": "2022-04-16T05:15:22.664171Z",
     "shell.execute_reply": "2022-04-16T05:15:22.663682Z"
    },
    "id": "mxZwPT6evC7i",
    "outputId": "1134f075-889a-473e-c59e-18e54dbbc97e",
    "papermill": {
     "duration": 0.174946,
     "end_time": "2022-04-16T05:15:22.665946",
     "exception": false,
     "start_time": "2022-04-16T05:15:22.491000",
     "status": "completed"
    },
    "tags": []
   },
   "outputs": [
    {
     "data": {
      "text/plain": [
       "Index(['ID', 'Severity', 'Start_Time', 'End_Time', 'Start_Lat', 'Start_Lng',\n",
       "       'End_Lat', 'End_Lng', 'Distance(mi)', 'Description', 'Number', 'Street',\n",
       "       'Side', 'City', 'County', 'State', 'Zipcode', 'Country', 'Timezone',\n",
       "       'Airport_Code', 'Weather_Timestamp', 'Temperature(F)', 'Wind_Chill(F)',\n",
       "       'Humidity(%)', 'Pressure(in)', 'Visibility(mi)', 'Wind_Direction',\n",
       "       'Wind_Speed(mph)', 'Precipitation(in)', 'Weather_Condition', 'Amenity',\n",
       "       'Bump', 'Crossing', 'Give_Way', 'Junction', 'No_Exit', 'Railway',\n",
       "       'Roundabout', 'Station', 'Stop', 'Traffic_Calming', 'Traffic_Signal',\n",
       "       'Turning_Loop', 'Sunrise_Sunset', 'Civil_Twilight', 'Nautical_Twilight',\n",
       "       'Astronomical_Twilight', 'hour', 'week', 'Year', 'Month'],\n",
       "      dtype='object')"
      ]
     },
     "execution_count": 65,
     "metadata": {},
     "output_type": "execute_result"
    }
   ],
   "source": [
    "miami_florida.columns"
   ]
  },
  {
   "cell_type": "markdown",
   "id": "13f85d74",
   "metadata": {
    "id": "65SuVsOSt32h",
    "papermill": {
     "duration": 0.166741,
     "end_time": "2022-04-16T05:15:22.999830",
     "exception": false,
     "start_time": "2022-04-16T05:15:22.833089",
     "status": "completed"
    },
    "tags": []
   },
   "source": [
    "### Visualizing boolean feature\n"
   ]
  },
  {
   "cell_type": "code",
   "execution_count": 66,
   "id": "5b9299f3",
   "metadata": {
    "execution": {
     "iopub.execute_input": "2022-04-16T05:15:23.331748Z",
     "iopub.status.busy": "2022-04-16T05:15:23.331369Z",
     "iopub.status.idle": "2022-04-16T05:15:23.336290Z",
     "shell.execute_reply": "2022-04-16T05:15:23.335509Z"
    },
    "id": "9RivXw7ixcD-",
    "papermill": {
     "duration": 0.173003,
     "end_time": "2022-04-16T05:15:23.338599",
     "exception": false,
     "start_time": "2022-04-16T05:15:23.165596",
     "status": "completed"
    },
    "tags": []
   },
   "outputs": [],
   "source": [
    "bool_var=['Amenity',\n",
    "       'Bump', 'Crossing', 'Give_Way', 'Junction', 'No_Exit', 'Railway',\n",
    "       'Roundabout', 'Station', 'Stop', 'Traffic_Calming', 'Traffic_Signal',\n",
    "       'Turning_Loop']"
   ]
  },
  {
   "cell_type": "code",
   "execution_count": 67,
   "id": "d1e7ac30",
   "metadata": {
    "execution": {
     "iopub.execute_input": "2022-04-16T05:15:23.673884Z",
     "iopub.status.busy": "2022-04-16T05:15:23.673568Z",
     "iopub.status.idle": "2022-04-16T05:15:25.260546Z",
     "shell.execute_reply": "2022-04-16T05:15:25.259906Z"
    },
    "id": "0ZeMpnFjrnRN",
    "outputId": "102c9eaa-7593-4347-cd48-475d264fa6b8",
    "papermill": {
     "duration": 1.757423,
     "end_time": "2022-04-16T05:15:25.263156",
     "exception": false,
     "start_time": "2022-04-16T05:15:23.505733",
     "status": "completed"
    },
    "tags": []
   },
   "outputs": [
    {
     "data": {
      "image/png": "[encoded data removed]",
      "text/plain": [
       "<Figure size 432x288 with 1 Axes>"
      ]
     },
     "metadata": {
      "needs_background": "light"
     },
     "output_type": "display_data"
    },
    {
     "data": {
      "image/png": "[encoded data removed]",
      "text/plain": [
       "<Figure size 432x288 with 1 Axes>"
      ]
     },
     "metadata": {
      "needs_background": "light"
     },
     "output_type": "display_data"
    },
    {
     "data": {
      "image/png": "[encoded data removed]",
      "text/plain": [
       "<Figure size 432x288 with 1 Axes>"
      ]
     },
     "metadata": {
      "needs_background": "light"
     },
     "output_type": "display_data"
    },
    {
     "data": {
      "image/png": "[encoded data removed]",
      "text/plain": [
       "<Figure size 432x288 with 1 Axes>"
      ]
     },
     "metadata": {
      "needs_background": "light"
     },
     "output_type": "display_data"
    },
    {
     "data": {
      "image/png": "[encoded data removed]",
      "text/plain": [
       "<Figure size 432x288 with 1 Axes>"
      ]
     },
     "metadata": {
      "needs_background": "light"
     },
     "output_type": "display_data"
    },
    {
     "data": {
      "image/png": "[encoded data removed]",
      "text/plain": [
       "<Figure size 432x288 with 1 Axes>"
      ]
     },
     "metadata": {
      "needs_background": "light"
     },
     "output_type": "display_data"
    },
    {
     "data": {
      "image/png": "[encoded data removed]",
      "text/plain": [
       "<Figure size 432x288 with 1 Axes>"
      ]
     },
     "metadata": {
      "needs_background": "light"
     },
     "output_type": "display_data"
    },
    {
     "data": {
      "image/png": "[encoded data removed]",
      "text/plain": [
       "<Figure size 432x288 with 1 Axes>"
      ]
     },
     "metadata": {
      "needs_background": "light"
     },
     "output_type": "display_data"
    },
    {
     "data": {
      "image/png": "[encoded data removed]",
      "text/plain": [
       "<Figure size 432x288 with 1 Axes>"
      ]
     },
     "metadata": {
      "needs_background": "light"
     },
     "output_type": "display_data"
    },
    {
     "data": {
      "image/png": "[encoded data removed]",
      "text/plain": [
       "<Figure size 432x288 with 1 Axes>"
      ]
     },
     "metadata": {
      "needs_background": "light"
     },
     "output_type": "display_data"
    },
    {
     "data": {
      "image/png": "[encoded data removed]",
      "text/plain": [
       "<Figure size 432x288 with 1 Axes>"
      ]
     },
     "metadata": {
      "needs_background": "light"
     },
     "output_type": "display_data"
    },
    {
     "data": {
      "image/png": "[encoded data removed]",
      "text/plain": [
       "<Figure size 432x288 with 1 Axes>"
      ]
     },
     "metadata": {
      "needs_background": "light"
     },
     "output_type": "display_data"
    },
    {
     "data": {
      "image/png": "[encoded data removed]",
      "text/plain": [
       "<Figure size 432x288 with 1 Axes>"
      ]
     },
     "metadata": {
      "needs_background": "light"
     },
     "output_type": "display_data"
    }
   ],
   "source": [
    "for i in bool_var:\n",
    "  plt.bar(['False', 'True'],miami_florida[i].value_counts())\n",
    "  plt.title(i)\n",
    "  plt.show()"
   ]
  },
  {
   "cell_type": "markdown",
   "id": "b70c3e5a",
   "metadata": {
    "id": "I_I5F0-v0RTc",
    "papermill": {
     "duration": 0.178766,
     "end_time": "2022-04-16T05:15:25.624297",
     "exception": false,
     "start_time": "2022-04-16T05:15:25.445531",
     "status": "completed"
    },
    "tags": []
   },
   "source": [
    "**Obs:** By looking at above graphs it seems accident might happens often because of absence of these features in the area. Like \n",
    "* \"Bump\" is necessary to slow the car speed. \n",
    "* Most places doesn't have traffic signal.\n"
   ]
  },
  {
   "cell_type": "markdown",
   "id": "423cea67",
   "metadata": {
    "id": "b_z8LIvmzjra",
    "papermill": {
     "duration": 0.177965,
     "end_time": "2022-04-16T05:15:25.979499",
     "exception": false,
     "start_time": "2022-04-16T05:15:25.801534",
     "status": "completed"
    },
    "tags": []
   },
   "source": [
    "### visualizing twilight variable"
   ]
  },
  {
   "cell_type": "code",
   "execution_count": 68,
   "id": "a3c76670",
   "metadata": {
    "execution": {
     "iopub.execute_input": "2022-04-16T05:15:26.336443Z",
     "iopub.status.busy": "2022-04-16T05:15:26.335784Z",
     "iopub.status.idle": "2022-04-16T05:15:26.339190Z",
     "shell.execute_reply": "2022-04-16T05:15:26.338704Z"
    },
    "id": "j01PxHE9rnOY",
    "papermill": {
     "duration": 0.18374,
     "end_time": "2022-04-16T05:15:26.340888",
     "exception": false,
     "start_time": "2022-04-16T05:15:26.157148",
     "status": "completed"
    },
    "tags": []
   },
   "outputs": [],
   "source": [
    "list1 =[ 'Sunrise_Sunset', 'Civil_Twilight', 'Nautical_Twilight',\n",
    "       'Astronomical_Twilight']"
   ]
  },
  {
   "cell_type": "code",
   "execution_count": 69,
   "id": "71ebf8eb",
   "metadata": {
    "execution": {
     "iopub.execute_input": "2022-04-16T05:15:26.660625Z",
     "iopub.status.busy": "2022-04-16T05:15:26.660188Z",
     "iopub.status.idle": "2022-04-16T05:15:27.256263Z",
     "shell.execute_reply": "2022-04-16T05:15:27.255667Z"
    },
    "id": "ZLDdxKdRrnLg",
    "outputId": "f8c0c03f-6a62-49b9-9d2d-c84797c226a5",
    "papermill": {
     "duration": 0.772317,
     "end_time": "2022-04-16T05:15:27.258410",
     "exception": false,
     "start_time": "2022-04-16T05:15:26.486093",
     "status": "completed"
    },
    "tags": []
   },
   "outputs": [
    {
     "data": {
      "image/png": "[encoded data removed]",
      "text/plain": [
       "<Figure size 432x288 with 1 Axes>"
      ]
     },
     "metadata": {
      "needs_background": "light"
     },
     "output_type": "display_data"
    },
    {
     "data": {
      "image/png": "[encoded data removed]",
      "text/plain": [
       "<Figure size 432x288 with 1 Axes>"
      ]
     },
     "metadata": {
      "needs_background": "light"
     },
     "output_type": "display_data"
    },
    {
     "data": {
      "image/png": "[encoded data removed]",
      "text/plain": [
       "<Figure size 432x288 with 1 Axes>"
      ]
     },
     "metadata": {
      "needs_background": "light"
     },
     "output_type": "display_data"
    },
    {
     "data": {
      "image/png": "[encoded data removed]",
      "text/plain": [
       "<Figure size 432x288 with 1 Axes>"
      ]
     },
     "metadata": {
      "needs_background": "light"
     },
     "output_type": "display_data"
    }
   ],
   "source": [
    "for i in list1:\n",
    "  plt.bar(miami_florida[i].value_counts().keys(), miami_florida[i].value_counts())\n",
    "  plt.title(i)\n",
    "  plt.show()"
   ]
  },
  {
   "cell_type": "markdown",
   "id": "e91328c9",
   "metadata": {
    "id": "XxM5ag-A1Xke",
    "papermill": {
     "duration": 0.157631,
     "end_time": "2022-04-16T05:15:27.603868",
     "exception": false,
     "start_time": "2022-04-16T05:15:27.446237",
     "status": "completed"
    },
    "tags": []
   },
   "source": [
    "**Obs:** Most of the accidents happens at day time and hence we can take good measures to lower the accident percentage in the area."
   ]
  },
  {
   "cell_type": "markdown",
   "id": "16c1559c",
   "metadata": {
    "id": "cAOABru110WT",
    "papermill": {
     "duration": 0.120102,
     "end_time": "2022-04-16T05:15:27.845310",
     "exception": false,
     "start_time": "2022-04-16T05:15:27.725208",
     "status": "completed"
    },
    "tags": []
   },
   "source": [
    "### Conclusion\n",
    "* Street number has most no of missing values.\n",
    "* Most of the accidents took place in right side of street.\n",
    "* Miami is a city in florida, which is a 3rd most populus state in USA. That could be a reasonable reason why miami has highest no of accidents.\n",
    "* population is not the reason as los angles has highest population but it is second place in cities by accident and it's accident's rate is 40,000 less than miami.\n",
    "* Miami-Dade has the highest accident count in Florida state.\n",
    "* CANADA ranks 1 in highest accident state in USA. And it is also the most populous state in USA.\n",
    "* the \"Miami International Airport\" is more accident prone area.\n",
    "* 2021 was the deadliest year in whole USA and in Miami also.\n",
    "* Most of the accidents happens at day time and hence we can take good measures to lower the accident percentage in the area."
   ]
  },
  {
   "cell_type": "code",
   "execution_count": null,
   "id": "b0956a0d",
   "metadata": {
    "id": "fQPF_7lH13Zr",
    "papermill": {
     "duration": 0.121338,
     "end_time": "2022-04-16T05:15:28.086493",
     "exception": false,
     "start_time": "2022-04-16T05:15:27.965155",
     "status": "completed"
    },
    "tags": []
   },
   "outputs": [],
   "source": []
  }
 ],
 "metadata": {
  "kernelspec": {
   "display_name": "Python 3",
   "language": "python",
   "name": "python3"
  },
  "language_info": {
   "codemirror_mode": {
    "name": "ipython",
    "version": 3
   },
   "file_extension": ".py",
   "mimetype": "text/x-python",
   "name": "python",
   "nbconvert_exporter": "python",
   "pygments_lexer": "ipython3",
   "version": "3.7.12"
  },
  "papermill": {
   "default_parameters": {},
   "duration": 95.001598,
   "end_time": "2022-04-16T05:15:30.232232",
   "environment_variables": {},
   "exception": null,
   "input_path": "__notebook__.ipynb",
   "output_path": "__notebook__.ipynb",
   "parameters": {},
   "start_time": "2022-04-16T05:13:55.230634",
   "version": "2.3.4"
  }
 },
 "nbformat": 4,
 "nbformat_minor": 5
}
